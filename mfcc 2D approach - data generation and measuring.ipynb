{
 "cells": [
  {
   "cell_type": "code",
   "execution_count": 80,
   "metadata": {
    "ExecuteTime": {
     "end_time": "2021-04-03T12:24:24.661880Z",
     "start_time": "2021-04-03T12:24:24.652098Z"
    }
   },
   "outputs": [],
   "source": [
    "import json\n",
    "import numpy as np\n",
    "import os\n",
    "import math\n",
    "import librosa\n",
    "from sklearn.model_selection import train_test_split\n",
    "from Praat import Praat_IdeaLogic as PLogic\n",
    "import matplotlib.pyplot as plt\n",
    "from tqdm.notebook import tqdm\n",
    "import librosa.display\n",
    "import glob\n",
    "import pandas as pd\n",
    "import joblib\n",
    "from pydub import AudioSegment;\n",
    "import pydub;"
   ]
  },
  {
   "cell_type": "code",
   "execution_count": 76,
   "metadata": {
    "ExecuteTime": {
     "end_time": "2021-04-03T12:23:56.903839Z",
     "start_time": "2021-04-03T12:23:56.898225Z"
    }
   },
   "outputs": [],
   "source": [
    "# audio_file = \"all_actors/03-01-01-01-01-01-01.wav\"\n",
    "# X, sample_rate = librosa.load(audio_file,  res_type='kaiser_fast')\n",
    "# mfcc = librosa.feature.mfcc(y=X, sr=sample_rate, n_mfcc=40).T"
   ]
  },
  {
   "cell_type": "code",
   "execution_count": 82,
   "metadata": {
    "ExecuteTime": {
     "end_time": "2021-04-03T12:25:33.243761Z",
     "start_time": "2021-04-03T12:25:33.202983Z"
    },
    "code_folding": [
     0,
     8,
     28
    ]
   },
   "outputs": [],
   "source": [
    "def extract(audio_file):\n",
    "    name=os.path.basename(audio_file)\n",
    "    name=os.path.splitext(name)[0]\n",
    "    label = int(name[7:8]) - 1\n",
    "    \n",
    "    return label, audio_file\n",
    "    \n",
    "    \n",
    "def get_mfcc_2D_with_audio_padding(path, duration_s = 7, sample_rate = 22050, show=False):\n",
    "    # pad\n",
    "    audio = pydub.AudioSegment.silent(duration=(duration_s*1000))    # The length you want in ms \n",
    "    audio = audio.overlay(pydub.AudioSegment.from_wav(path).set_frame_rate(22050))\n",
    "    raw = audio.split_to_mono()[0].get_array_of_samples() \n",
    "    raw_np = np.array(raw).astype('float64')\n",
    "    \n",
    "    # get mfcc\n",
    "    mfccs = librosa.feature.mfcc(y=raw_np, sr=sample_rate, n_mfcc=40)\n",
    "    \n",
    "    if show:\n",
    "        plt.figure(figsize=(17.5, 5))\n",
    "        librosa.display.specshow(mfccs, \n",
    "                                 x_axis=\"time\", \n",
    "                                 sr=sample_rate)\n",
    "        plt.colorbar(format=\"%+2.f\")\n",
    "        plt.show()\n",
    "    return mfccs.T\n",
    "\n",
    "    \n",
    "def get_mfcc_2D_segmentation(audio_file, num_mfcc=40, n_fft=2048, hop_length=512, num_segments=5):\n",
    "    SAMPLE_RATE = 22050\n",
    "    TRACK_DURATION = 0.5 # measured in seconds\n",
    "    SAMPLES_PER_TRACK = SAMPLE_RATE * TRACK_DURATION\n",
    "    \n",
    "    samples_per_segment = int(SAMPLES_PER_TRACK / num_segments)\n",
    "    num_mfcc_vectors_per_segment = math.ceil(samples_per_segment / hop_length)\n",
    "    \n",
    "    signal, sample_rate = librosa.load(file_path, sr=SAMPLE_RATE)\n",
    "\n",
    "    # process all segments of audio file\n",
    "    for d in range(num_segments):\n",
    "\n",
    "        # calculate start and finish sample for current segment\n",
    "        start = samples_per_segment * d\n",
    "        finish = start + samples_per_segment\n",
    "\n",
    "        # extract mfcc\n",
    "        mfcc = librosa.feature.mfcc(signal[start:finish], sample_rate, n_mfcc=num_mfcc, n_fft=n_fft, hop_length=hop_length)\n",
    "        mfcc = mfcc.T\n",
    "\n",
    "        # store only mfcc feature with expected number of vectors\n",
    "        if len(mfcc) == num_mfcc_vectors_per_segment:\n",
    "            return True, mfcc\n",
    "        \n",
    "    return False, mfcc\n",
    "\n",
    "\n",
    "def return_feats(dir_name):\n",
    "    X = []\n",
    "    y = []\n",
    "    err_cnt = 0\n",
    "    err_list = []\n",
    "    exeption_list = []\n",
    "    \n",
    "    #progression bar \n",
    "    file_count = len(dir_name)\n",
    "    bar = tqdm(desc=\"generating 2D mfccs\", total=file_count)\n",
    "    tot = 0\n",
    "    \n",
    "    for file in dir_name:\n",
    "        bar.update(1)\n",
    "        tot += 1\n",
    "        label, audio_file = extract(file)\n",
    "        try:\n",
    "            X.append(get_mfcc_2D_with_audio_padding(audio_file))\n",
    "            y.append(label)\n",
    "            \n",
    "        except Exception as e:\n",
    "            \n",
    "            err_cnt += 1\n",
    "            err_list.append(audio_file)\n",
    "            exeption_list.append(str(e))\n",
    "            print(\"{}.error at:\".format(err_cnt), audio_file)\n",
    "            \n",
    "        \n",
    "    return X, y, err_cnt, err_list, exeption_list"
   ]
  },
  {
   "cell_type": "code",
   "execution_count": 84,
   "metadata": {
    "ExecuteTime": {
     "end_time": "2021-04-03T12:29:15.594047Z",
     "start_time": "2021-04-03T12:25:34.481292Z"
    }
   },
   "outputs": [
    {
     "data": {
      "application/vnd.jupyter.widget-view+json": {
       "model_id": "c3935d06bc3841a7a031acfb2ca01602",
       "version_major": 2,
       "version_minor": 0
      },
      "text/plain": [
       "HBox(children=(FloatProgress(value=0.0, description='generating 2D mfccs', max=5252.0, style=ProgressStyle(des…"
      ]
     },
     "metadata": {},
     "output_type": "display_data"
    },
    {
     "name": "stderr",
     "output_type": "stream",
     "text": [
      "/opt/conda/lib/python3.7/site-packages/pydub/utils.py:193: RuntimeWarning: Couldn't find ffprobe or avprobe - defaulting to ffprobe, but may not work\n",
      "  warn(\"Couldn't find ffprobe or avprobe - defaulting to ffprobe, but may not work\", RuntimeWarning)\n"
     ]
    },
    {
     "name": "stdout",
     "output_type": "stream",
     "text": [
      "1.error at: toronto_ds/conc_data/47-78-05-85-45-58-80.wav\n"
     ]
    },
    {
     "name": "stderr",
     "output_type": "stream",
     "text": [
      "/opt/conda/lib/python3.7/site-packages/pydub/utils.py:193: RuntimeWarning: Couldn't find ffprobe or avprobe - defaulting to ffprobe, but may not work\n",
      "  warn(\"Couldn't find ffprobe or avprobe - defaulting to ffprobe, but may not work\", RuntimeWarning)\n"
     ]
    },
    {
     "name": "stdout",
     "output_type": "stream",
     "text": [
      "2.error at: toronto_ds/conc_data/45-19-06-13-72-83-26.wav\n"
     ]
    }
   ],
   "source": [
    "dir_name = glob.glob(\"toronto_ds/conc_data/*.wav\")\n",
    "X, y, err_cnt, err_list, exeption_list = return_feats(dir_name)"
   ]
  },
  {
   "cell_type": "code",
   "execution_count": 92,
   "metadata": {
    "ExecuteTime": {
     "end_time": "2021-04-03T12:34:31.691777Z",
     "start_time": "2021-04-03T12:34:31.680467Z"
    }
   },
   "outputs": [
    {
     "name": "stdout",
     "output_type": "stream",
     "text": [
      "exeption list:  [\"[Errno 2] No such file or directory: 'ffprobe': 'ffprobe'\"]\n",
      "error at:  ['toronto_ds/conc_data/47-78-05-85-45-58-80.wav', 'toronto_ds/conc_data/45-19-06-13-72-83-26.wav']\n",
      "error count:  2\n"
     ]
    }
   ],
   "source": [
    "print(\"exeption list: \", np.unique(np.array(exeption_list)))\n",
    "print(\"error at: \",err_list)\n",
    "print(\"error count: \",err_cnt)"
   ]
  },
  {
   "cell_type": "code",
   "execution_count": 95,
   "metadata": {
    "ExecuteTime": {
     "end_time": "2021-04-03T12:42:14.117344Z",
     "start_time": "2021-04-03T12:42:10.806380Z"
    }
   },
   "outputs": [
    {
     "data": {
      "text/plain": [
       "['2D mfccs padding/y.joblib']"
      ]
     },
     "execution_count": 95,
     "metadata": {},
     "output_type": "execute_result"
    }
   ],
   "source": [
    "X_name, y_name = '2D mfccs padding/X.joblib', '2D mfccs padding/y.joblib'\n",
    "X, y = np.asarray(X), np.asarray(y)\n",
    "y = np.asarray(y)\n",
    "joblib.dump(X, X_name)\n",
    "joblib.dump(y, y_name)"
   ]
  },
  {
   "cell_type": "markdown",
   "metadata": {},
   "source": [
    "# mesuring audio durations "
   ]
  },
  {
   "cell_type": "code",
   "execution_count": 94,
   "metadata": {
    "ExecuteTime": {
     "end_time": "2021-04-03T12:37:34.102678Z",
     "start_time": "2021-04-03T12:37:34.092487Z"
    },
    "code_folding": [
     0
    ]
   },
   "outputs": [],
   "source": [
    "# def extract(audio_file):\n",
    "#     name=os.path.basename(audio_file)\n",
    "#     name=os.path.splitext(name)[0]\n",
    "#     label = int(name[3:5])\n",
    "    \n",
    "#     return label, audio_file\n",
    "\n",
    "# def get_length(audio_file):\n",
    "#     y, sr = librosa.load(audio_file)\n",
    "#     return librosa.get_duration(y=y, sr=sr)\n",
    "\n",
    "# def get_all_lengths(dir_name):\n",
    "#     lengths = []\n",
    "\n",
    "#     #progression bar \n",
    "#     file_count = len(dir_name)\n",
    "#     bar = tqdm(desc=\"proccessing files\", total=file_count)\n",
    "#     tot = 0\n",
    "    \n",
    "#     for file in dir_name:\n",
    "#         bar.update(1)\n",
    "#         tot += 1\n",
    "#         label, audio_file = extract(file)\n",
    "#         length = get_length(audio_file)\n",
    "#         lengths.append( [int(length), length,label, audio_file])\n",
    "        \n",
    "#     return lengths"
   ]
  },
  {
   "cell_type": "code",
   "execution_count": 93,
   "metadata": {
    "ExecuteTime": {
     "end_time": "2021-04-03T12:35:26.368874Z",
     "start_time": "2021-04-03T12:35:26.344714Z"
    }
   },
   "outputs": [],
   "source": [
    "#l = get_all_lengths(dir_name)\n",
    "l_ = l.copy()"
   ]
  },
  {
   "cell_type": "code",
   "execution_count": 23,
   "metadata": {
    "ExecuteTime": {
     "end_time": "2021-03-31T12:49:55.831823Z",
     "start_time": "2021-03-31T12:49:55.650408Z"
    }
   },
   "outputs": [
    {
     "data": {
      "text/html": [
       "<div>\n",
       "<style scoped>\n",
       "    .dataframe tbody tr th:only-of-type {\n",
       "        vertical-align: middle;\n",
       "    }\n",
       "\n",
       "    .dataframe tbody tr th {\n",
       "        vertical-align: top;\n",
       "    }\n",
       "\n",
       "    .dataframe thead th {\n",
       "        text-align: right;\n",
       "    }\n",
       "</style>\n",
       "<table border=\"1\" class=\"dataframe\">\n",
       "  <thead>\n",
       "    <tr style=\"text-align: right;\">\n",
       "      <th></th>\n",
       "      <th>int cast</th>\n",
       "      <th>true length</th>\n",
       "      <th>label</th>\n",
       "      <th>audio file</th>\n",
       "    </tr>\n",
       "  </thead>\n",
       "  <tbody>\n",
       "    <tr>\n",
       "      <th>0</th>\n",
       "      <td>2</td>\n",
       "      <td>2.181360544217687</td>\n",
       "      <td>9</td>\n",
       "      <td>toronto_ds/conc_data/95-79-03-46-66-41-83.wav</td>\n",
       "    </tr>\n",
       "    <tr>\n",
       "      <th>1</th>\n",
       "      <td>1</td>\n",
       "      <td>1.3265759637188208</td>\n",
       "      <td>5</td>\n",
       "      <td>toronto_ds/conc_data/91-75-05-92-90-85-19.wav</td>\n",
       "    </tr>\n",
       "    <tr>\n",
       "      <th>2</th>\n",
       "      <td>3</td>\n",
       "      <td>3.570294784580499</td>\n",
       "      <td>1</td>\n",
       "      <td>toronto_ds/conc_data/03-01-03-02-02-01-20.wav</td>\n",
       "    </tr>\n",
       "    <tr>\n",
       "      <th>3</th>\n",
       "      <td>1</td>\n",
       "      <td>1.5886167800453515</td>\n",
       "      <td>6</td>\n",
       "      <td>toronto_ds/conc_data/85-26-06-27-51-61-31.wav</td>\n",
       "    </tr>\n",
       "    <tr>\n",
       "      <th>4</th>\n",
       "      <td>3</td>\n",
       "      <td>3.53687074829932</td>\n",
       "      <td>1</td>\n",
       "      <td>toronto_ds/conc_data/03-01-03-01-01-01-06.wav</td>\n",
       "    </tr>\n",
       "  </tbody>\n",
       "</table>\n",
       "</div>"
      ],
      "text/plain": [
       "  int cast         true length label  \\\n",
       "0        2   2.181360544217687     9   \n",
       "1        1  1.3265759637188208     5   \n",
       "2        3   3.570294784580499     1   \n",
       "3        1  1.5886167800453515     6   \n",
       "4        3    3.53687074829932     1   \n",
       "\n",
       "                                      audio file  \n",
       "0  toronto_ds/conc_data/95-79-03-46-66-41-83.wav  \n",
       "1  toronto_ds/conc_data/91-75-05-92-90-85-19.wav  \n",
       "2  toronto_ds/conc_data/03-01-03-02-02-01-20.wav  \n",
       "3  toronto_ds/conc_data/85-26-06-27-51-61-31.wav  \n",
       "4  toronto_ds/conc_data/03-01-03-01-01-01-06.wav  "
      ]
     },
     "execution_count": 23,
     "metadata": {},
     "output_type": "execute_result"
    }
   ],
   "source": [
    "df = pd.DataFrame(np.array(l_), columns = ['int cast','true length','label', \"audio file\"])\n",
    "df.head()"
   ]
  },
  {
   "cell_type": "code",
   "execution_count": 24,
   "metadata": {
    "ExecuteTime": {
     "end_time": "2021-03-31T12:49:55.881765Z",
     "start_time": "2021-03-31T12:49:55.835170Z"
    }
   },
   "outputs": [
    {
     "data": {
      "text/plain": [
       "array(['2', '1', '3', '4', '5', '6'], dtype=object)"
      ]
     },
     "execution_count": 24,
     "metadata": {},
     "output_type": "execute_result"
    }
   ],
   "source": [
    "df[\"int cast\"].unique()"
   ]
  },
  {
   "cell_type": "code",
   "execution_count": 25,
   "metadata": {
    "ExecuteTime": {
     "end_time": "2021-03-31T12:49:56.256048Z",
     "start_time": "2021-03-31T12:49:55.885359Z"
    }
   },
   "outputs": [
    {
     "data": {
      "text/plain": [
       "<AxesSubplot:>"
      ]
     },
     "execution_count": 25,
     "metadata": {},
     "output_type": "execute_result"
    },
    {
     "data": {
      "image/png": "[encoded data removed]",
      "text/plain": [
       "<Figure size 432x288 with 1 Axes>"
      ]
     },
     "metadata": {
      "needs_background": "light"
     },
     "output_type": "display_data"
    }
   ],
   "source": [
    "df[\"int cast\"].hist()"
   ]
  },
  {
   "cell_type": "code",
   "execution_count": 26,
   "metadata": {
    "ExecuteTime": {
     "end_time": "2021-03-31T12:49:56.292007Z",
     "start_time": "2021-03-31T12:49:56.259436Z"
    }
   },
   "outputs": [],
   "source": [
    "df.to_csv(\"major-set_duration\")"
   ]
  },
  {
   "cell_type": "code",
   "execution_count": 63,
   "metadata": {
    "ExecuteTime": {
     "end_time": "2021-03-31T14:54:24.303977Z",
     "start_time": "2021-03-31T14:54:24.266537Z"
    }
   },
   "outputs": [
    {
     "data": {
      "text/html": [
       "<div>\n",
       "<style scoped>\n",
       "    .dataframe tbody tr th:only-of-type {\n",
       "        vertical-align: middle;\n",
       "    }\n",
       "\n",
       "    .dataframe tbody tr th {\n",
       "        vertical-align: top;\n",
       "    }\n",
       "\n",
       "    .dataframe thead th {\n",
       "        text-align: right;\n",
       "    }\n",
       "</style>\n",
       "<table border=\"1\" class=\"dataframe\">\n",
       "  <thead>\n",
       "    <tr style=\"text-align: right;\">\n",
       "      <th></th>\n",
       "      <th>int cast</th>\n",
       "      <th>true length</th>\n",
       "      <th>label</th>\n",
       "      <th>audio file</th>\n",
       "    </tr>\n",
       "  </thead>\n",
       "  <tbody>\n",
       "    <tr>\n",
       "      <th>5</th>\n",
       "      <td>4</td>\n",
       "      <td>4.337687074829932</td>\n",
       "      <td>2</td>\n",
       "      <td>toronto_ds/conc_data/03-02-01-01-02-01-13.wav</td>\n",
       "    </tr>\n",
       "    <tr>\n",
       "      <th>10</th>\n",
       "      <td>4</td>\n",
       "      <td>4.50453514739229</td>\n",
       "      <td>2</td>\n",
       "      <td>toronto_ds/conc_data/03-02-06-02-01-01-02.wav</td>\n",
       "    </tr>\n",
       "    <tr>\n",
       "      <th>17</th>\n",
       "      <td>4</td>\n",
       "      <td>4.93827664399093</td>\n",
       "      <td>2</td>\n",
       "      <td>toronto_ds/conc_data/03-02-06-01-01-01-17.wav</td>\n",
       "    </tr>\n",
       "    <tr>\n",
       "      <th>24</th>\n",
       "      <td>4</td>\n",
       "      <td>4.471156462585034</td>\n",
       "      <td>1</td>\n",
       "      <td>toronto_ds/conc_data/03-01-07-02-01-02-18.wav</td>\n",
       "    </tr>\n",
       "    <tr>\n",
       "      <th>27</th>\n",
       "      <td>4</td>\n",
       "      <td>4.571292517006802</td>\n",
       "      <td>2</td>\n",
       "      <td>toronto_ds/conc_data/03-02-05-02-02-01-03.wav</td>\n",
       "    </tr>\n",
       "    <tr>\n",
       "      <th>...</th>\n",
       "      <td>...</td>\n",
       "      <td>...</td>\n",
       "      <td>...</td>\n",
       "      <td>...</td>\n",
       "    </tr>\n",
       "    <tr>\n",
       "      <th>5212</th>\n",
       "      <td>4</td>\n",
       "      <td>4.1374603174603175</td>\n",
       "      <td>1</td>\n",
       "      <td>toronto_ds/conc_data/03-01-03-02-01-02-12.wav</td>\n",
       "    </tr>\n",
       "    <tr>\n",
       "      <th>5217</th>\n",
       "      <td>4</td>\n",
       "      <td>4.037369614512472</td>\n",
       "      <td>1</td>\n",
       "      <td>toronto_ds/conc_data/03-01-05-01-02-02-22.wav</td>\n",
       "    </tr>\n",
       "    <tr>\n",
       "      <th>5229</th>\n",
       "      <td>4</td>\n",
       "      <td>4.070748299319728</td>\n",
       "      <td>2</td>\n",
       "      <td>toronto_ds/conc_data/03-02-05-02-01-02-04.wav</td>\n",
       "    </tr>\n",
       "    <tr>\n",
       "      <th>5232</th>\n",
       "      <td>4</td>\n",
       "      <td>4.404399092970522</td>\n",
       "      <td>2</td>\n",
       "      <td>toronto_ds/conc_data/03-02-03-02-02-02-02.wav</td>\n",
       "    </tr>\n",
       "    <tr>\n",
       "      <th>5237</th>\n",
       "      <td>4</td>\n",
       "      <td>4.63795918367347</td>\n",
       "      <td>2</td>\n",
       "      <td>toronto_ds/conc_data/03-02-05-01-02-02-22.wav</td>\n",
       "    </tr>\n",
       "  </tbody>\n",
       "</table>\n",
       "<p>1043 rows × 4 columns</p>\n",
       "</div>"
      ],
      "text/plain": [
       "     int cast         true length label  \\\n",
       "5           4   4.337687074829932     2   \n",
       "10          4    4.50453514739229     2   \n",
       "17          4    4.93827664399093     2   \n",
       "24          4   4.471156462585034     1   \n",
       "27          4   4.571292517006802     2   \n",
       "...       ...                 ...   ...   \n",
       "5212        4  4.1374603174603175     1   \n",
       "5217        4   4.037369614512472     1   \n",
       "5229        4   4.070748299319728     2   \n",
       "5232        4   4.404399092970522     2   \n",
       "5237        4    4.63795918367347     2   \n",
       "\n",
       "                                         audio file  \n",
       "5     toronto_ds/conc_data/03-02-01-01-02-01-13.wav  \n",
       "10    toronto_ds/conc_data/03-02-06-02-01-01-02.wav  \n",
       "17    toronto_ds/conc_data/03-02-06-01-01-01-17.wav  \n",
       "24    toronto_ds/conc_data/03-01-07-02-01-02-18.wav  \n",
       "27    toronto_ds/conc_data/03-02-05-02-02-01-03.wav  \n",
       "...                                             ...  \n",
       "5212  toronto_ds/conc_data/03-01-03-02-01-02-12.wav  \n",
       "5217  toronto_ds/conc_data/03-01-05-01-02-02-22.wav  \n",
       "5229  toronto_ds/conc_data/03-02-05-02-01-02-04.wav  \n",
       "5232  toronto_ds/conc_data/03-02-03-02-02-02-02.wav  \n",
       "5237  toronto_ds/conc_data/03-02-05-01-02-02-22.wav  \n",
       "\n",
       "[1043 rows x 4 columns]"
      ]
     },
     "execution_count": 63,
     "metadata": {},
     "output_type": "execute_result"
    }
   ],
   "source": [
    "# df.loc[df[\"int cast\"]==5]\n",
    "df.loc[df['int cast'] == '4']"
   ]
  },
  {
   "cell_type": "code",
   "execution_count": 56,
   "metadata": {
    "ExecuteTime": {
     "end_time": "2021-03-31T14:01:59.793526Z",
     "start_time": "2021-03-31T14:01:59.777888Z"
    }
   },
   "outputs": [
    {
     "data": {
      "text/plain": [
       "'1.2541043083900227'"
      ]
     },
     "execution_count": 56,
     "metadata": {},
     "output_type": "execute_result"
    }
   ],
   "source": [
    "df[\"true length\"].max()\n",
    "df[\"true length\"].min()"
   ]
  },
  {
   "cell_type": "code",
   "execution_count": null,
   "metadata": {},
   "outputs": [],
   "source": []
  }
 ],
 "metadata": {
  "kernelspec": {
   "display_name": "Python 3",
   "language": "python",
   "name": "python3"
  },
  "language_info": {
   "codemirror_mode": {
    "name": "ipython",
    "version": 3
   },
   "file_extension": ".py",
   "mimetype": "text/x-python",
   "name": "python",
   "nbconvert_exporter": "python",
   "pygments_lexer": "ipython3",
   "version": "3.7.6"
  },
  "toc": {
   "base_numbering": 1,
   "nav_menu": {},
   "number_sections": false,
   "sideBar": true,
   "skip_h1_title": false,
   "title_cell": "Table of Contents",
   "title_sidebar": "Contents",
   "toc_cell": false,
   "toc_position": {},
   "toc_section_display": true,
   "toc_window_display": false
  }
 },
 "nbformat": 4,
 "nbformat_minor": 2
}
