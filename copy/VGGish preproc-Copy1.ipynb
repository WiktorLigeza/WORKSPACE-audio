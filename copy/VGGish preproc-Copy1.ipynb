{
 "cells": [
  {
   "cell_type": "code",
   "execution_count": 1,
   "metadata": {
    "ExecuteTime": {
     "end_time": "2021-04-16T14:57:42.868614Z",
     "start_time": "2021-04-16T14:57:39.421609Z"
    }
   },
   "outputs": [],
   "source": [
    "import joblib\n",
    "import glob\n",
    "import librosa\n",
    "import matplotlib.pyplot as plt\n",
    "from tqdm.notebook import tqdm"
   ]
  },
  {
   "cell_type": "code",
   "execution_count": null,
   "metadata": {
    "ExecuteTime": {
     "start_time": "2021-04-16T14:57:38.367Z"
    }
   },
   "outputs": [],
   "source": [
    "def get_amp_plots(dir_name, dir_path = \"../raw data/toronto_ds/conc_data/\"):\n",
    "    #progression bar \n",
    "    file_count = len(dir_name)\n",
    "    bar = tqdm(desc=\"proccessing files\", total=file_count)\n",
    "    tot = 0\n",
    "\n",
    "    for file in dir_name:\n",
    "        #update bar\n",
    "        bar.update(1)\n",
    "        tot += 1\n",
    "\n",
    "        #get signal\n",
    "        signal, sr = librosa.load(file)\n",
    "        \n",
    "        #get plot \n",
    "        plt.plot(signal)\n",
    "        \n",
    "        # label the axes\n",
    "        plt.ylabel(\"Amplitude\")\n",
    "        plt.xlabel(\"Time\")\n",
    "\n",
    "        # save fig\n",
    "        name = file.replace(dir_path,  \"\")\n",
    "        name = name.replace(\".wav\",  \".png\")\n",
    "        plt.savefig(\"../feats/vgg_amp_plts/\" + name)\n",
    "        plt.close('all')"
   ]
  },
  {
   "cell_type": "code",
   "execution_count": 3,
   "metadata": {
    "ExecuteTime": {
     "end_time": "2021-04-16T15:05:54.265017Z",
     "start_time": "2021-04-16T14:57:42.916344Z"
    }
   },
   "outputs": [
    {
     "data": {
      "application/vnd.jupyter.widget-view+json": {
       "model_id": "9a72cd43c8e2435198eb3160a491992a",
       "version_major": 2,
       "version_minor": 0
      },
      "text/plain": [
       "proccessing files:   0%|          | 0/872 [00:00<?, ?it/s]"
      ]
     },
     "metadata": {},
     "output_type": "display_data"
    }
   ],
   "source": [
    "chunks = joblib.load(\"chunks.joblib\")\n",
    "get_amp_plots(chunks[5])"
   ]
  },
  {
   "cell_type": "code",
   "execution_count": null,
   "metadata": {},
   "outputs": [],
   "source": []
  }
 ],
 "metadata": {
  "kernelspec": {
   "display_name": "Python 3",
   "language": "python",
   "name": "python3"
  },
  "language_info": {
   "codemirror_mode": {
    "name": "ipython",
    "version": 3
   },
   "file_extension": ".py",
   "mimetype": "text/x-python",
   "name": "python",
   "nbconvert_exporter": "python",
   "pygments_lexer": "ipython3",
   "version": "3.7.6"
  },
  "toc": {
   "base_numbering": 1,
   "nav_menu": {},
   "number_sections": false,
   "sideBar": true,
   "skip_h1_title": false,
   "title_cell": "Table of Contents",
   "title_sidebar": "Contents",
   "toc_cell": false,
   "toc_position": {},
   "toc_section_display": true,
   "toc_window_display": false
  }
 },
 "nbformat": 4,
 "nbformat_minor": 2
}
