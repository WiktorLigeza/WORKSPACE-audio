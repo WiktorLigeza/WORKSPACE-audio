{
 "cells": [
  {
   "cell_type": "code",
   "execution_count": 2,
   "metadata": {
    "ExecuteTime": {
     "end_time": "2021-04-10T10:49:12.921373Z",
     "start_time": "2021-04-10T10:49:12.009530Z"
    }
   },
   "outputs": [],
   "source": [
    "import joblib\n",
    "import numpy as np\n",
    "from xgboost import XGBClassifier\n",
    "from sklearn.metrics import accuracy_score\n",
    "from sklearn.model_selection import train_test_split\n",
    "import time\n",
    "import numpy as np"
   ]
  },
  {
   "cell_type": "code",
   "execution_count": 3,
   "metadata": {
    "ExecuteTime": {
     "end_time": "2021-04-10T10:49:51.187185Z",
     "start_time": "2021-04-10T10:49:31.114960Z"
    }
   },
   "outputs": [],
   "source": [
    "approximation_raw = joblib.load(\"../feats/low_high_pass/approximation_raw.joblib\")\n",
    "detail_raw = joblib.load(\"../feats/low_high_pass/detail_raw.joblib\")"
   ]
  },
  {
   "cell_type": "code",
   "execution_count": 4,
   "metadata": {
    "ExecuteTime": {
     "end_time": "2021-04-10T10:49:51.206246Z",
     "start_time": "2021-04-10T10:49:51.193767Z"
    }
   },
   "outputs": [
    {
     "data": {
      "text/plain": [
       "array([-5.12269944e-05, -2.20914299e-04, -3.13711847e-04, ...,\n",
       "        7.84276926e-05,  1.08471024e-04,  0.00000000e+00], dtype=float32)"
      ]
     },
     "execution_count": 4,
     "metadata": {},
     "output_type": "execute_result"
    }
   ],
   "source": [
    "approximation_raw[0][0]"
   ]
  },
  {
   "cell_type": "code",
   "execution_count": 5,
   "metadata": {
    "ExecuteTime": {
     "end_time": "2021-04-10T10:49:51.362872Z",
     "start_time": "2021-04-10T10:49:51.210592Z"
    }
   },
   "outputs": [],
   "source": [
    "# approximation_raw = np.array(approximation_raw)\n",
    "# detail_raw = np.array(detail_raw)"
   ]
  },
  {
   "cell_type": "code",
   "execution_count": 6,
   "metadata": {
    "ExecuteTime": {
     "end_time": "2021-04-10T10:49:51.529600Z",
     "start_time": "2021-04-10T10:49:51.366742Z"
    }
   },
   "outputs": [
    {
     "ename": "AttributeError",
     "evalue": "'list' object has no attribute 'shape'",
     "output_type": "error",
     "traceback": [
      "\u001b[0;31m---------------------------------------------------------------------------\u001b[0m",
      "\u001b[0;31mAttributeError\u001b[0m                            Traceback (most recent call last)",
      "\u001b[0;32m<ipython-input-6-3b12dc333a5e>\u001b[0m in \u001b[0;36m<module>\u001b[0;34m\u001b[0m\n\u001b[0;32m----> 1\u001b[0;31m \u001b[0mdetail_raw\u001b[0m\u001b[0;34m.\u001b[0m\u001b[0mshape\u001b[0m\u001b[0;34m\u001b[0m\u001b[0;34m\u001b[0m\u001b[0m\n\u001b[0m",
      "\u001b[0;31mAttributeError\u001b[0m: 'list' object has no attribute 'shape'"
     ]
    }
   ],
   "source": [
    "detail_raw.shape"
   ]
  },
  {
   "cell_type": "code",
   "execution_count": null,
   "metadata": {
    "ExecuteTime": {
     "end_time": "2021-04-10T10:49:51.533152Z",
     "start_time": "2021-04-10T10:49:36.984Z"
    }
   },
   "outputs": [],
   "source": [
    "approximation_raw.shape"
   ]
  },
  {
   "cell_type": "code",
   "execution_count": null,
   "metadata": {
    "ExecuteTime": {
     "end_time": "2021-04-10T10:49:51.535241Z",
     "start_time": "2021-04-10T10:49:37.249Z"
    }
   },
   "outputs": [],
   "source": [
    "approximation_raw[0]"
   ]
  },
  {
   "cell_type": "code",
   "execution_count": 7,
   "metadata": {
    "ExecuteTime": {
     "end_time": "2021-04-10T10:49:53.474471Z",
     "start_time": "2021-04-10T10:49:53.448754Z"
    }
   },
   "outputs": [],
   "source": [
    "from collections import Counter\n",
    "import scipy\n",
    "import operator\n",
    "\n",
    "def calculate_entropy(list_values):\n",
    "    counter_values = Counter(list_values).most_common()\n",
    "    probabilities = [elem[1]/len(list_values) for elem in counter_values]\n",
    "    entropy=scipy.stats.entropy(probabilities)\n",
    "    return entropy\n",
    "\n",
    "def calculate_statistics(list_values):\n",
    "    n5 = np.nanpercentile(list_values, 5)\n",
    "    n25 = np.nanpercentile(list_values, 25)\n",
    "    n75 = np.nanpercentile(list_values, 75)\n",
    "    n95 = np.nanpercentile(list_values, 95)\n",
    "    median = np.nanpercentile(list_values, 50)\n",
    "    mean = np.nanmean(list_values)\n",
    "    std = np.nanstd(list_values)\n",
    "    var = np.nanvar(list_values)\n",
    "    rms = np.nanmean(np.sqrt(list_values**2))\n",
    "    return [n5, n25, n75, n95, median, mean, std, var, rms]\n",
    "\n",
    "def calculate_crossings(list_values):\n",
    "    zero_crossing_indices = np.nonzero(np.diff(np.array(list_values) > 0))[0]\n",
    "    no_zero_crossings = len(zero_crossing_indices)\n",
    "    mean_crossing_indices = np.nonzero(np.diff(np.array(list_values) > np.nanmean(list_values)))[0]\n",
    "    no_mean_crossings = len(mean_crossing_indices)\n",
    "    return [no_zero_crossings, no_mean_crossings]\n",
    "\n",
    "def get_features(list_values):\n",
    "    entropy = calculate_entropy(list_values)\n",
    "    crossings = calculate_crossings(list_values)\n",
    "    statistics = calculate_statistics(list_values)\n",
    "    return statistics + crossings + [entropy]"
   ]
  },
  {
   "cell_type": "code",
   "execution_count": 9,
   "metadata": {
    "ExecuteTime": {
     "end_time": "2021-04-10T10:50:03.066333Z",
     "start_time": "2021-04-10T10:50:03.059714Z"
    }
   },
   "outputs": [],
   "source": [
    "ar = approximation_raw\n",
    "dr = detail_raw"
   ]
  },
  {
   "cell_type": "code",
   "execution_count": 11,
   "metadata": {
    "ExecuteTime": {
     "end_time": "2021-04-10T10:50:19.233251Z",
     "start_time": "2021-04-10T10:50:19.224268Z"
    }
   },
   "outputs": [
    {
     "data": {
      "text/plain": [
       "5"
      ]
     },
     "execution_count": 11,
     "metadata": {},
     "output_type": "execute_result"
    }
   ],
   "source": [
    "len(ar[0])"
   ]
  },
  {
   "cell_type": "code",
   "execution_count": 12,
   "metadata": {
    "ExecuteTime": {
     "end_time": "2021-04-10T10:58:28.974375Z",
     "start_time": "2021-04-10T10:50:29.138018Z"
    }
   },
   "outputs": [],
   "source": [
    "X_1 = []\n",
    "for i in range (0, len(ar)):\n",
    "    features = []\n",
    "    for j in range (0, len(ar[0])):\n",
    "        ficzur = get_features(ar[i][j])\n",
    "        features.append(ficzur)\n",
    "    X_1.append(features)"
   ]
  },
  {
   "cell_type": "code",
   "execution_count": 13,
   "metadata": {
    "ExecuteTime": {
     "end_time": "2021-04-10T10:58:28.990073Z",
     "start_time": "2021-04-10T10:58:28.981184Z"
    }
   },
   "outputs": [
    {
     "data": {
      "text/plain": [
       "5252"
      ]
     },
     "execution_count": 13,
     "metadata": {},
     "output_type": "execute_result"
    }
   ],
   "source": [
    "len(X_1)"
   ]
  },
  {
   "cell_type": "code",
   "execution_count": 14,
   "metadata": {
    "ExecuteTime": {
     "end_time": "2021-04-10T11:06:17.102942Z",
     "start_time": "2021-04-10T10:58:28.995044Z"
    }
   },
   "outputs": [],
   "source": [
    "X_2 = []\n",
    "for i in range (0, len(dr)):\n",
    "    features = []\n",
    "    for j in range (0, len(dr[0])):\n",
    "        ficzur = get_features(dr[i][j])\n",
    "        features.append(ficzur)\n",
    "    X_2.append(features)"
   ]
  },
  {
   "cell_type": "code",
   "execution_count": 15,
   "metadata": {
    "ExecuteTime": {
     "end_time": "2021-04-10T11:06:17.118893Z",
     "start_time": "2021-04-10T11:06:17.109247Z"
    }
   },
   "outputs": [
    {
     "data": {
      "text/plain": [
       "5252"
      ]
     },
     "execution_count": 15,
     "metadata": {},
     "output_type": "execute_result"
    }
   ],
   "source": [
    "len(X_2)"
   ]
  },
  {
   "cell_type": "code",
   "execution_count": 16,
   "metadata": {
    "ExecuteTime": {
     "end_time": "2021-04-10T11:06:17.380537Z",
     "start_time": "2021-04-10T11:06:17.122803Z"
    }
   },
   "outputs": [],
   "source": [
    "x_1 = np.asarray(X_1)"
   ]
  },
  {
   "cell_type": "code",
   "execution_count": 17,
   "metadata": {
    "ExecuteTime": {
     "end_time": "2021-04-10T11:06:17.547666Z",
     "start_time": "2021-04-10T11:06:17.384170Z"
    }
   },
   "outputs": [],
   "source": [
    "x_2 = np.asarray(X_2)"
   ]
  },
  {
   "cell_type": "code",
   "execution_count": 18,
   "metadata": {
    "ExecuteTime": {
     "end_time": "2021-04-10T11:06:17.593523Z",
     "start_time": "2021-04-10T11:06:17.551235Z"
    }
   },
   "outputs": [
    {
     "name": "stdout",
     "output_type": "stream",
     "text": [
      "(5252, 5, 12)\n",
      "(5252, 5, 12)\n"
     ]
    }
   ],
   "source": [
    "print(x_1.shape)\n",
    "print(x_2.shape)"
   ]
  },
  {
   "cell_type": "code",
   "execution_count": 19,
   "metadata": {
    "ExecuteTime": {
     "end_time": "2021-04-10T11:06:17.644620Z",
     "start_time": "2021-04-10T11:06:17.598905Z"
    }
   },
   "outputs": [],
   "source": [
    "X = np.concatenate((x_1,x_2), axis=1)"
   ]
  },
  {
   "cell_type": "code",
   "execution_count": 20,
   "metadata": {
    "ExecuteTime": {
     "end_time": "2021-04-10T11:06:17.682695Z",
     "start_time": "2021-04-10T11:06:17.648409Z"
    }
   },
   "outputs": [
    {
     "data": {
      "text/plain": [
       "(5252, 10, 12)"
      ]
     },
     "execution_count": 20,
     "metadata": {},
     "output_type": "execute_result"
    }
   ],
   "source": [
    "X.shape"
   ]
  },
  {
   "cell_type": "code",
   "execution_count": null,
   "metadata": {},
   "outputs": [],
   "source": []
  },
  {
   "cell_type": "code",
   "execution_count": 21,
   "metadata": {
    "ExecuteTime": {
     "end_time": "2021-04-10T11:06:17.748078Z",
     "start_time": "2021-04-10T11:06:17.686336Z"
    }
   },
   "outputs": [
    {
     "data": {
      "text/plain": [
       "['../feats/low_high_pass/X_10_banks.joblib']"
      ]
     },
     "execution_count": 21,
     "metadata": {},
     "output_type": "execute_result"
    }
   ],
   "source": [
    "X_name = '../feats/low_high_pass/X_10_banks.joblib'\n",
    "joblib.dump(X, X_name)"
   ]
  },
  {
   "cell_type": "code",
   "execution_count": 22,
   "metadata": {
    "ExecuteTime": {
     "end_time": "2021-04-10T11:06:17.842903Z",
     "start_time": "2021-04-10T11:06:17.751794Z"
    }
   },
   "outputs": [],
   "source": [
    "y = joblib.load(\"../feats/low_high_pass/y.joblib\")"
   ]
  },
  {
   "cell_type": "code",
   "execution_count": 23,
   "metadata": {
    "ExecuteTime": {
     "end_time": "2021-04-10T11:06:17.890227Z",
     "start_time": "2021-04-10T11:06:17.846142Z"
    }
   },
   "outputs": [],
   "source": [
    "#y = np.array(y, dtype=np.ndarray)"
   ]
  },
  {
   "cell_type": "code",
   "execution_count": 24,
   "metadata": {
    "ExecuteTime": {
     "end_time": "2021-04-10T11:06:17.946910Z",
     "start_time": "2021-04-10T11:06:17.894161Z"
    }
   },
   "outputs": [],
   "source": [
    "x = np.asarray(X)\n",
    "y = y\n",
    "x = x.reshape(5252, -1)\n",
    "y = np.asarray(y)\n",
    "#y = y[..., np.newaxis]\n",
    "\n",
    "X_train, X_test, y_train, y_test = train_test_split(x, y, test_size=0.33, random_state=42)"
   ]
  },
  {
   "cell_type": "code",
   "execution_count": 25,
   "metadata": {
    "ExecuteTime": {
     "end_time": "2021-04-10T11:06:17.981966Z",
     "start_time": "2021-04-10T11:06:17.950883Z"
    }
   },
   "outputs": [
    {
     "data": {
      "text/plain": [
       "(3518,)"
      ]
     },
     "execution_count": 25,
     "metadata": {},
     "output_type": "execute_result"
    }
   ],
   "source": [
    "y_train.shape"
   ]
  },
  {
   "cell_type": "code",
   "execution_count": 26,
   "metadata": {
    "ExecuteTime": {
     "end_time": "2021-04-10T11:10:35.371139Z",
     "start_time": "2021-04-10T11:06:17.985714Z"
    }
   },
   "outputs": [
    {
     "name": "stdout",
     "output_type": "stream",
     "text": [
      "--- Model trained. Training time: 257.34712958335876 seconds ---\n",
      "Accuracy: 76.24%\n"
     ]
    }
   ],
   "source": [
    "start_time = time.time()\n",
    "\n",
    "model = XGBClassifier(learning_rate = 0.1,\n",
    "                      n_estimators = 1000,\n",
    "                      max_depth = 8,\n",
    "                      min_child_weight=3,\n",
    "                      subsample = 0.8,\n",
    "                      colsample_bytree = 0.8,\n",
    "                      gamma = 0\n",
    "                     )\n",
    "model.fit(X_train, y_train)\n",
    "\n",
    "y_pred = model.predict(X_test)\n",
    "predictions = [round(value) for value in y_pred]\n",
    "\n",
    "print(\"--- Model trained. Training time: %s seconds ---\" % (time.time() - start_time))\n",
    "\n",
    "accuracy = accuracy_score(y_test, predictions)\n",
    "print(\"Accuracy: %.2f%%\" % (accuracy * 100.0))"
   ]
  },
  {
   "cell_type": "code",
   "execution_count": null,
   "metadata": {},
   "outputs": [],
   "source": []
  }
 ],
 "metadata": {
  "kernelspec": {
   "display_name": "Python 3",
   "language": "python",
   "name": "python3"
  },
  "language_info": {
   "codemirror_mode": {
    "name": "ipython",
    "version": 3
   },
   "file_extension": ".py",
   "mimetype": "text/x-python",
   "name": "python",
   "nbconvert_exporter": "python",
   "pygments_lexer": "ipython3",
   "version": "3.7.6"
  },
  "toc": {
   "base_numbering": 1,
   "nav_menu": {},
   "number_sections": false,
   "sideBar": true,
   "skip_h1_title": false,
   "title_cell": "Table of Contents",
   "title_sidebar": "Contents",
   "toc_cell": false,
   "toc_position": {},
   "toc_section_display": true,
   "toc_window_display": false
  }
 },
 "nbformat": 4,
 "nbformat_minor": 2
}
