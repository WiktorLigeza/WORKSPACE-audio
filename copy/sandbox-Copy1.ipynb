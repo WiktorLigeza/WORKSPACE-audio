{
 "cells": [
  {
   "cell_type": "code",
   "execution_count": 1,
   "metadata": {
    "ExecuteTime": {
     "end_time": "2021-03-29T13:12:30.779798Z",
     "start_time": "2021-03-29T13:12:28.509949Z"
    }
   },
   "outputs": [],
   "source": [
    "import librosa \n",
    "from Praat import Praat_IdeaLogic as PLogic\n",
    "from PIL import Image\n",
    "import os\n",
    "from sklearn.model_selection import train_test_split\n",
    "\n",
    "def extract(audio_file):\n",
    "    name=os.path.basename(audio_file)\n",
    "    name=os.path.splitext(name)[0]\n",
    "    label = int(name[7:8]) - 1\n",
    "    \n",
    "    return label, audio_file\n",
    "    "
   ]
  },
  {
   "cell_type": "code",
   "execution_count": 2,
   "metadata": {
    "ExecuteTime": {
     "end_time": "2021-03-29T13:12:30.789408Z",
     "start_time": "2021-03-29T13:12:30.784162Z"
    }
   },
   "outputs": [],
   "source": [
    "label, audio_file = extract('Audio_Data/Actor_09/03-01-07-02-02-01-09.wav')"
   ]
  },
  {
   "cell_type": "code",
   "execution_count": 3,
   "metadata": {
    "ExecuteTime": {
     "end_time": "2021-03-29T13:12:30.846709Z",
     "start_time": "2021-03-29T13:12:30.793736Z"
    }
   },
   "outputs": [
    {
     "data": {
      "text/plain": [
       "6"
      ]
     },
     "execution_count": 3,
     "metadata": {},
     "output_type": "execute_result"
    }
   ],
   "source": [
    "label"
   ]
  },
  {
   "cell_type": "code",
   "execution_count": 5,
   "metadata": {
    "ExecuteTime": {
     "end_time": "2021-03-29T13:12:57.245881Z",
     "start_time": "2021-03-29T13:12:57.236565Z"
    }
   },
   "outputs": [],
   "source": [
    "import glob\n",
    "list_of_names = glob.glob(\"Audio_Data/all_actors/*.wav\")"
   ]
  },
  {
   "cell_type": "code",
   "execution_count": 11,
   "metadata": {
    "ExecuteTime": {
     "end_time": "2021-03-29T13:14:29.039035Z",
     "start_time": "2021-03-29T13:14:29.021920Z"
    }
   },
   "outputs": [],
   "source": [
    "def return_feats(list_of_names):\n",
    "    X = []\n",
    "    y = []\n",
    "    err_cnt = 0\n",
    "    err_list = []\n",
    "    exeption_list = []\n",
    "    \n",
    "    for file in list_of_names:\n",
    "        label, audio_file = extract(file)\n",
    "        try:\n",
    "            X.append(PLogic.get_sound_report(audio_file).to_numpy()[0])\n",
    "            y.append(label)\n",
    "            \n",
    "        except Exception as e:\n",
    "            \n",
    "            err_cnt += 1\n",
    "            err_list.append(audio_file)\n",
    "            exeption_list.append(str(e))\n",
    "            print(\"{}.error at:\".format(err_cnt), audio_file)\n",
    "    return X, y, err_cnt, err_list, exeption_list"
   ]
  },
  {
   "cell_type": "code",
   "execution_count": 18,
   "metadata": {
    "ExecuteTime": {
     "end_time": "2021-03-29T13:16:11.943561Z",
     "start_time": "2021-03-29T13:16:03.121337Z"
    },
    "scrolled": true
   },
   "outputs": [
    {
     "name": "stdout",
     "output_type": "stream",
     "text": [
      "1.error at: Audio_Data/Actor_09/03-01-04-01-01-01-09.wav\n",
      "2.error at: Audio_Data/Actor_09/03-01-04-02-01-02-09.wav\n"
     ]
    }
   ],
   "source": [
    "X, y, _, _, _ = return_feats(list_of_names)"
   ]
  },
  {
   "cell_type": "code",
   "execution_count": 19,
   "metadata": {
    "ExecuteTime": {
     "end_time": "2021-03-29T13:16:12.964745Z",
     "start_time": "2021-03-29T13:16:12.952919Z"
    }
   },
   "outputs": [
    {
     "data": {
      "text/plain": [
       "array([3.803812, 330.51599999999996, 283.119, 110.259, 73.697,\n",
       "       395.19199999999995, 276.0, 263.0, 0.003568452, 0.002323841, 67.639,\n",
       "       7.0, 17.944000000000003, 5.025, 0.00017931400000000003, 2.464,\n",
       "       3.304, 7.392, 18.458, 1.526, 9.78, 15.655, 14.243,\n",
       "       29.340999999999998, 0.696871, 0.497692, 4.0169999999999995],\n",
       "      dtype=object)"
      ]
     },
     "execution_count": 19,
     "metadata": {},
     "output_type": "execute_result"
    }
   ],
   "source": [
    "X[0]"
   ]
  },
  {
   "cell_type": "code",
   "execution_count": null,
   "metadata": {},
   "outputs": [],
   "source": []
  }
 ],
 "metadata": {
  "kernelspec": {
   "display_name": "Python 3",
   "language": "python",
   "name": "python3"
  },
  "language_info": {
   "codemirror_mode": {
    "name": "ipython",
    "version": 3
   },
   "file_extension": ".py",
   "mimetype": "text/x-python",
   "name": "python",
   "nbconvert_exporter": "python",
   "pygments_lexer": "ipython3",
   "version": "3.7.6"
  },
  "toc": {
   "base_numbering": 1,
   "nav_menu": {},
   "number_sections": false,
   "sideBar": true,
   "skip_h1_title": false,
   "title_cell": "Table of Contents",
   "title_sidebar": "Contents",
   "toc_cell": false,
   "toc_position": {},
   "toc_section_display": true,
   "toc_window_display": false
  }
 },
 "nbformat": 4,
 "nbformat_minor": 2
}
