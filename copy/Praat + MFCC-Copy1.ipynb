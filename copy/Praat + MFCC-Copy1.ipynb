{
 "cells": [
  {
   "cell_type": "code",
   "execution_count": 87,
   "metadata": {
    "ExecuteTime": {
     "end_time": "2021-04-10T12:19:59.057263Z",
     "start_time": "2021-04-10T12:19:59.050436Z"
    }
   },
   "outputs": [],
   "source": [
    "import json\n",
    "import numpy as np\n",
    "import os\n",
    "import math\n",
    "import librosa\n",
    "from sklearn.model_selection import train_test_split\n",
    "from Praat import Praat_IdeaLogic as PLogic\n",
    "import matplotlib.pyplot as plt\n",
    "from tqdm.notebook import tqdm\n",
    "import librosa.display\n",
    "import glob\n",
    "import joblib"
   ]
  },
  {
   "cell_type": "code",
   "execution_count": 88,
   "metadata": {
    "ExecuteTime": {
     "end_time": "2021-04-10T12:19:59.311833Z",
     "start_time": "2021-04-10T12:19:59.165227Z"
    }
   },
   "outputs": [],
   "source": [
    "def extract(audio_file):\n",
    "    name=os.path.basename(audio_file)\n",
    "    name=os.path.splitext(name)[0]\n",
    "    label = int(name[7:8]) - 1\n",
    "    \n",
    "    return label, audio_file\n",
    "    \n",
    "    \n",
    "def get_feats(audio_file):\n",
    "    X, sample_rate = librosa.load(audio_file,\n",
    "                                  res_type='kaiser_fast')\n",
    "    \n",
    "    # mfcc \n",
    "    mfccs = librosa.feature.mfcc(y=X, sr=sample_rate, n_mfcc=40)\n",
    "    # praat\n",
    "    praat = PLogic.get_sound_report(audio_file).to_numpy()[0]\n",
    "    \n",
    "    #print(mfccs.shape)\n",
    "    #print(praat.shape)\n",
    "    \n",
    "    # augmentation\n",
    "    #conc =np.column_stack((mfccs, praat))\n",
    "    #conc = np.concatenate((mfccs,np.concatenate(praat)[:,None]),axis=1)\n",
    "    conc = np.concatenate((mfccs,praat),axis=0)\n",
    "    conc = np.mean(conc.T, axis=0)\n",
    "    \n",
    "    return conc"
   ]
  },
  {
   "cell_type": "code",
   "execution_count": 89,
   "metadata": {
    "ExecuteTime": {
     "end_time": "2021-04-10T12:19:59.347484Z",
     "start_time": "2021-04-10T12:19:59.315786Z"
    }
   },
   "outputs": [],
   "source": [
    "def return_feats(dir_name):\n",
    "    mfcc = []\n",
    "    praat = []\n",
    "    y = []\n",
    "    err_cnt = 0\n",
    "    err_list = []\n",
    "    exeption_list = []\n",
    "    \n",
    "    #progression bar \n",
    "    file_count = len(dir_name)\n",
    "    bar = tqdm(desc=\"proccessing files\", total=file_count)\n",
    "    tot = 0\n",
    "    \n",
    "    for file in dir_name:\n",
    "        bar.update(1)\n",
    "        tot += 1\n",
    "        label, audio_file = extract(file)\n",
    "        \n",
    "        try:\n",
    "            #X.append(get_feats(audio_file))\n",
    "            X, sample_rate = librosa.load(audio_file,\n",
    "                                  res_type='kaiser_fast')\n",
    "            # praat\n",
    "            praat.append(PLogic.get_sound_report(audio_file).to_numpy()[0])\n",
    "            # mfcc \n",
    "            mfcc.append(np.mean(librosa.feature.mfcc(y=X, sr=sample_rate, n_mfcc=40).T,axis=0))\n",
    "            y.append(label)\n",
    "        except Exception as e:\n",
    "\n",
    "            err_cnt += 1\n",
    "            err_list.append(audio_file)\n",
    "            exeption_list.append(str(e))\n",
    "            print(\"{}.error at:\".format(err_cnt), audio_file)\n",
    "            \n",
    "        \n",
    "    return mfcc, praat, y, err_cnt, err_list, exeption_list"
   ]
  },
  {
   "cell_type": "code",
   "execution_count": 90,
   "metadata": {
    "ExecuteTime": {
     "end_time": "2021-04-10T12:47:38.270824Z",
     "start_time": "2021-04-10T12:19:59.405307Z"
    }
   },
   "outputs": [
    {
     "data": {
      "application/vnd.jupyter.widget-view+json": {
       "model_id": "61691c10db3c444c97a459476ab67114",
       "version_major": 2,
       "version_minor": 0
      },
      "text/plain": [
       "proccessing files:   0%|          | 0/5252 [00:00<?, ?it/s]"
      ]
     },
     "metadata": {},
     "output_type": "display_data"
    },
    {
     "name": "stdout",
     "output_type": "stream",
     "text": [
      "1.error at: ../raw data/toronto_ds/conc_data/03-01-04-01-01-02-05.wav\n",
      "2.error at: ../raw data/toronto_ds/conc_data/03-01-04-01-01-01-09.wav\n",
      "3.error at: ../raw data/toronto_ds/conc_data/03-01-04-02-01-02-09.wav\n"
     ]
    }
   ],
   "source": [
    "dir_name = glob.glob(\"../raw data/toronto_ds/conc_data/*.wav\")\n",
    "\n",
    "#dir_name = glob.glob(\"../raw data/Audio_Data/Actor_09/*.wav\")\n",
    "mfcc, praat, y,_,_,exception_list = return_feats(dir_name)\n",
    "\n",
    "#X = np.asarray(X)\n",
    "#y = np.asarray(y)\n",
    "\n",
    "# X_name, y_name = '../feats/mfcc_and_praat/X1.joblib', '../feats/mfcc_and_praat/y2.joblib'\n",
    "# X, y = np.asarray(X), np.asarray(y)\n",
    "# y = np.asarray(y)\n",
    "# joblib.dump(X, X_name)\n",
    "# joblib.dump(y, y_name)"
   ]
  },
  {
   "cell_type": "code",
   "execution_count": 91,
   "metadata": {
    "ExecuteTime": {
     "end_time": "2021-04-10T12:47:38.284952Z",
     "start_time": "2021-04-10T12:47:38.276704Z"
    }
   },
   "outputs": [
    {
     "data": {
      "text/plain": [
       "['Unable to parse string \"--undefined--\" at position 22',\n",
       " 'Unable to parse string \"--undefined--\" at position 22',\n",
       " 'Unable to parse string \"--undefined--\" at position 22']"
      ]
     },
     "execution_count": 91,
     "metadata": {},
     "output_type": "execute_result"
    }
   ],
   "source": [
    "exception_list"
   ]
  },
  {
   "cell_type": "code",
   "execution_count": 92,
   "metadata": {
    "ExecuteTime": {
     "end_time": "2021-04-10T12:47:38.329037Z",
     "start_time": "2021-04-10T12:47:38.288887Z"
    }
   },
   "outputs": [
    {
     "data": {
      "text/plain": [
       "5249"
      ]
     },
     "execution_count": 92,
     "metadata": {},
     "output_type": "execute_result"
    }
   ],
   "source": [
    "len(mfcc)"
   ]
  },
  {
   "cell_type": "code",
   "execution_count": 93,
   "metadata": {
    "ExecuteTime": {
     "end_time": "2021-04-10T12:47:38.360604Z",
     "start_time": "2021-04-10T12:47:38.332548Z"
    }
   },
   "outputs": [
    {
     "data": {
      "text/plain": [
       "5249"
      ]
     },
     "execution_count": 93,
     "metadata": {},
     "output_type": "execute_result"
    }
   ],
   "source": [
    "len(praat)"
   ]
  },
  {
   "cell_type": "code",
   "execution_count": 94,
   "metadata": {
    "ExecuteTime": {
     "end_time": "2021-04-10T12:47:38.402242Z",
     "start_time": "2021-04-10T12:47:38.364167Z"
    }
   },
   "outputs": [
    {
     "data": {
      "text/plain": [
       "array([2.18133, 241.385, 261.606, 84.163, 164.979, 471.744, 391.0, 390.0,\n",
       "       0.0038193809999999997, 0.001152713, 27.906999999999996, 0.0, 0.0,\n",
       "       1.213, 4.6327e-05, 0.319, 0.469, 0.9570000000000001,\n",
       "       5.6160000000000005, 0.555, 1.695, 2.745, 5.812, 5.086,\n",
       "       0.9558629999999999, 0.056103999999999994, 18.000999999999998],\n",
       "      dtype=object)"
      ]
     },
     "execution_count": 94,
     "metadata": {},
     "output_type": "execute_result"
    }
   ],
   "source": [
    "praat[0]"
   ]
  },
  {
   "cell_type": "code",
   "execution_count": 95,
   "metadata": {
    "ExecuteTime": {
     "end_time": "2021-04-10T12:47:38.446181Z",
     "start_time": "2021-04-10T12:47:38.405530Z"
    }
   },
   "outputs": [
    {
     "data": {
      "text/plain": [
       "array([-4.60802155e+02,  9.50778580e+01,  1.56908245e+01, -3.87698460e+00,\n",
       "       -1.35151701e+01,  7.23161793e+00, -9.96821785e+00,  8.15477943e+00,\n",
       "       -2.18480358e+01, -8.31345022e-01, -1.66333771e+01, -5.64933109e+00,\n",
       "       -3.32634783e+00,  2.75295830e+00, -1.21644902e+00,  6.06903028e+00,\n",
       "       -1.64077926e+00,  1.20711823e+01,  1.93527591e+00, -4.95892382e+00,\n",
       "        2.41293931e+00,  1.37753391e+00,  1.94042698e-01,  3.23400855e+00,\n",
       "        2.00246423e-01,  3.43562508e+00,  5.11208153e+00,  1.05722771e+01,\n",
       "        3.81392789e+00,  7.92001486e+00,  5.46202850e+00,  5.28175783e+00,\n",
       "        5.18946791e+00,  5.83476830e+00,  7.77707100e+00,  9.17715168e+00,\n",
       "        1.08836365e+01,  7.90964937e+00,  5.67073727e+00,  5.89068127e+00],\n",
       "      dtype=float32)"
      ]
     },
     "execution_count": 95,
     "metadata": {},
     "output_type": "execute_result"
    }
   ],
   "source": [
    "mfcc[0]"
   ]
  },
  {
   "cell_type": "code",
   "execution_count": 96,
   "metadata": {
    "ExecuteTime": {
     "end_time": "2021-04-10T12:47:38.587249Z",
     "start_time": "2021-04-10T12:47:38.449413Z"
    }
   },
   "outputs": [],
   "source": [
    "praat = np.asarray(praat, dtype=float)"
   ]
  },
  {
   "cell_type": "code",
   "execution_count": 97,
   "metadata": {
    "ExecuteTime": {
     "end_time": "2021-04-10T12:47:38.629604Z",
     "start_time": "2021-04-10T12:47:38.594258Z"
    }
   },
   "outputs": [
    {
     "data": {
      "text/plain": [
       "array([2.181330e+00, 2.413850e+02, 2.616060e+02, 8.416300e+01,\n",
       "       1.649790e+02, 4.717440e+02, 3.910000e+02, 3.900000e+02,\n",
       "       3.819381e-03, 1.152713e-03, 2.790700e+01, 0.000000e+00,\n",
       "       0.000000e+00, 1.213000e+00, 4.632700e-05, 3.190000e-01,\n",
       "       4.690000e-01, 9.570000e-01, 5.616000e+00, 5.550000e-01,\n",
       "       1.695000e+00, 2.745000e+00, 5.812000e+00, 5.086000e+00,\n",
       "       9.558630e-01, 5.610400e-02, 1.800100e+01])"
      ]
     },
     "execution_count": 97,
     "metadata": {},
     "output_type": "execute_result"
    }
   ],
   "source": [
    "praat[0]"
   ]
  },
  {
   "cell_type": "code",
   "execution_count": 98,
   "metadata": {
    "ExecuteTime": {
     "end_time": "2021-04-10T12:47:38.691512Z",
     "start_time": "2021-04-10T12:47:38.633121Z"
    }
   },
   "outputs": [],
   "source": [
    "X = np.concatenate((mfcc,praat),axis=1)"
   ]
  },
  {
   "cell_type": "code",
   "execution_count": 99,
   "metadata": {
    "ExecuteTime": {
     "end_time": "2021-04-10T12:47:38.718353Z",
     "start_time": "2021-04-10T12:47:38.694985Z"
    }
   },
   "outputs": [
    {
     "data": {
      "text/plain": [
       "(5249, 67)"
      ]
     },
     "execution_count": 99,
     "metadata": {},
     "output_type": "execute_result"
    }
   ],
   "source": [
    "X.shape"
   ]
  },
  {
   "cell_type": "code",
   "execution_count": 101,
   "metadata": {
    "ExecuteTime": {
     "end_time": "2021-04-10T12:48:25.706278Z",
     "start_time": "2021-04-10T12:48:25.694577Z"
    }
   },
   "outputs": [
    {
     "data": {
      "text/plain": [
       "array([[-4.60802155e+02,  9.50778580e+01,  1.56908245e+01, ...,\n",
       "         9.55863000e-01,  5.61040000e-02,  1.80010000e+01],\n",
       "       [-4.31706268e+02,  7.79564972e+01,  3.43442202e+00, ...,\n",
       "         9.69402000e-01,  3.49360000e-02,  1.82910000e+01],\n",
       "       [-4.76320831e+02,  2.66027317e+01, -3.15517826e+01, ...,\n",
       "         8.23165000e-01,  2.52871000e-01,  8.00300000e+00],\n",
       "       ...,\n",
       "       [-6.63958801e+02,  4.46422653e+01, -2.06205139e+01, ...,\n",
       "         9.73368000e-01,  3.46410000e-02,  2.26570000e+01],\n",
       "       [-4.48102570e+02,  9.06678772e+01, -9.51643753e+00, ...,\n",
       "         9.02997000e-01,  1.25523000e-01,  1.24860000e+01],\n",
       "       [-5.04512207e+02,  7.59035797e+01,  8.97140217e+00, ...,\n",
       "         9.83993000e-01,  1.76160000e-02,  2.17330000e+01]])"
      ]
     },
     "execution_count": 101,
     "metadata": {},
     "output_type": "execute_result"
    }
   ],
   "source": [
    "X"
   ]
  },
  {
   "cell_type": "code",
   "execution_count": 107,
   "metadata": {
    "ExecuteTime": {
     "end_time": "2021-04-10T12:48:53.700426Z",
     "start_time": "2021-04-10T12:48:53.693984Z"
    }
   },
   "outputs": [],
   "source": [
    "y_np = np.asarray(y)"
   ]
  },
  {
   "cell_type": "code",
   "execution_count": 108,
   "metadata": {
    "ExecuteTime": {
     "end_time": "2021-04-10T12:48:58.461637Z",
     "start_time": "2021-04-10T12:48:58.452391Z"
    }
   },
   "outputs": [
    {
     "data": {
      "text/plain": [
       "numpy.ndarray"
      ]
     },
     "execution_count": 108,
     "metadata": {},
     "output_type": "execute_result"
    }
   ],
   "source": [
    "type(y)"
   ]
  },
  {
   "cell_type": "code",
   "execution_count": 111,
   "metadata": {
    "ExecuteTime": {
     "end_time": "2021-04-10T12:49:38.189632Z",
     "start_time": "2021-04-10T12:49:38.164060Z"
    }
   },
   "outputs": [
    {
     "data": {
      "text/plain": [
       "['../feats/mfcc_and_praat/y2.joblib']"
      ]
     },
     "execution_count": 111,
     "metadata": {},
     "output_type": "execute_result"
    }
   ],
   "source": [
    "X_name, y_name = '../feats/mfcc_and_praat/X1.joblib', '../feats/mfcc_and_praat/y2.joblib'\n",
    "#X, y = np.asarray(X), np.asarray(y)\n",
    "#y = np.asarray(y)\n",
    "joblib.dump(X, X_name)\n",
    "joblib.dump(y, y_name)"
   ]
  },
  {
   "cell_type": "code",
   "execution_count": 110,
   "metadata": {
    "ExecuteTime": {
     "end_time": "2021-04-10T12:49:30.795454Z",
     "start_time": "2021-04-10T12:49:30.786507Z"
    }
   },
   "outputs": [
    {
     "data": {
      "text/plain": [
       "(5249, 67)"
      ]
     },
     "execution_count": 110,
     "metadata": {},
     "output_type": "execute_result"
    }
   ],
   "source": [
    "X.shape"
   ]
  },
  {
   "cell_type": "code",
   "execution_count": null,
   "metadata": {},
   "outputs": [],
   "source": []
  }
 ],
 "metadata": {
  "kernelspec": {
   "display_name": "Python 3",
   "language": "python",
   "name": "python3"
  },
  "language_info": {
   "codemirror_mode": {
    "name": "ipython",
    "version": 3
   },
   "file_extension": ".py",
   "mimetype": "text/x-python",
   "name": "python",
   "nbconvert_exporter": "python",
   "pygments_lexer": "ipython3",
   "version": "3.7.6"
  },
  "toc": {
   "base_numbering": 1,
   "nav_menu": {},
   "number_sections": false,
   "sideBar": true,
   "skip_h1_title": false,
   "title_cell": "Table of Contents",
   "title_sidebar": "Contents",
   "toc_cell": false,
   "toc_position": {},
   "toc_section_display": true,
   "toc_window_display": false
  }
 },
 "nbformat": 4,
 "nbformat_minor": 2
}
