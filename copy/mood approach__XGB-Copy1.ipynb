{
 "cells": [
  {
   "cell_type": "code",
   "execution_count": 1,
   "metadata": {
    "ExecuteTime": {
     "end_time": "2021-04-23T15:47:09.921668Z",
     "start_time": "2021-04-23T15:46:53.002212Z"
    }
   },
   "outputs": [
    {
     "name": "stderr",
     "output_type": "stream",
     "text": [
      "Using TensorFlow backend.\n"
     ]
    }
   ],
   "source": [
    "import librosa \n",
    "from Praat import Praat_IdeaLogic as PLogic\n",
    "from PIL import Image\n",
    "import os\n",
    "import glob\n",
    "import joblib\n",
    "from sklearn.model_selection import train_test_split\n",
    "import keras\n",
    "import numpy as np\n",
    "import tensorflow as tf\n",
    "from keras.preprocessing import sequence\n",
    "from keras.models import Sequential\n",
    "from keras.layers import Dense, Embedding\n",
    "from keras.utils import to_categorical\n",
    "from keras.layers import Input, Flatten, Dropout, Activation\n",
    "from keras.layers import Conv1D, MaxPooling1D\n",
    "from keras.models import Model\n",
    "from keras.callbacks import ModelCheckpoint\n",
    "from xgboost import XGBClassifier\n",
    "from sklearn.metrics import accuracy_score\n",
    "import time"
   ]
  },
  {
   "cell_type": "markdown",
   "metadata": {
    "heading_collapsed": true
   },
   "source": [
    "# Praat on basic XGBoost"
   ]
  },
  {
   "cell_type": "code",
   "execution_count": 20,
   "metadata": {
    "ExecuteTime": {
     "end_time": "2021-03-30T11:20:01.668543Z",
     "start_time": "2021-03-30T11:20:01.648886Z"
    },
    "hidden": true
   },
   "outputs": [],
   "source": [
    "X = joblib.load('X.joblib')\n",
    "y = joblib.load('y.joblib')"
   ]
  },
  {
   "cell_type": "code",
   "execution_count": 95,
   "metadata": {
    "ExecuteTime": {
     "end_time": "2021-04-03T12:25:17.300201Z",
     "start_time": "2021-04-03T12:25:17.282957Z"
    },
    "hidden": true
   },
   "outputs": [],
   "source": [
    "from sklearn.model_selection import train_test_split\n",
    "import keras\n",
    "import numpy as np\n",
    "import tensorflow as tf\n",
    "from keras.preprocessing import sequence\n",
    "from keras.models import Sequential\n",
    "from keras.layers import Dense, Embedding\n",
    "from keras.utils import to_categorical\n",
    "from keras.layers import Input, Flatten, Dropout, Activation\n",
    "from keras.layers import Conv1D, MaxPooling1D\n",
    "from keras.models import Model\n",
    "from keras.callbacks import ModelCheckpoint\n",
    "\n",
    "X_train, X_test, y_train, y_test = train_test_split(X, y, test_size=0.33, random_state=42)"
   ]
  },
  {
   "cell_type": "code",
   "execution_count": 22,
   "metadata": {
    "ExecuteTime": {
     "end_time": "2021-03-30T11:20:11.153410Z",
     "start_time": "2021-03-30T11:20:03.074820Z"
    },
    "hidden": true
   },
   "outputs": [
    {
     "name": "stdout",
     "output_type": "stream",
     "text": [
      "Accuracy: 76.80%\n"
     ]
    }
   ],
   "source": [
    "from xgboost import XGBClassifier\n",
    "from sklearn.metrics import accuracy_score\n",
    "\n",
    "model = XGBClassifier()\n",
    "model.fit(X_train, y_train)\n",
    "\n",
    "y_pred = model.predict(X_test)\n",
    "predictions = [round(value) for value in y_pred]\n",
    "\n",
    "accuracy = accuracy_score(y_test, predictions)\n",
    "print(\"Accuracy: %.2f%%\" % (accuracy * 100.0))"
   ]
  },
  {
   "cell_type": "markdown",
   "metadata": {
    "heading_collapsed": true
   },
   "source": [
    "# MFCC on basic XGBoost"
   ]
  },
  {
   "cell_type": "code",
   "execution_count": 23,
   "metadata": {
    "ExecuteTime": {
     "end_time": "2021-03-30T11:20:11.175725Z",
     "start_time": "2021-03-30T11:20:11.157641Z"
    },
    "hidden": true
   },
   "outputs": [],
   "source": [
    "X = joblib.load('mfcc joblib/X.joblib')\n",
    "y = joblib.load('mfcc joblib/y.joblib')"
   ]
  },
  {
   "cell_type": "code",
   "execution_count": 24,
   "metadata": {
    "ExecuteTime": {
     "end_time": "2021-03-30T11:20:11.204440Z",
     "start_time": "2021-03-30T11:20:11.180469Z"
    },
    "hidden": true
   },
   "outputs": [],
   "source": [
    "X_train, X_test, y_train, y_test = train_test_split(X, y, test_size=0.33, random_state=42)"
   ]
  },
  {
   "cell_type": "code",
   "execution_count": 25,
   "metadata": {
    "ExecuteTime": {
     "end_time": "2021-03-30T11:20:23.989237Z",
     "start_time": "2021-03-30T11:20:11.208545Z"
    },
    "hidden": true
   },
   "outputs": [
    {
     "name": "stdout",
     "output_type": "stream",
     "text": [
      "Accuracy: 80.10%\n"
     ]
    }
   ],
   "source": [
    "model = XGBClassifier()\n",
    "model.fit(X_train, y_train)\n",
    "\n",
    "y_pred = model.predict(X_test)\n",
    "predictions = [round(value) for value in y_pred]\n",
    "\n",
    "accuracy = accuracy_score(y_test, predictions)\n",
    "print(\"Accuracy: %.2f%%\" % (accuracy * 100.0))"
   ]
  },
  {
   "cell_type": "markdown",
   "metadata": {
    "heading_collapsed": true
   },
   "source": [
    "# Praat on basic XGBoost minor dataset"
   ]
  },
  {
   "cell_type": "code",
   "execution_count": 26,
   "metadata": {
    "ExecuteTime": {
     "end_time": "2021-03-30T11:20:24.004401Z",
     "start_time": "2021-03-30T11:20:23.993626Z"
    },
    "hidden": true
   },
   "outputs": [],
   "source": [
    "X = joblib.load('vanilla_data/X.joblib')\n",
    "y = joblib.load('vanilla_data/y.joblib')"
   ]
  },
  {
   "cell_type": "code",
   "execution_count": 27,
   "metadata": {
    "ExecuteTime": {
     "end_time": "2021-03-30T11:20:24.046147Z",
     "start_time": "2021-03-30T11:20:24.007643Z"
    },
    "hidden": true
   },
   "outputs": [],
   "source": [
    "X_train, X_test, y_train, y_test = train_test_split(X, y, test_size=0.33, random_state=42)"
   ]
  },
  {
   "cell_type": "code",
   "execution_count": 28,
   "metadata": {
    "ExecuteTime": {
     "end_time": "2021-03-30T11:20:26.408382Z",
     "start_time": "2021-03-30T11:20:24.049268Z"
    },
    "hidden": true
   },
   "outputs": [
    {
     "name": "stdout",
     "output_type": "stream",
     "text": [
      "Accuracy: 46.11%\n"
     ]
    }
   ],
   "source": [
    "model = XGBClassifier()\n",
    "model.fit(X_train, y_train)\n",
    "\n",
    "y_pred = model.predict(X_test)\n",
    "predictions = [round(value) for value in y_pred]\n",
    "\n",
    "accuracy = accuracy_score(y_test, predictions)\n",
    "print(\"Accuracy: %.2f%%\" % (accuracy * 100.0))"
   ]
  },
  {
   "cell_type": "markdown",
   "metadata": {
    "heading_collapsed": true
   },
   "source": [
    "# MFCC on basic XGBoost minor dataset"
   ]
  },
  {
   "cell_type": "code",
   "execution_count": 29,
   "metadata": {
    "ExecuteTime": {
     "end_time": "2021-03-30T11:20:26.423810Z",
     "start_time": "2021-03-30T11:20:26.415104Z"
    },
    "hidden": true
   },
   "outputs": [],
   "source": [
    "X = joblib.load('minor_mfcc/X.joblib')\n",
    "y = joblib.load('minor_mfcc/y.joblib')"
   ]
  },
  {
   "cell_type": "code",
   "execution_count": 30,
   "metadata": {
    "ExecuteTime": {
     "end_time": "2021-03-30T11:22:15.429482Z",
     "start_time": "2021-03-30T11:22:15.407326Z"
    },
    "hidden": true
   },
   "outputs": [],
   "source": [
    "X_train, X_test, y_train, y_test = train_test_split(X, y, test_size=0.33, random_state=42)"
   ]
  },
  {
   "cell_type": "code",
   "execution_count": 31,
   "metadata": {
    "ExecuteTime": {
     "end_time": "2021-03-30T11:22:55.043797Z",
     "start_time": "2021-03-30T11:22:51.459195Z"
    },
    "hidden": true
   },
   "outputs": [
    {
     "name": "stdout",
     "output_type": "stream",
     "text": [
      "Accuracy: 51.68%\n"
     ]
    }
   ],
   "source": [
    "model = XGBClassifier()\n",
    "model.fit(X_train, y_train)\n",
    "\n",
    "y_pred = model.predict(X_test)\n",
    "predictions = [round(value) for value in y_pred]\n",
    "\n",
    "accuracy = accuracy_score(y_test, predictions)\n",
    "print(\"Accuracy: %.2f%%\" % (accuracy * 100.0))"
   ]
  },
  {
   "cell_type": "markdown",
   "metadata": {
    "heading_collapsed": true
   },
   "source": [
    "# MFCC on tuned XGBoost minor dataset"
   ]
  },
  {
   "cell_type": "code",
   "execution_count": 32,
   "metadata": {
    "ExecuteTime": {
     "end_time": "2021-03-30T11:24:31.860027Z",
     "start_time": "2021-03-30T11:24:31.843299Z"
    },
    "hidden": true
   },
   "outputs": [],
   "source": [
    "X = joblib.load('minor_mfcc/X.joblib')\n",
    "y = joblib.load('minor_mfcc/y.joblib')\n",
    "\n",
    "X_train, X_test, y_train, y_test = train_test_split(X, y, test_size=0.33, random_state=42)"
   ]
  },
  {
   "cell_type": "code",
   "execution_count": 35,
   "metadata": {
    "ExecuteTime": {
     "end_time": "2021-03-30T11:27:36.145160Z",
     "start_time": "2021-03-30T11:27:03.048390Z"
    },
    "hidden": true
   },
   "outputs": [
    {
     "name": "stdout",
     "output_type": "stream",
     "text": [
      "Accuracy: 53.57%\n"
     ]
    }
   ],
   "source": [
    "model = XGBClassifier(learning_rate = 0.01,\n",
    "                      n_estimators = 1000,\n",
    "                      max_depth = 3,\n",
    "                      subsample = 0.8,\n",
    "                      colsample_bytree = 1,\n",
    "                      gamma = 1\n",
    "                     )\n",
    "model.fit(X_train, y_train)\n",
    "\n",
    "y_pred = model.predict(X_test)\n",
    "predictions = [round(value) for value in y_pred]\n",
    "\n",
    "accuracy = accuracy_score(y_test, predictions)\n",
    "print(\"Accuracy: %.2f%%\" % (accuracy * 100.0))"
   ]
  },
  {
   "cell_type": "markdown",
   "metadata": {
    "heading_collapsed": true,
    "hidden": true
   },
   "source": [
    "## tuning max_depth"
   ]
  },
  {
   "cell_type": "code",
   "execution_count": 36,
   "metadata": {
    "ExecuteTime": {
     "end_time": "2021-03-30T11:29:21.121225Z",
     "start_time": "2021-03-30T11:28:38.678784Z"
    },
    "hidden": true
   },
   "outputs": [
    {
     "name": "stdout",
     "output_type": "stream",
     "text": [
      "Accuracy: 55.67%\n"
     ]
    }
   ],
   "source": [
    "model = XGBClassifier(learning_rate = 0.01,\n",
    "                      n_estimators = 1000,\n",
    "                      max_depth = 4,\n",
    "                      subsample = 0.8,\n",
    "                      colsample_bytree = 1,\n",
    "                      gamma = 1\n",
    "                     )\n",
    "model.fit(X_train, y_train)\n",
    "\n",
    "y_pred = model.predict(X_test)\n",
    "predictions = [round(value) for value in y_pred]\n",
    "\n",
    "accuracy = accuracy_score(y_test, predictions)\n",
    "print(\"Accuracy: %.2f%%\" % (accuracy * 100.0))"
   ]
  },
  {
   "cell_type": "code",
   "execution_count": 37,
   "metadata": {
    "ExecuteTime": {
     "end_time": "2021-03-30T11:30:46.484275Z",
     "start_time": "2021-03-30T11:29:54.525177Z"
    },
    "hidden": true
   },
   "outputs": [
    {
     "name": "stdout",
     "output_type": "stream",
     "text": [
      "Accuracy: 56.72%\n"
     ]
    }
   ],
   "source": [
    "model = XGBClassifier(learning_rate = 0.01,\n",
    "                      n_estimators = 1000,\n",
    "                      max_depth = 5,\n",
    "                      subsample = 0.8,\n",
    "                      colsample_bytree = 1,\n",
    "                      gamma = 1\n",
    "                     )\n",
    "model.fit(X_train, y_train)\n",
    "\n",
    "y_pred = model.predict(X_test)\n",
    "predictions = [round(value) for value in y_pred]\n",
    "\n",
    "accuracy = accuracy_score(y_test, predictions)\n",
    "print(\"Accuracy: %.2f%%\" % (accuracy * 100.0))"
   ]
  },
  {
   "cell_type": "code",
   "execution_count": 38,
   "metadata": {
    "ExecuteTime": {
     "end_time": "2021-03-30T11:31:56.393563Z",
     "start_time": "2021-03-30T11:30:57.117654Z"
    },
    "hidden": true
   },
   "outputs": [
    {
     "name": "stdout",
     "output_type": "stream",
     "text": [
      "Accuracy: 57.14%\n"
     ]
    }
   ],
   "source": [
    "######################### 6 depth is the best value #########################\n",
    "\n",
    "model = XGBClassifier(learning_rate = 0.01,\n",
    "                      n_estimators = 1000,\n",
    "                      max_depth = 6,\n",
    "                      subsample = 0.8,\n",
    "                      colsample_bytree = 1,\n",
    "                      gamma = 1\n",
    "                     )\n",
    "model.fit(X_train, y_train)\n",
    "\n",
    "y_pred = model.predict(X_test)\n",
    "predictions = [round(value) for value in y_pred]\n",
    "\n",
    "accuracy = accuracy_score(y_test, predictions)\n",
    "print(\"Accuracy: %.2f%%\" % (accuracy * 100.0))"
   ]
  },
  {
   "cell_type": "code",
   "execution_count": 39,
   "metadata": {
    "ExecuteTime": {
     "end_time": "2021-03-30T11:33:13.910817Z",
     "start_time": "2021-03-30T11:32:08.071385Z"
    },
    "hidden": true
   },
   "outputs": [
    {
     "name": "stdout",
     "output_type": "stream",
     "text": [
      "Accuracy: 56.09%\n"
     ]
    }
   ],
   "source": [
    "######################### 7 depth is too much #########################\n",
    "\n",
    "model = XGBClassifier(learning_rate = 0.01,\n",
    "                      n_estimators = 1000,\n",
    "                      max_depth = 7,\n",
    "                      subsample = 0.8,\n",
    "                      colsample_bytree = 1,\n",
    "                      gamma = 1\n",
    "                     )\n",
    "model.fit(X_train, y_train)\n",
    "\n",
    "y_pred = model.predict(X_test)\n",
    "predictions = [round(value) for value in y_pred]\n",
    "\n",
    "accuracy = accuracy_score(y_test, predictions)\n",
    "print(\"Accuracy: %.2f%%\" % (accuracy * 100.0))"
   ]
  },
  {
   "cell_type": "code",
   "execution_count": 40,
   "metadata": {
    "ExecuteTime": {
     "end_time": "2021-03-30T11:36:20.883017Z",
     "start_time": "2021-03-30T11:35:17.849132Z"
    },
    "hidden": true
   },
   "outputs": [
    {
     "name": "stdout",
     "output_type": "stream",
     "text": [
      "Accuracy: 57.56%\n"
     ]
    }
   ],
   "source": [
    "model = XGBClassifier(learning_rate = 0.01,\n",
    "                      n_estimators = 1000,\n",
    "                      max_depth = 6,\n",
    "                      subsample = 0.9,      #### best value ####\n",
    "                      colsample_bytree = 1,\n",
    "                      gamma = 1\n",
    "                     )\n",
    "model.fit(X_train, y_train)\n",
    "\n",
    "y_pred = model.predict(X_test)\n",
    "predictions = [round(value) for value in y_pred]\n",
    "\n",
    "accuracy = accuracy_score(y_test, predictions)\n",
    "print(\"Accuracy: %.2f%%\" % (accuracy * 100.0))"
   ]
  },
  {
   "cell_type": "code",
   "execution_count": 41,
   "metadata": {
    "ExecuteTime": {
     "end_time": "2021-03-30T11:38:30.929105Z",
     "start_time": "2021-03-30T11:37:25.581578Z"
    },
    "hidden": true
   },
   "outputs": [
    {
     "name": "stdout",
     "output_type": "stream",
     "text": [
      "Accuracy: 53.36%\n"
     ]
    }
   ],
   "source": [
    "model = XGBClassifier(learning_rate = 0.01,\n",
    "                      n_estimators = 1000,\n",
    "                      max_depth = 6,\n",
    "                      subsample = 1,    #### weak value ####\n",
    "                      colsample_bytree = 1,\n",
    "                      gamma = 1\n",
    "                     )\n",
    "model.fit(X_train, y_train)\n",
    "\n",
    "y_pred = model.predict(X_test)\n",
    "predictions = [round(value) for value in y_pred]\n",
    "\n",
    "accuracy = accuracy_score(y_test, predictions)\n",
    "print(\"Accuracy: %.2f%%\" % (accuracy * 100.0))"
   ]
  },
  {
   "cell_type": "markdown",
   "metadata": {
    "heading_collapsed": true
   },
   "source": [
    "# MFCC on tuned XGBoost major dataset"
   ]
  },
  {
   "cell_type": "markdown",
   "metadata": {
    "heading_collapsed": true,
    "hidden": true
   },
   "source": [
    "## tuning"
   ]
  },
  {
   "cell_type": "code",
   "execution_count": 42,
   "metadata": {
    "ExecuteTime": {
     "end_time": "2021-03-30T11:40:46.565445Z",
     "start_time": "2021-03-30T11:40:46.542178Z"
    },
    "hidden": true
   },
   "outputs": [],
   "source": [
    "X = joblib.load('mfcc joblib/X.joblib')\n",
    "y = joblib.load('mfcc joblib/y.joblib')\n",
    "\n",
    "X_train, X_test, y_train, y_test = train_test_split(X, y, test_size=0.33, random_state=42)"
   ]
  },
  {
   "cell_type": "code",
   "execution_count": 43,
   "metadata": {
    "ExecuteTime": {
     "end_time": "2021-03-30T11:44:57.890007Z",
     "start_time": "2021-03-30T11:41:05.439276Z"
    },
    "hidden": true
   },
   "outputs": [
    {
     "name": "stdout",
     "output_type": "stream",
     "text": [
      "Accuracy: 84.31%\n"
     ]
    }
   ],
   "source": [
    "model = XGBClassifier(learning_rate = 0.01,\n",
    "                      n_estimators = 1000,\n",
    "                      max_depth = 6,\n",
    "                      subsample = 0.9,\n",
    "                      colsample_bytree = 1,\n",
    "                      gamma = 1\n",
    "                     )\n",
    "model.fit(X_train, y_train)\n",
    "\n",
    "y_pred = model.predict(X_test)\n",
    "predictions = [round(value) for value in y_pred]\n",
    "\n",
    "accuracy = accuracy_score(y_test, predictions)\n",
    "print(\"Accuracy: %.2f%%\" % (accuracy * 100.0))"
   ]
  },
  {
   "cell_type": "code",
   "execution_count": 44,
   "metadata": {
    "ExecuteTime": {
     "end_time": "2021-03-30T11:47:44.150682Z",
     "start_time": "2021-03-30T11:47:19.764834Z"
    },
    "hidden": true
   },
   "outputs": [
    {
     "name": "stdout",
     "output_type": "stream",
     "text": [
      "--- Model trained. Training time: 24.36557149887085 seconds ---\n",
      "Accuracy: 76.99%\n"
     ]
    }
   ],
   "source": [
    "\n",
    "\n",
    "start_time = time.time()\n",
    "\n",
    "model = XGBClassifier(learning_rate = 0.01,\n",
    "                      n_estimators = 100,\n",
    "                      max_depth = 6,\n",
    "                      subsample = 0.9,\n",
    "                      colsample_bytree = 1,\n",
    "                      gamma = 1\n",
    "                     )\n",
    "model.fit(X_train, y_train)\n",
    "\n",
    "y_pred = model.predict(X_test)\n",
    "predictions = [round(value) for value in y_pred]\n",
    "\n",
    "print(\"--- Model trained. Training time: %s seconds ---\" % (time.time() - start_time))\n",
    "\n",
    "accuracy = accuracy_score(y_test, predictions)\n",
    "print(\"Accuracy: %.2f%%\" % (accuracy * 100.0))"
   ]
  },
  {
   "cell_type": "code",
   "execution_count": 45,
   "metadata": {
    "ExecuteTime": {
     "end_time": "2021-03-30T11:52:11.524315Z",
     "start_time": "2021-03-30T11:48:30.831262Z"
    },
    "hidden": true
   },
   "outputs": [
    {
     "name": "stdout",
     "output_type": "stream",
     "text": [
      "--- Model trained. Training time: 220.66560411453247 seconds ---\n",
      "Accuracy: 84.83%\n"
     ]
    }
   ],
   "source": [
    "import time\n",
    "\n",
    "start_time = time.time()\n",
    "\n",
    "model = XGBClassifier(learning_rate = 0.01,\n",
    "                      n_estimators = 1000,\n",
    "                      max_depth = 6,\n",
    "                      subsample = 0.8,\n",
    "                      colsample_bytree = 1,\n",
    "                      gamma = 1\n",
    "                     )\n",
    "model.fit(X_train, y_train)\n",
    "\n",
    "y_pred = model.predict(X_test)\n",
    "predictions = [round(value) for value in y_pred]\n",
    "\n",
    "print(\"--- Model trained. Training time: %s seconds ---\" % (time.time() - start_time))\n",
    "\n",
    "accuracy = accuracy_score(y_test, predictions)\n",
    "print(\"Accuracy: %.2f%%\" % (accuracy * 100.0))"
   ]
  },
  {
   "cell_type": "code",
   "execution_count": 48,
   "metadata": {
    "ExecuteTime": {
     "end_time": "2021-03-30T12:22:47.717424Z",
     "start_time": "2021-03-30T12:00:19.717889Z"
    },
    "hidden": true
   },
   "outputs": [
    {
     "name": "stdout",
     "output_type": "stream",
     "text": [
      "Fitting 4 folds for each of 17280 candidates, totalling 69120 fits\n"
     ]
    },
    {
     "name": "stderr",
     "output_type": "stream",
     "text": [
      "[Parallel(n_jobs=1)]: Using backend SequentialBackend with 1 concurrent workers.\n"
     ]
    },
    {
     "ename": "KeyboardInterrupt",
     "evalue": "",
     "output_type": "error",
     "traceback": [
      "\u001b[0;31m---------------------------------------------------------------------------\u001b[0m",
      "\u001b[0;31mKeyboardInterrupt\u001b[0m                         Traceback (most recent call last)",
      "\u001b[0;32m<ipython-input-48-b7b2c78d8bad>\u001b[0m in \u001b[0;36m<module>\u001b[0;34m\u001b[0m\n\u001b[1;32m     20\u001b[0m \u001b[0;34m\u001b[0m\u001b[0m\n\u001b[1;32m     21\u001b[0m \u001b[0mmse_grid\u001b[0m \u001b[0;34m=\u001b[0m \u001b[0mGridSearchCV\u001b[0m\u001b[0;34m(\u001b[0m\u001b[0mestimator\u001b[0m \u001b[0;34m=\u001b[0m \u001b[0mmodel\u001b[0m\u001b[0;34m,\u001b[0m \u001b[0mparam_grid\u001b[0m \u001b[0;34m=\u001b[0m \u001b[0mparam_grid_gb\u001b[0m\u001b[0;34m,\u001b[0m \u001b[0mscoring\u001b[0m \u001b[0;34m=\u001b[0m \u001b[0;34m'neg_mean_squared_error'\u001b[0m\u001b[0;34m,\u001b[0m \u001b[0mcv\u001b[0m \u001b[0;34m=\u001b[0m \u001b[0;36m4\u001b[0m\u001b[0;34m,\u001b[0m \u001b[0mverbose\u001b[0m \u001b[0;34m=\u001b[0m \u001b[0;36m1\u001b[0m\u001b[0;34m)\u001b[0m\u001b[0;34m\u001b[0m\u001b[0;34m\u001b[0m\u001b[0m\n\u001b[0;32m---> 22\u001b[0;31m \u001b[0mmse_grid\u001b[0m\u001b[0;34m.\u001b[0m\u001b[0mfit\u001b[0m\u001b[0;34m(\u001b[0m\u001b[0mX\u001b[0m\u001b[0;34m,\u001b[0m\u001b[0my\u001b[0m\u001b[0;34m)\u001b[0m\u001b[0;34m\u001b[0m\u001b[0;34m\u001b[0m\u001b[0m\n\u001b[0m\u001b[1;32m     23\u001b[0m \u001b[0;34m\u001b[0m\u001b[0m\n\u001b[1;32m     24\u001b[0m \u001b[0my_pred\u001b[0m \u001b[0;34m=\u001b[0m \u001b[0mmodel\u001b[0m\u001b[0;34m.\u001b[0m\u001b[0mpredict\u001b[0m\u001b[0;34m(\u001b[0m\u001b[0mX_test\u001b[0m\u001b[0;34m)\u001b[0m\u001b[0;34m\u001b[0m\u001b[0;34m\u001b[0m\u001b[0m\n",
      "\u001b[0;32m/opt/conda/lib/python3.7/site-packages/sklearn/model_selection/_search.py\u001b[0m in \u001b[0;36mfit\u001b[0;34m(self, X, y, groups, **fit_params)\u001b[0m\n\u001b[1;32m    708\u001b[0m                 \u001b[0;32mreturn\u001b[0m \u001b[0mresults\u001b[0m\u001b[0;34m\u001b[0m\u001b[0;34m\u001b[0m\u001b[0m\n\u001b[1;32m    709\u001b[0m \u001b[0;34m\u001b[0m\u001b[0m\n\u001b[0;32m--> 710\u001b[0;31m             \u001b[0mself\u001b[0m\u001b[0;34m.\u001b[0m\u001b[0m_run_search\u001b[0m\u001b[0;34m(\u001b[0m\u001b[0mevaluate_candidates\u001b[0m\u001b[0;34m)\u001b[0m\u001b[0;34m\u001b[0m\u001b[0;34m\u001b[0m\u001b[0m\n\u001b[0m\u001b[1;32m    711\u001b[0m \u001b[0;34m\u001b[0m\u001b[0m\n\u001b[1;32m    712\u001b[0m         \u001b[0;31m# For multi-metric evaluation, store the best_index_, best_params_ and\u001b[0m\u001b[0;34m\u001b[0m\u001b[0;34m\u001b[0m\u001b[0;34m\u001b[0m\u001b[0m\n",
      "\u001b[0;32m/opt/conda/lib/python3.7/site-packages/sklearn/model_selection/_search.py\u001b[0m in \u001b[0;36m_run_search\u001b[0;34m(self, evaluate_candidates)\u001b[0m\n\u001b[1;32m   1149\u001b[0m     \u001b[0;32mdef\u001b[0m \u001b[0m_run_search\u001b[0m\u001b[0;34m(\u001b[0m\u001b[0mself\u001b[0m\u001b[0;34m,\u001b[0m \u001b[0mevaluate_candidates\u001b[0m\u001b[0;34m)\u001b[0m\u001b[0;34m:\u001b[0m\u001b[0;34m\u001b[0m\u001b[0;34m\u001b[0m\u001b[0m\n\u001b[1;32m   1150\u001b[0m         \u001b[0;34m\"\"\"Search all candidates in param_grid\"\"\"\u001b[0m\u001b[0;34m\u001b[0m\u001b[0;34m\u001b[0m\u001b[0m\n\u001b[0;32m-> 1151\u001b[0;31m         \u001b[0mevaluate_candidates\u001b[0m\u001b[0;34m(\u001b[0m\u001b[0mParameterGrid\u001b[0m\u001b[0;34m(\u001b[0m\u001b[0mself\u001b[0m\u001b[0;34m.\u001b[0m\u001b[0mparam_grid\u001b[0m\u001b[0;34m)\u001b[0m\u001b[0;34m)\u001b[0m\u001b[0;34m\u001b[0m\u001b[0;34m\u001b[0m\u001b[0m\n\u001b[0m\u001b[1;32m   1152\u001b[0m \u001b[0;34m\u001b[0m\u001b[0m\n\u001b[1;32m   1153\u001b[0m \u001b[0;34m\u001b[0m\u001b[0m\n",
      "\u001b[0;32m/opt/conda/lib/python3.7/site-packages/sklearn/model_selection/_search.py\u001b[0m in \u001b[0;36mevaluate_candidates\u001b[0;34m(candidate_params)\u001b[0m\n\u001b[1;32m    687\u001b[0m                                \u001b[0;32mfor\u001b[0m \u001b[0mparameters\u001b[0m\u001b[0;34m,\u001b[0m \u001b[0;34m(\u001b[0m\u001b[0mtrain\u001b[0m\u001b[0;34m,\u001b[0m \u001b[0mtest\u001b[0m\u001b[0;34m)\u001b[0m\u001b[0;34m\u001b[0m\u001b[0;34m\u001b[0m\u001b[0m\n\u001b[1;32m    688\u001b[0m                                in product(candidate_params,\n\u001b[0;32m--> 689\u001b[0;31m                                           cv.split(X, y, groups)))\n\u001b[0m\u001b[1;32m    690\u001b[0m \u001b[0;34m\u001b[0m\u001b[0m\n\u001b[1;32m    691\u001b[0m                 \u001b[0;32mif\u001b[0m \u001b[0mlen\u001b[0m\u001b[0;34m(\u001b[0m\u001b[0mout\u001b[0m\u001b[0;34m)\u001b[0m \u001b[0;34m<\u001b[0m \u001b[0;36m1\u001b[0m\u001b[0;34m:\u001b[0m\u001b[0;34m\u001b[0m\u001b[0;34m\u001b[0m\u001b[0m\n",
      "\u001b[0;32m/opt/conda/lib/python3.7/site-packages/joblib/parallel.py\u001b[0m in \u001b[0;36m__call__\u001b[0;34m(self, iterable)\u001b[0m\n\u001b[1;32m   1005\u001b[0m                 \u001b[0mself\u001b[0m\u001b[0;34m.\u001b[0m\u001b[0m_iterating\u001b[0m \u001b[0;34m=\u001b[0m \u001b[0mself\u001b[0m\u001b[0;34m.\u001b[0m\u001b[0m_original_iterator\u001b[0m \u001b[0;32mis\u001b[0m \u001b[0;32mnot\u001b[0m \u001b[0;32mNone\u001b[0m\u001b[0;34m\u001b[0m\u001b[0;34m\u001b[0m\u001b[0m\n\u001b[1;32m   1006\u001b[0m \u001b[0;34m\u001b[0m\u001b[0m\n\u001b[0;32m-> 1007\u001b[0;31m             \u001b[0;32mwhile\u001b[0m \u001b[0mself\u001b[0m\u001b[0;34m.\u001b[0m\u001b[0mdispatch_one_batch\u001b[0m\u001b[0;34m(\u001b[0m\u001b[0miterator\u001b[0m\u001b[0;34m)\u001b[0m\u001b[0;34m:\u001b[0m\u001b[0;34m\u001b[0m\u001b[0;34m\u001b[0m\u001b[0m\n\u001b[0m\u001b[1;32m   1008\u001b[0m                 \u001b[0;32mpass\u001b[0m\u001b[0;34m\u001b[0m\u001b[0;34m\u001b[0m\u001b[0m\n\u001b[1;32m   1009\u001b[0m \u001b[0;34m\u001b[0m\u001b[0m\n",
      "\u001b[0;32m/opt/conda/lib/python3.7/site-packages/joblib/parallel.py\u001b[0m in \u001b[0;36mdispatch_one_batch\u001b[0;34m(self, iterator)\u001b[0m\n\u001b[1;32m    833\u001b[0m                 \u001b[0;32mreturn\u001b[0m \u001b[0;32mFalse\u001b[0m\u001b[0;34m\u001b[0m\u001b[0;34m\u001b[0m\u001b[0m\n\u001b[1;32m    834\u001b[0m             \u001b[0;32melse\u001b[0m\u001b[0;34m:\u001b[0m\u001b[0;34m\u001b[0m\u001b[0;34m\u001b[0m\u001b[0m\n\u001b[0;32m--> 835\u001b[0;31m                 \u001b[0mself\u001b[0m\u001b[0;34m.\u001b[0m\u001b[0m_dispatch\u001b[0m\u001b[0;34m(\u001b[0m\u001b[0mtasks\u001b[0m\u001b[0;34m)\u001b[0m\u001b[0;34m\u001b[0m\u001b[0;34m\u001b[0m\u001b[0m\n\u001b[0m\u001b[1;32m    836\u001b[0m                 \u001b[0;32mreturn\u001b[0m \u001b[0;32mTrue\u001b[0m\u001b[0;34m\u001b[0m\u001b[0;34m\u001b[0m\u001b[0m\n\u001b[1;32m    837\u001b[0m \u001b[0;34m\u001b[0m\u001b[0m\n",
      "\u001b[0;32m/opt/conda/lib/python3.7/site-packages/joblib/parallel.py\u001b[0m in \u001b[0;36m_dispatch\u001b[0;34m(self, batch)\u001b[0m\n\u001b[1;32m    752\u001b[0m         \u001b[0;32mwith\u001b[0m \u001b[0mself\u001b[0m\u001b[0;34m.\u001b[0m\u001b[0m_lock\u001b[0m\u001b[0;34m:\u001b[0m\u001b[0;34m\u001b[0m\u001b[0;34m\u001b[0m\u001b[0m\n\u001b[1;32m    753\u001b[0m             \u001b[0mjob_idx\u001b[0m \u001b[0;34m=\u001b[0m \u001b[0mlen\u001b[0m\u001b[0;34m(\u001b[0m\u001b[0mself\u001b[0m\u001b[0;34m.\u001b[0m\u001b[0m_jobs\u001b[0m\u001b[0;34m)\u001b[0m\u001b[0;34m\u001b[0m\u001b[0;34m\u001b[0m\u001b[0m\n\u001b[0;32m--> 754\u001b[0;31m             \u001b[0mjob\u001b[0m \u001b[0;34m=\u001b[0m \u001b[0mself\u001b[0m\u001b[0;34m.\u001b[0m\u001b[0m_backend\u001b[0m\u001b[0;34m.\u001b[0m\u001b[0mapply_async\u001b[0m\u001b[0;34m(\u001b[0m\u001b[0mbatch\u001b[0m\u001b[0;34m,\u001b[0m \u001b[0mcallback\u001b[0m\u001b[0;34m=\u001b[0m\u001b[0mcb\u001b[0m\u001b[0;34m)\u001b[0m\u001b[0;34m\u001b[0m\u001b[0;34m\u001b[0m\u001b[0m\n\u001b[0m\u001b[1;32m    755\u001b[0m             \u001b[0;31m# A job can complete so quickly than its callback is\u001b[0m\u001b[0;34m\u001b[0m\u001b[0;34m\u001b[0m\u001b[0;34m\u001b[0m\u001b[0m\n\u001b[1;32m    756\u001b[0m             \u001b[0;31m# called before we get here, causing self._jobs to\u001b[0m\u001b[0;34m\u001b[0m\u001b[0;34m\u001b[0m\u001b[0;34m\u001b[0m\u001b[0m\n",
      "\u001b[0;32m/opt/conda/lib/python3.7/site-packages/joblib/_parallel_backends.py\u001b[0m in \u001b[0;36mapply_async\u001b[0;34m(self, func, callback)\u001b[0m\n\u001b[1;32m    207\u001b[0m     \u001b[0;32mdef\u001b[0m \u001b[0mapply_async\u001b[0m\u001b[0;34m(\u001b[0m\u001b[0mself\u001b[0m\u001b[0;34m,\u001b[0m \u001b[0mfunc\u001b[0m\u001b[0;34m,\u001b[0m \u001b[0mcallback\u001b[0m\u001b[0;34m=\u001b[0m\u001b[0;32mNone\u001b[0m\u001b[0;34m)\u001b[0m\u001b[0;34m:\u001b[0m\u001b[0;34m\u001b[0m\u001b[0;34m\u001b[0m\u001b[0m\n\u001b[1;32m    208\u001b[0m         \u001b[0;34m\"\"\"Schedule a func to be run\"\"\"\u001b[0m\u001b[0;34m\u001b[0m\u001b[0;34m\u001b[0m\u001b[0m\n\u001b[0;32m--> 209\u001b[0;31m         \u001b[0mresult\u001b[0m \u001b[0;34m=\u001b[0m \u001b[0mImmediateResult\u001b[0m\u001b[0;34m(\u001b[0m\u001b[0mfunc\u001b[0m\u001b[0;34m)\u001b[0m\u001b[0;34m\u001b[0m\u001b[0;34m\u001b[0m\u001b[0m\n\u001b[0m\u001b[1;32m    210\u001b[0m         \u001b[0;32mif\u001b[0m \u001b[0mcallback\u001b[0m\u001b[0;34m:\u001b[0m\u001b[0;34m\u001b[0m\u001b[0;34m\u001b[0m\u001b[0m\n\u001b[1;32m    211\u001b[0m             \u001b[0mcallback\u001b[0m\u001b[0;34m(\u001b[0m\u001b[0mresult\u001b[0m\u001b[0;34m)\u001b[0m\u001b[0;34m\u001b[0m\u001b[0;34m\u001b[0m\u001b[0m\n",
      "\u001b[0;32m/opt/conda/lib/python3.7/site-packages/joblib/_parallel_backends.py\u001b[0m in \u001b[0;36m__init__\u001b[0;34m(self, batch)\u001b[0m\n\u001b[1;32m    588\u001b[0m         \u001b[0;31m# Don't delay the application, to avoid keeping the input\u001b[0m\u001b[0;34m\u001b[0m\u001b[0;34m\u001b[0m\u001b[0;34m\u001b[0m\u001b[0m\n\u001b[1;32m    589\u001b[0m         \u001b[0;31m# arguments in memory\u001b[0m\u001b[0;34m\u001b[0m\u001b[0;34m\u001b[0m\u001b[0;34m\u001b[0m\u001b[0m\n\u001b[0;32m--> 590\u001b[0;31m         \u001b[0mself\u001b[0m\u001b[0;34m.\u001b[0m\u001b[0mresults\u001b[0m \u001b[0;34m=\u001b[0m \u001b[0mbatch\u001b[0m\u001b[0;34m(\u001b[0m\u001b[0;34m)\u001b[0m\u001b[0;34m\u001b[0m\u001b[0;34m\u001b[0m\u001b[0m\n\u001b[0m\u001b[1;32m    591\u001b[0m \u001b[0;34m\u001b[0m\u001b[0m\n\u001b[1;32m    592\u001b[0m     \u001b[0;32mdef\u001b[0m \u001b[0mget\u001b[0m\u001b[0;34m(\u001b[0m\u001b[0mself\u001b[0m\u001b[0;34m)\u001b[0m\u001b[0;34m:\u001b[0m\u001b[0;34m\u001b[0m\u001b[0;34m\u001b[0m\u001b[0m\n",
      "\u001b[0;32m/opt/conda/lib/python3.7/site-packages/joblib/parallel.py\u001b[0m in \u001b[0;36m__call__\u001b[0;34m(self)\u001b[0m\n\u001b[1;32m    254\u001b[0m         \u001b[0;32mwith\u001b[0m \u001b[0mparallel_backend\u001b[0m\u001b[0;34m(\u001b[0m\u001b[0mself\u001b[0m\u001b[0;34m.\u001b[0m\u001b[0m_backend\u001b[0m\u001b[0;34m,\u001b[0m \u001b[0mn_jobs\u001b[0m\u001b[0;34m=\u001b[0m\u001b[0mself\u001b[0m\u001b[0;34m.\u001b[0m\u001b[0m_n_jobs\u001b[0m\u001b[0;34m)\u001b[0m\u001b[0;34m:\u001b[0m\u001b[0;34m\u001b[0m\u001b[0;34m\u001b[0m\u001b[0m\n\u001b[1;32m    255\u001b[0m             return [func(*args, **kwargs)\n\u001b[0;32m--> 256\u001b[0;31m                     for func, args, kwargs in self.items]\n\u001b[0m\u001b[1;32m    257\u001b[0m \u001b[0;34m\u001b[0m\u001b[0m\n\u001b[1;32m    258\u001b[0m     \u001b[0;32mdef\u001b[0m \u001b[0m__len__\u001b[0m\u001b[0;34m(\u001b[0m\u001b[0mself\u001b[0m\u001b[0;34m)\u001b[0m\u001b[0;34m:\u001b[0m\u001b[0;34m\u001b[0m\u001b[0;34m\u001b[0m\u001b[0m\n",
      "\u001b[0;32m/opt/conda/lib/python3.7/site-packages/joblib/parallel.py\u001b[0m in \u001b[0;36m<listcomp>\u001b[0;34m(.0)\u001b[0m\n\u001b[1;32m    254\u001b[0m         \u001b[0;32mwith\u001b[0m \u001b[0mparallel_backend\u001b[0m\u001b[0;34m(\u001b[0m\u001b[0mself\u001b[0m\u001b[0;34m.\u001b[0m\u001b[0m_backend\u001b[0m\u001b[0;34m,\u001b[0m \u001b[0mn_jobs\u001b[0m\u001b[0;34m=\u001b[0m\u001b[0mself\u001b[0m\u001b[0;34m.\u001b[0m\u001b[0m_n_jobs\u001b[0m\u001b[0;34m)\u001b[0m\u001b[0;34m:\u001b[0m\u001b[0;34m\u001b[0m\u001b[0;34m\u001b[0m\u001b[0m\n\u001b[1;32m    255\u001b[0m             return [func(*args, **kwargs)\n\u001b[0;32m--> 256\u001b[0;31m                     for func, args, kwargs in self.items]\n\u001b[0m\u001b[1;32m    257\u001b[0m \u001b[0;34m\u001b[0m\u001b[0m\n\u001b[1;32m    258\u001b[0m     \u001b[0;32mdef\u001b[0m \u001b[0m__len__\u001b[0m\u001b[0;34m(\u001b[0m\u001b[0mself\u001b[0m\u001b[0;34m)\u001b[0m\u001b[0;34m:\u001b[0m\u001b[0;34m\u001b[0m\u001b[0;34m\u001b[0m\u001b[0m\n",
      "\u001b[0;32m/opt/conda/lib/python3.7/site-packages/sklearn/model_selection/_validation.py\u001b[0m in \u001b[0;36m_fit_and_score\u001b[0;34m(estimator, X, y, scorer, train, test, verbose, parameters, fit_params, return_train_score, return_parameters, return_n_test_samples, return_times, return_estimator, error_score)\u001b[0m\n\u001b[1;32m    513\u001b[0m             \u001b[0mestimator\u001b[0m\u001b[0;34m.\u001b[0m\u001b[0mfit\u001b[0m\u001b[0;34m(\u001b[0m\u001b[0mX_train\u001b[0m\u001b[0;34m,\u001b[0m \u001b[0;34m**\u001b[0m\u001b[0mfit_params\u001b[0m\u001b[0;34m)\u001b[0m\u001b[0;34m\u001b[0m\u001b[0;34m\u001b[0m\u001b[0m\n\u001b[1;32m    514\u001b[0m         \u001b[0;32melse\u001b[0m\u001b[0;34m:\u001b[0m\u001b[0;34m\u001b[0m\u001b[0;34m\u001b[0m\u001b[0m\n\u001b[0;32m--> 515\u001b[0;31m             \u001b[0mestimator\u001b[0m\u001b[0;34m.\u001b[0m\u001b[0mfit\u001b[0m\u001b[0;34m(\u001b[0m\u001b[0mX_train\u001b[0m\u001b[0;34m,\u001b[0m \u001b[0my_train\u001b[0m\u001b[0;34m,\u001b[0m \u001b[0;34m**\u001b[0m\u001b[0mfit_params\u001b[0m\u001b[0;34m)\u001b[0m\u001b[0;34m\u001b[0m\u001b[0;34m\u001b[0m\u001b[0m\n\u001b[0m\u001b[1;32m    516\u001b[0m \u001b[0;34m\u001b[0m\u001b[0m\n\u001b[1;32m    517\u001b[0m     \u001b[0;32mexcept\u001b[0m \u001b[0mException\u001b[0m \u001b[0;32mas\u001b[0m \u001b[0me\u001b[0m\u001b[0;34m:\u001b[0m\u001b[0;34m\u001b[0m\u001b[0;34m\u001b[0m\u001b[0m\n",
      "\u001b[0;32m/opt/conda/lib/python3.7/site-packages/xgboost/sklearn.py\u001b[0m in \u001b[0;36mfit\u001b[0;34m(self, X, y, sample_weight, eval_set, eval_metric, early_stopping_rounds, verbose, xgb_model, sample_weight_eval_set, callbacks)\u001b[0m\n\u001b[1;32m    730\u001b[0m                               \u001b[0mevals_result\u001b[0m\u001b[0;34m=\u001b[0m\u001b[0mevals_result\u001b[0m\u001b[0;34m,\u001b[0m \u001b[0mobj\u001b[0m\u001b[0;34m=\u001b[0m\u001b[0mobj\u001b[0m\u001b[0;34m,\u001b[0m \u001b[0mfeval\u001b[0m\u001b[0;34m=\u001b[0m\u001b[0mfeval\u001b[0m\u001b[0;34m,\u001b[0m\u001b[0;34m\u001b[0m\u001b[0;34m\u001b[0m\u001b[0m\n\u001b[1;32m    731\u001b[0m                               \u001b[0mverbose_eval\u001b[0m\u001b[0;34m=\u001b[0m\u001b[0mverbose\u001b[0m\u001b[0;34m,\u001b[0m \u001b[0mxgb_model\u001b[0m\u001b[0;34m=\u001b[0m\u001b[0mxgb_model\u001b[0m\u001b[0;34m,\u001b[0m\u001b[0;34m\u001b[0m\u001b[0;34m\u001b[0m\u001b[0m\n\u001b[0;32m--> 732\u001b[0;31m                               callbacks=callbacks)\n\u001b[0m\u001b[1;32m    733\u001b[0m \u001b[0;34m\u001b[0m\u001b[0m\n\u001b[1;32m    734\u001b[0m         \u001b[0mself\u001b[0m\u001b[0;34m.\u001b[0m\u001b[0mobjective\u001b[0m \u001b[0;34m=\u001b[0m \u001b[0mxgb_options\u001b[0m\u001b[0;34m[\u001b[0m\u001b[0;34m\"objective\"\u001b[0m\u001b[0;34m]\u001b[0m\u001b[0;34m\u001b[0m\u001b[0;34m\u001b[0m\u001b[0m\n",
      "\u001b[0;32m/opt/conda/lib/python3.7/site-packages/xgboost/training.py\u001b[0m in \u001b[0;36mtrain\u001b[0;34m(params, dtrain, num_boost_round, evals, obj, feval, maximize, early_stopping_rounds, evals_result, verbose_eval, xgb_model, callbacks, learning_rates)\u001b[0m\n\u001b[1;32m    214\u001b[0m                            \u001b[0mevals\u001b[0m\u001b[0;34m=\u001b[0m\u001b[0mevals\u001b[0m\u001b[0;34m,\u001b[0m\u001b[0;34m\u001b[0m\u001b[0;34m\u001b[0m\u001b[0m\n\u001b[1;32m    215\u001b[0m                            \u001b[0mobj\u001b[0m\u001b[0;34m=\u001b[0m\u001b[0mobj\u001b[0m\u001b[0;34m,\u001b[0m \u001b[0mfeval\u001b[0m\u001b[0;34m=\u001b[0m\u001b[0mfeval\u001b[0m\u001b[0;34m,\u001b[0m\u001b[0;34m\u001b[0m\u001b[0;34m\u001b[0m\u001b[0m\n\u001b[0;32m--> 216\u001b[0;31m                            xgb_model=xgb_model, callbacks=callbacks)\n\u001b[0m\u001b[1;32m    217\u001b[0m \u001b[0;34m\u001b[0m\u001b[0m\n\u001b[1;32m    218\u001b[0m \u001b[0;34m\u001b[0m\u001b[0m\n",
      "\u001b[0;32m/opt/conda/lib/python3.7/site-packages/xgboost/training.py\u001b[0m in \u001b[0;36m_train_internal\u001b[0;34m(params, dtrain, num_boost_round, evals, obj, feval, xgb_model, callbacks)\u001b[0m\n\u001b[1;32m     72\u001b[0m         \u001b[0;31m# Skip the first update if it is a recovery step.\u001b[0m\u001b[0;34m\u001b[0m\u001b[0;34m\u001b[0m\u001b[0;34m\u001b[0m\u001b[0m\n\u001b[1;32m     73\u001b[0m         \u001b[0;32mif\u001b[0m \u001b[0mversion\u001b[0m \u001b[0;34m%\u001b[0m \u001b[0;36m2\u001b[0m \u001b[0;34m==\u001b[0m \u001b[0;36m0\u001b[0m\u001b[0;34m:\u001b[0m\u001b[0;34m\u001b[0m\u001b[0;34m\u001b[0m\u001b[0m\n\u001b[0;32m---> 74\u001b[0;31m             \u001b[0mbst\u001b[0m\u001b[0;34m.\u001b[0m\u001b[0mupdate\u001b[0m\u001b[0;34m(\u001b[0m\u001b[0mdtrain\u001b[0m\u001b[0;34m,\u001b[0m \u001b[0mi\u001b[0m\u001b[0;34m,\u001b[0m \u001b[0mobj\u001b[0m\u001b[0;34m)\u001b[0m\u001b[0;34m\u001b[0m\u001b[0;34m\u001b[0m\u001b[0m\n\u001b[0m\u001b[1;32m     75\u001b[0m             \u001b[0mbst\u001b[0m\u001b[0;34m.\u001b[0m\u001b[0msave_rabit_checkpoint\u001b[0m\u001b[0;34m(\u001b[0m\u001b[0;34m)\u001b[0m\u001b[0;34m\u001b[0m\u001b[0;34m\u001b[0m\u001b[0m\n\u001b[1;32m     76\u001b[0m             \u001b[0mversion\u001b[0m \u001b[0;34m+=\u001b[0m \u001b[0;36m1\u001b[0m\u001b[0;34m\u001b[0m\u001b[0;34m\u001b[0m\u001b[0m\n",
      "\u001b[0;32m/opt/conda/lib/python3.7/site-packages/xgboost/core.py\u001b[0m in \u001b[0;36mupdate\u001b[0;34m(self, dtrain, iteration, fobj)\u001b[0m\n\u001b[1;32m   1107\u001b[0m         \u001b[0;32mif\u001b[0m \u001b[0mfobj\u001b[0m \u001b[0;32mis\u001b[0m \u001b[0;32mNone\u001b[0m\u001b[0;34m:\u001b[0m\u001b[0;34m\u001b[0m\u001b[0;34m\u001b[0m\u001b[0m\n\u001b[1;32m   1108\u001b[0m             _check_call(_LIB.XGBoosterUpdateOneIter(self.handle, ctypes.c_int(iteration),\n\u001b[0;32m-> 1109\u001b[0;31m                                                     dtrain.handle))\n\u001b[0m\u001b[1;32m   1110\u001b[0m         \u001b[0;32melse\u001b[0m\u001b[0;34m:\u001b[0m\u001b[0;34m\u001b[0m\u001b[0;34m\u001b[0m\u001b[0m\n\u001b[1;32m   1111\u001b[0m             \u001b[0mpred\u001b[0m \u001b[0;34m=\u001b[0m \u001b[0mself\u001b[0m\u001b[0;34m.\u001b[0m\u001b[0mpredict\u001b[0m\u001b[0;34m(\u001b[0m\u001b[0mdtrain\u001b[0m\u001b[0;34m)\u001b[0m\u001b[0;34m\u001b[0m\u001b[0;34m\u001b[0m\u001b[0m\n",
      "\u001b[0;31mKeyboardInterrupt\u001b[0m: "
     ]
    }
   ],
   "source": [
    "import time\n",
    "from sklearn.model_selection import GridSearchCV\n",
    "\n",
    "start_time = time.time()\n",
    "\n",
    "model = XGBClassifier(learning_rate = 0.01,\n",
    "                      n_estimators = 1000,\n",
    "                      max_depth = 6,\n",
    "                      subsample = 0.8,\n",
    "                      colsample_bytree = 1,\n",
    "                      gamma = 1\n",
    "                     )\n",
    "model.fit(X_train, y_train)\n",
    "\n",
    "# param_grid_gb = {'learning_rate': [0.01, 0.1, 0.04, 0.07],\n",
    "#               'n_estimators' : [200, 500, 700, 1000, 1200],\n",
    "#               'subsample' : [0.3, 0.5, 0.7, 0.8, 0.85, 0.9],\n",
    "#               'max_depth' : [3, 4, 5, 6, 8, 10],\n",
    "#               'colsample_bytree': [0.3, 0.4, 0.5, 0.6, 0.7, 0.8, 0.9, 1],\n",
    "#               'gamma': [0, 1, 5]}\n",
    "\n",
    "# mse_grid = GridSearchCV(estimator = model, param_grid = param_grid_gb, scoring = 'neg_mean_squared_error', cv = 4, verbose = 1)\n",
    "# mse_grid.fit(X,y)\n",
    "\n",
    "y_pred = model.predict(X_test)\n",
    "predictions = [round(value) for value in y_pred]\n",
    "\n",
    "print(\"--- Model trained. Training time: %s seconds ---\" % (time.time() - start_time))\n",
    "\n",
    "accuracy = accuracy_score(y_test, predictions)\n",
    "print(\"Accuracy: %.2f%%\" % (accuracy * 100.0))"
   ]
  },
  {
   "cell_type": "code",
   "execution_count": 67,
   "metadata": {
    "ExecuteTime": {
     "end_time": "2021-03-30T13:30:00.319689Z",
     "start_time": "2021-03-30T13:19:12.325807Z"
    },
    "hidden": true
   },
   "outputs": [
    {
     "name": "stdout",
     "output_type": "stream",
     "text": [
      "Fitting 2 folds for each of 9 candidates, totalling 18 fits\n",
      "[CV] max_depth=5, min_child_weight=4 .................................\n"
     ]
    },
    {
     "name": "stderr",
     "output_type": "stream",
     "text": [
      "[Parallel(n_jobs=1)]: Using backend SequentialBackend with 1 concurrent workers.\n"
     ]
    },
    {
     "name": "stdout",
     "output_type": "stream",
     "text": [
      "[CV] ..... max_depth=5, min_child_weight=4, score=0.803, total=  32.0s\n",
      "[CV] max_depth=5, min_child_weight=4 .................................\n"
     ]
    },
    {
     "name": "stderr",
     "output_type": "stream",
     "text": [
      "[Parallel(n_jobs=1)]: Done   1 out of   1 | elapsed:   32.0s remaining:    0.0s\n"
     ]
    },
    {
     "name": "stdout",
     "output_type": "stream",
     "text": [
      "[CV] ..... max_depth=5, min_child_weight=4, score=0.807, total=  33.6s\n",
      "[CV] max_depth=5, min_child_weight=5 .................................\n"
     ]
    },
    {
     "name": "stderr",
     "output_type": "stream",
     "text": [
      "[Parallel(n_jobs=1)]: Done   2 out of   2 | elapsed:  1.1min remaining:    0.0s\n"
     ]
    },
    {
     "name": "stdout",
     "output_type": "stream",
     "text": [
      "[CV] ..... max_depth=5, min_child_weight=5, score=0.798, total=  31.0s\n",
      "[CV] max_depth=5, min_child_weight=5 .................................\n",
      "[CV] ..... max_depth=5, min_child_weight=5, score=0.802, total=  31.3s\n",
      "[CV] max_depth=5, min_child_weight=6 .................................\n",
      "[CV] ..... max_depth=5, min_child_weight=6, score=0.799, total=  30.5s\n",
      "[CV] max_depth=5, min_child_weight=6 .................................\n",
      "[CV] ..... max_depth=5, min_child_weight=6, score=0.802, total=  30.8s\n",
      "[CV] max_depth=6, min_child_weight=4 .................................\n",
      "[CV] ..... max_depth=6, min_child_weight=4, score=0.802, total=  31.7s\n",
      "[CV] max_depth=6, min_child_weight=4 .................................\n",
      "[CV] ..... max_depth=6, min_child_weight=4, score=0.806, total=  32.0s\n",
      "[CV] max_depth=6, min_child_weight=5 .................................\n",
      "[CV] ..... max_depth=6, min_child_weight=5, score=0.800, total=  31.9s\n",
      "[CV] max_depth=6, min_child_weight=5 .................................\n",
      "[CV] ..... max_depth=6, min_child_weight=5, score=0.808, total=  32.6s\n",
      "[CV] max_depth=6, min_child_weight=6 .................................\n",
      "[CV] ..... max_depth=6, min_child_weight=6, score=0.795, total=  30.6s\n",
      "[CV] max_depth=6, min_child_weight=6 .................................\n",
      "[CV] ..... max_depth=6, min_child_weight=6, score=0.810, total=  32.0s\n",
      "[CV] max_depth=7, min_child_weight=4 .................................\n",
      "[CV] ..... max_depth=7, min_child_weight=4, score=0.801, total=  31.6s\n",
      "[CV] max_depth=7, min_child_weight=4 .................................\n",
      "[CV] ..... max_depth=7, min_child_weight=4, score=0.813, total=  31.9s\n",
      "[CV] max_depth=7, min_child_weight=5 .................................\n",
      "[CV] ..... max_depth=7, min_child_weight=5, score=0.804, total=  31.3s\n",
      "[CV] max_depth=7, min_child_weight=5 .................................\n",
      "[CV] ..... max_depth=7, min_child_weight=5, score=0.810, total=  31.5s\n",
      "[CV] max_depth=7, min_child_weight=6 .................................\n",
      "[CV] ..... max_depth=7, min_child_weight=6, score=0.799, total=  30.6s\n",
      "[CV] max_depth=7, min_child_weight=6 .................................\n",
      "[CV] ..... max_depth=7, min_child_weight=6, score=0.805, total=  30.8s\n"
     ]
    },
    {
     "name": "stderr",
     "output_type": "stream",
     "text": [
      "[Parallel(n_jobs=1)]: Done  18 out of  18 | elapsed:  9.5min finished\n"
     ]
    },
    {
     "ename": "AttributeError",
     "evalue": "'GridSearchCV' object has no attribute 'grid_scores_'",
     "output_type": "error",
     "traceback": [
      "\u001b[0;31m---------------------------------------------------------------------------\u001b[0m",
      "\u001b[0;31mAttributeError\u001b[0m                            Traceback (most recent call last)",
      "\u001b[0;32m<ipython-input-67-2c2a84663854>\u001b[0m in \u001b[0;36m<module>\u001b[0;34m\u001b[0m\n\u001b[1;32m     10\u001b[0m  param_grid = param_test1, scoring='accuracy',cv=2,verbose = 3)\n\u001b[1;32m     11\u001b[0m \u001b[0mgsearch1\u001b[0m\u001b[0;34m.\u001b[0m\u001b[0mfit\u001b[0m\u001b[0;34m(\u001b[0m\u001b[0mX_train\u001b[0m\u001b[0;34m,\u001b[0m\u001b[0my_train\u001b[0m\u001b[0;34m)\u001b[0m\u001b[0;34m\u001b[0m\u001b[0;34m\u001b[0m\u001b[0m\n\u001b[0;32m---> 12\u001b[0;31m \u001b[0mgsearch1\u001b[0m\u001b[0;34m.\u001b[0m\u001b[0mgrid_scores_\u001b[0m\u001b[0;34m,\u001b[0m \u001b[0mgsearch1\u001b[0m\u001b[0;34m.\u001b[0m\u001b[0mbest_params_\u001b[0m\u001b[0;34m,\u001b[0m \u001b[0mgsearch1\u001b[0m\u001b[0;34m.\u001b[0m\u001b[0mbest_score_\u001b[0m\u001b[0;34m\u001b[0m\u001b[0;34m\u001b[0m\u001b[0m\n\u001b[0m\u001b[1;32m     13\u001b[0m \u001b[0;34m\u001b[0m\u001b[0m\n\u001b[1;32m     14\u001b[0m \u001b[0mprint\u001b[0m\u001b[0;34m(\u001b[0m\u001b[0;34m\"--- Model trained. Training time: %s seconds ---\"\u001b[0m \u001b[0;34m%\u001b[0m \u001b[0;34m(\u001b[0m\u001b[0mtime\u001b[0m\u001b[0;34m.\u001b[0m\u001b[0mtime\u001b[0m\u001b[0;34m(\u001b[0m\u001b[0;34m)\u001b[0m \u001b[0;34m-\u001b[0m \u001b[0mstart_time\u001b[0m\u001b[0;34m)\u001b[0m\u001b[0;34m)\u001b[0m\u001b[0;34m\u001b[0m\u001b[0;34m\u001b[0m\u001b[0m\n",
      "\u001b[0;31mAttributeError\u001b[0m: 'GridSearchCV' object has no attribute 'grid_scores_'"
     ]
    }
   ],
   "source": [
    "param_test1 = {\n",
    " 'max_depth':[5, 6, 7],\n",
    " 'min_child_weight':[4, 5, 6]\n",
    "}\n",
    "\n",
    "start_time = time.time()\n",
    "\n",
    "gsearch1 = GridSearchCV(estimator = XGBClassifier( learning_rate =0.1, n_estimators=1000, max_depth=5,\n",
    " min_child_weight=1, gamma=0, subsample=0.8, colsample_bytree=0.8), \n",
    " param_grid = param_test1, scoring='accuracy',cv=2,verbose = 3)\n",
    "gsearch1.fit(X_train,y_train)\n",
    "gsearch1.grid_scores_, gsearch1.best_params_, gsearch1.best_score_\n",
    "\n",
    "print(\"--- Model trained. Training time: %s seconds ---\" % (time.time() - start_time))"
   ]
  },
  {
   "cell_type": "code",
   "execution_count": 69,
   "metadata": {
    "ExecuteTime": {
     "end_time": "2021-03-30T13:58:53.323404Z",
     "start_time": "2021-03-30T13:43:31.978645Z"
    },
    "hidden": true,
    "scrolled": false
   },
   "outputs": [
    {
     "name": "stdout",
     "output_type": "stream",
     "text": [
      "Fitting 3 folds for each of 6 candidates, totalling 18 fits\n",
      "[CV] max_depth=6, min_child_weight=4 .................................\n"
     ]
    },
    {
     "name": "stderr",
     "output_type": "stream",
     "text": [
      "[Parallel(n_jobs=1)]: Using backend SequentialBackend with 1 concurrent workers.\n"
     ]
    },
    {
     "name": "stdout",
     "output_type": "stream",
     "text": [
      "[CV] ..... max_depth=6, min_child_weight=4, score=0.807, total=  50.3s\n",
      "[CV] max_depth=6, min_child_weight=4 .................................\n"
     ]
    },
    {
     "name": "stderr",
     "output_type": "stream",
     "text": [
      "[Parallel(n_jobs=1)]: Done   1 out of   1 | elapsed:   50.3s remaining:    0.0s\n"
     ]
    },
    {
     "name": "stdout",
     "output_type": "stream",
     "text": [
      "[CV] ..... max_depth=6, min_child_weight=4, score=0.831, total=  46.6s\n",
      "[CV] max_depth=6, min_child_weight=4 .................................\n"
     ]
    },
    {
     "name": "stderr",
     "output_type": "stream",
     "text": [
      "[Parallel(n_jobs=1)]: Done   2 out of   2 | elapsed:  1.6min remaining:    0.0s\n"
     ]
    },
    {
     "name": "stdout",
     "output_type": "stream",
     "text": [
      "[CV] ..... max_depth=6, min_child_weight=4, score=0.831, total=  46.1s\n",
      "[CV] max_depth=6, min_child_weight=3 .................................\n",
      "[CV] ..... max_depth=6, min_child_weight=3, score=0.807, total=  46.6s\n",
      "[CV] max_depth=6, min_child_weight=3 .................................\n",
      "[CV] ..... max_depth=6, min_child_weight=3, score=0.839, total=  47.4s\n",
      "[CV] max_depth=6, min_child_weight=3 .................................\n",
      "[CV] ..... max_depth=6, min_child_weight=3, score=0.828, total=  47.5s\n",
      "[CV] max_depth=7, min_child_weight=4 .................................\n",
      "[CV] ..... max_depth=7, min_child_weight=4, score=0.808, total=  45.1s\n",
      "[CV] max_depth=7, min_child_weight=4 .................................\n",
      "[CV] ..... max_depth=7, min_child_weight=4, score=0.837, total=  46.1s\n",
      "[CV] max_depth=7, min_child_weight=4 .................................\n",
      "[CV] ..... max_depth=7, min_child_weight=4, score=0.827, total=  46.1s\n",
      "[CV] max_depth=7, min_child_weight=3 .................................\n",
      "[CV] ..... max_depth=7, min_child_weight=3, score=0.812, total=  46.5s\n",
      "[CV] max_depth=7, min_child_weight=3 .................................\n",
      "[CV] ..... max_depth=7, min_child_weight=3, score=0.836, total=  47.3s\n",
      "[CV] max_depth=7, min_child_weight=3 .................................\n",
      "[CV] ..... max_depth=7, min_child_weight=3, score=0.823, total=  47.0s\n",
      "[CV] max_depth=8, min_child_weight=4 .................................\n",
      "[CV] ..... max_depth=8, min_child_weight=4, score=0.803, total=  45.3s\n",
      "[CV] max_depth=8, min_child_weight=4 .................................\n",
      "[CV] ..... max_depth=8, min_child_weight=4, score=0.834, total=  46.1s\n",
      "[CV] max_depth=8, min_child_weight=4 .................................\n",
      "[CV] ..... max_depth=8, min_child_weight=4, score=0.819, total=  46.1s\n",
      "[CV] max_depth=8, min_child_weight=3 .................................\n",
      "[CV] ..... max_depth=8, min_child_weight=3, score=0.805, total=  46.5s\n",
      "[CV] max_depth=8, min_child_weight=3 .................................\n",
      "[CV] ..... max_depth=8, min_child_weight=3, score=0.841, total=  47.2s\n",
      "[CV] max_depth=8, min_child_weight=3 .................................\n",
      "[CV] ..... max_depth=8, min_child_weight=3, score=0.823, total=  47.4s\n"
     ]
    },
    {
     "name": "stderr",
     "output_type": "stream",
     "text": [
      "[Parallel(n_jobs=1)]: Done  18 out of  18 | elapsed: 14.0min finished\n"
     ]
    },
    {
     "name": "stdout",
     "output_type": "stream",
     "text": [
      "--- Model trained. Training time: 921.3112020492554 seconds ---\n"
     ]
    }
   ],
   "source": [
    "param_test2 = {\n",
    " 'max_depth':[6, 7, 8],\n",
    " 'min_child_weight':[4, 3]\n",
    "}\n",
    "\n",
    "start_time = time.time()\n",
    "\n",
    "gsearch1 = GridSearchCV(estimator = XGBClassifier( learning_rate =0.1, n_estimators=1000, max_depth=5,\n",
    " min_child_weight=1, gamma=0, subsample=0.8, colsample_bytree=0.8), \n",
    " param_grid = param_test2, scoring='accuracy',cv=3,verbose = 3)\n",
    "gsearch1.fit(X_train,y_train)\n",
    "\n",
    "print(\"--- Model trained. Training time: %s seconds ---\" % (time.time() - start_time))"
   ]
  },
  {
   "cell_type": "markdown",
   "metadata": {
    "heading_collapsed": true,
    "hidden": true
   },
   "source": [
    "## final"
   ]
  },
  {
   "cell_type": "code",
   "execution_count": 40,
   "metadata": {
    "ExecuteTime": {
     "end_time": "2021-04-12T11:23:13.833523Z",
     "start_time": "2021-04-12T11:21:51.903962Z"
    },
    "hidden": true
   },
   "outputs": [
    {
     "name": "stdout",
     "output_type": "stream",
     "text": [
      "--- Model trained. Training time: 81.89253544807434 seconds ---\n",
      "Accuracy: 86.45%\n"
     ]
    }
   ],
   "source": [
    "X = joblib.load('../feats/mfcc joblib/X.joblib')\n",
    "y = joblib.load('../feats/mfcc joblib/y.joblib')\n",
    "\n",
    "X_train, X_test, y_train, y_test = train_test_split(X, y, test_size=0.33, random_state=42)\n",
    "\n",
    "start_time = time.time()\n",
    "\n",
    "model = XGBClassifier(learning_rate = 0.1,\n",
    "                      n_estimators = 1000,\n",
    "                      max_depth = 8,\n",
    "                      min_child_weight=3,\n",
    "                      subsample = 0.8,\n",
    "                      colsample_bytree = 0.8,\n",
    "                      gamma = 0\n",
    "                     )\n",
    "model.fit(X_train, y_train)\n",
    "\n",
    "y_pred = model.predict(X_test)\n",
    "predictions = [round(value) for value in y_pred]\n",
    "\n",
    "print(\"--- Model trained. Training time: %s seconds ---\" % (time.time() - start_time))\n",
    "\n",
    "accuracy = accuracy_score(y_test, predictions)\n",
    "print(\"Accuracy: %.2f%%\" % (accuracy * 100.0))"
   ]
  },
  {
   "cell_type": "code",
   "execution_count": 42,
   "metadata": {
    "ExecuteTime": {
     "end_time": "2021-04-12T11:23:36.753606Z",
     "start_time": "2021-04-12T11:23:35.344494Z"
    },
    "hidden": true
   },
   "outputs": [
    {
     "data": {
      "image/png": "[encoded data removed]",
      "text/plain": [
       "<Figure size 720x576 with 2 Axes>"
      ]
     },
     "metadata": {
      "needs_background": "light"
     },
     "output_type": "display_data"
    }
   ],
   "source": [
    "import seaborn as sns\n",
    "import matplotlib.pyplot as plt\n",
    "\n",
    "mood_lab = [0, 1, 2, 3, 4, 5, 6, 7]\n",
    "# 0 = neutral, 1 = calm, 2 = happy, 3 = sad, 4 = angry, 5 = fearful, 6 = disgust, 7 = surprised\n",
    "\n",
    "confusion_mtx = tf.math.confusion_matrix(y_test, predictions) \n",
    "plt.figure(figsize=(10, 8))\n",
    "sns.heatmap(confusion_mtx, xticklabels=mood_lab, yticklabels=mood_lab, \n",
    "            annot=True, fmt='g')\n",
    "plt.xlabel('Prediction')\n",
    "plt.ylabel('Label')\n",
    "plt.show()"
   ]
  },
  {
   "cell_type": "code",
   "execution_count": null,
   "metadata": {
    "hidden": true
   },
   "outputs": [],
   "source": []
  },
  {
   "cell_type": "markdown",
   "metadata": {
    "heading_collapsed": true
   },
   "source": [
    "# Praat on tuned XGBoost major dataset"
   ]
  },
  {
   "cell_type": "code",
   "execution_count": 72,
   "metadata": {
    "ExecuteTime": {
     "end_time": "2021-03-30T14:11:57.867361Z",
     "start_time": "2021-03-30T14:10:48.839242Z"
    },
    "hidden": true
   },
   "outputs": [
    {
     "name": "stdout",
     "output_type": "stream",
     "text": [
      "--- Model trained. Training time: 68.98630952835083 seconds ---\n",
      "Accuracy: 79.63%\n"
     ]
    }
   ],
   "source": [
    "X = joblib.load('X.joblib')\n",
    "y = joblib.load('y.joblib')\n",
    "\n",
    "X_train, X_test, y_train, y_test = train_test_split(X, y, test_size=0.33, random_state=42)\n",
    "\n",
    "start_time = time.time()\n",
    "\n",
    "model = XGBClassifier(learning_rate = 0.1,\n",
    "                      n_estimators = 1000,\n",
    "                      max_depth = 8,\n",
    "                      min_child_weight=3,\n",
    "                      subsample = 0.8,\n",
    "                      colsample_bytree = 0.8,\n",
    "                      gamma = 0\n",
    "                     )\n",
    "model.fit(X_train, y_train)\n",
    "\n",
    "y_pred = model.predict(X_test)\n",
    "predictions = [round(value) for value in y_pred]\n",
    "\n",
    "print(\"--- Model trained. Training time: %s seconds ---\" % (time.time() - start_time))\n",
    "\n",
    "accuracy = accuracy_score(y_test, predictions)\n",
    "print(\"Accuracy: %.2f%%\" % (accuracy * 100.0))"
   ]
  },
  {
   "cell_type": "markdown",
   "metadata": {
    "heading_collapsed": true
   },
   "source": [
    "# Tonnetz on tuned XGBoost major dataset"
   ]
  },
  {
   "cell_type": "code",
   "execution_count": 76,
   "metadata": {
    "ExecuteTime": {
     "end_time": "2021-03-30T16:49:06.486615Z",
     "start_time": "2021-03-30T16:48:24.578671Z"
    },
    "hidden": true
   },
   "outputs": [
    {
     "name": "stdout",
     "output_type": "stream",
     "text": [
      "--- Model trained. Training time: 41.866387367248535 seconds ---\n",
      "Accuracy: 37.72%\n"
     ]
    }
   ],
   "source": [
    "X = joblib.load('tonnetz_feats/X.joblib')\n",
    "y = joblib.load('tonnetz_feats/y.joblib')\n",
    "\n",
    "X_train, X_test, y_train, y_test = train_test_split(X, y, test_size=0.33, random_state=42)\n",
    "\n",
    "start_time = time.time()\n",
    "\n",
    "model = XGBClassifier(learning_rate = 0.1,\n",
    "                      n_estimators = 1000,\n",
    "                      max_depth = 8,\n",
    "                      min_child_weight=3,\n",
    "                      subsample = 0.8,\n",
    "                      colsample_bytree = 0.8,\n",
    "                      gamma = 0\n",
    "                     )\n",
    "model.fit(X_train, y_train)\n",
    "\n",
    "y_pred = model.predict(X_test)\n",
    "predictions = [round(value) for value in y_pred]\n",
    "\n",
    "print(\"--- Model trained. Training time: %s seconds ---\" % (time.time() - start_time))\n",
    "\n",
    "accuracy = accuracy_score(y_test, predictions)\n",
    "print(\"Accuracy: %.2f%%\" % (accuracy * 100.0))"
   ]
  },
  {
   "cell_type": "markdown",
   "metadata": {
    "heading_collapsed": true
   },
   "source": [
    "# Deltas on tuned XGBoost major dataset"
   ]
  },
  {
   "cell_type": "markdown",
   "metadata": {
    "heading_collapsed": true,
    "hidden": true
   },
   "source": [
    "## Delta1"
   ]
  },
  {
   "cell_type": "code",
   "execution_count": 80,
   "metadata": {
    "ExecuteTime": {
     "end_time": "2021-03-31T12:14:31.417576Z",
     "start_time": "2021-03-31T12:12:19.812288Z"
    },
    "hidden": true
   },
   "outputs": [
    {
     "name": "stdout",
     "output_type": "stream",
     "text": [
      "--- Model trained. Training time: 131.57258105278015 seconds ---\n",
      "Accuracy: 42.91%\n"
     ]
    }
   ],
   "source": [
    "X = joblib.load('feats_from_mfcc/delta_1/X.joblib')\n",
    "y = joblib.load('feats_from_mfcc/delta_1/y.joblib')\n",
    "\n",
    "X_train, X_test, y_train, y_test = train_test_split(X, y, test_size=0.33, random_state=42)\n",
    "\n",
    "start_time = time.time()\n",
    "\n",
    "model = XGBClassifier(learning_rate = 0.1,\n",
    "                      n_estimators = 1000,\n",
    "                      max_depth = 8,\n",
    "                      min_child_weight=3,\n",
    "                      subsample = 0.8,\n",
    "                      colsample_bytree = 0.8,\n",
    "                      gamma = 0\n",
    "                     )\n",
    "model.fit(X_train, y_train)\n",
    "\n",
    "y_pred = model.predict(X_test)\n",
    "predictions = [round(value) for value in y_pred]\n",
    "\n",
    "print(\"--- Model trained. Training time: %s seconds ---\" % (time.time() - start_time))\n",
    "\n",
    "accuracy = accuracy_score(y_test, predictions)\n",
    "print(\"Accuracy: %.2f%%\" % (accuracy * 100.0))"
   ]
  },
  {
   "cell_type": "markdown",
   "metadata": {
    "heading_collapsed": true,
    "hidden": true
   },
   "source": [
    "## Delta2"
   ]
  },
  {
   "cell_type": "code",
   "execution_count": 81,
   "metadata": {
    "ExecuteTime": {
     "end_time": "2021-03-31T12:18:27.388870Z",
     "start_time": "2021-03-31T12:16:10.034715Z"
    },
    "hidden": true
   },
   "outputs": [
    {
     "name": "stdout",
     "output_type": "stream",
     "text": [
      "--- Model trained. Training time: 137.31590247154236 seconds ---\n",
      "Accuracy: 37.89%\n"
     ]
    }
   ],
   "source": [
    "X = joblib.load('feats_from_mfcc/delta_2/X.joblib')\n",
    "y = joblib.load('feats_from_mfcc/delta_2/y.joblib')\n",
    "\n",
    "X_train, X_test, y_train, y_test = train_test_split(X, y, test_size=0.33, random_state=42)\n",
    "\n",
    "start_time = time.time()\n",
    "\n",
    "model = XGBClassifier(learning_rate = 0.1,\n",
    "                      n_estimators = 1000,\n",
    "                      max_depth = 8,\n",
    "                      min_child_weight=3,\n",
    "                      subsample = 0.8,\n",
    "                      colsample_bytree = 0.8,\n",
    "                      gamma = 0\n",
    "                     )\n",
    "model.fit(X_train, y_train)\n",
    "\n",
    "y_pred = model.predict(X_test)\n",
    "predictions = [round(value) for value in y_pred]\n",
    "\n",
    "print(\"--- Model trained. Training time: %s seconds ---\" % (time.time() - start_time))\n",
    "\n",
    "accuracy = accuracy_score(y_test, predictions)\n",
    "print(\"Accuracy: %.2f%%\" % (accuracy * 100.0))"
   ]
  },
  {
   "cell_type": "markdown",
   "metadata": {
    "heading_collapsed": true
   },
   "source": [
    "# MFCC conc features on tuned XGBoost major dataset"
   ]
  },
  {
   "cell_type": "code",
   "execution_count": 97,
   "metadata": {
    "ExecuteTime": {
     "end_time": "2021-04-03T12:25:29.974590Z",
     "start_time": "2021-04-03T12:25:27.935748Z"
    },
    "hidden": true
   },
   "outputs": [
    {
     "ename": "KeyboardInterrupt",
     "evalue": "",
     "output_type": "error",
     "traceback": [
      "\u001b[0;31m---------------------------------------------------------------------------\u001b[0m",
      "\u001b[0;31mKeyboardInterrupt\u001b[0m                         Traceback (most recent call last)",
      "\u001b[0;32m<ipython-input-97-1bd61bfb3bf1>\u001b[0m in \u001b[0;36m<module>\u001b[0;34m\u001b[0m\n\u001b[1;32m     14\u001b[0m                       \u001b[0mgamma\u001b[0m \u001b[0;34m=\u001b[0m \u001b[0;36m0\u001b[0m\u001b[0;34m\u001b[0m\u001b[0;34m\u001b[0m\u001b[0m\n\u001b[1;32m     15\u001b[0m                      )\n\u001b[0;32m---> 16\u001b[0;31m \u001b[0mmodel\u001b[0m\u001b[0;34m.\u001b[0m\u001b[0mfit\u001b[0m\u001b[0;34m(\u001b[0m\u001b[0mX_train\u001b[0m\u001b[0;34m,\u001b[0m \u001b[0my_train\u001b[0m\u001b[0;34m)\u001b[0m\u001b[0;34m\u001b[0m\u001b[0;34m\u001b[0m\u001b[0m\n\u001b[0m\u001b[1;32m     17\u001b[0m \u001b[0;34m\u001b[0m\u001b[0m\n\u001b[1;32m     18\u001b[0m \u001b[0my_pred\u001b[0m \u001b[0;34m=\u001b[0m \u001b[0mmodel\u001b[0m\u001b[0;34m.\u001b[0m\u001b[0mpredict\u001b[0m\u001b[0;34m(\u001b[0m\u001b[0mX_test\u001b[0m\u001b[0;34m)\u001b[0m\u001b[0;34m\u001b[0m\u001b[0;34m\u001b[0m\u001b[0m\n",
      "\u001b[0;32m/opt/conda/lib/python3.7/site-packages/xgboost/sklearn.py\u001b[0m in \u001b[0;36mfit\u001b[0;34m(self, X, y, sample_weight, eval_set, eval_metric, early_stopping_rounds, verbose, xgb_model, sample_weight_eval_set, callbacks)\u001b[0m\n\u001b[1;32m    730\u001b[0m                               \u001b[0mevals_result\u001b[0m\u001b[0;34m=\u001b[0m\u001b[0mevals_result\u001b[0m\u001b[0;34m,\u001b[0m \u001b[0mobj\u001b[0m\u001b[0;34m=\u001b[0m\u001b[0mobj\u001b[0m\u001b[0;34m,\u001b[0m \u001b[0mfeval\u001b[0m\u001b[0;34m=\u001b[0m\u001b[0mfeval\u001b[0m\u001b[0;34m,\u001b[0m\u001b[0;34m\u001b[0m\u001b[0;34m\u001b[0m\u001b[0m\n\u001b[1;32m    731\u001b[0m                               \u001b[0mverbose_eval\u001b[0m\u001b[0;34m=\u001b[0m\u001b[0mverbose\u001b[0m\u001b[0;34m,\u001b[0m \u001b[0mxgb_model\u001b[0m\u001b[0;34m=\u001b[0m\u001b[0mxgb_model\u001b[0m\u001b[0;34m,\u001b[0m\u001b[0;34m\u001b[0m\u001b[0;34m\u001b[0m\u001b[0m\n\u001b[0;32m--> 732\u001b[0;31m                               callbacks=callbacks)\n\u001b[0m\u001b[1;32m    733\u001b[0m \u001b[0;34m\u001b[0m\u001b[0m\n\u001b[1;32m    734\u001b[0m         \u001b[0mself\u001b[0m\u001b[0;34m.\u001b[0m\u001b[0mobjective\u001b[0m \u001b[0;34m=\u001b[0m \u001b[0mxgb_options\u001b[0m\u001b[0;34m[\u001b[0m\u001b[0;34m\"objective\"\u001b[0m\u001b[0;34m]\u001b[0m\u001b[0;34m\u001b[0m\u001b[0;34m\u001b[0m\u001b[0m\n",
      "\u001b[0;32m/opt/conda/lib/python3.7/site-packages/xgboost/training.py\u001b[0m in \u001b[0;36mtrain\u001b[0;34m(params, dtrain, num_boost_round, evals, obj, feval, maximize, early_stopping_rounds, evals_result, verbose_eval, xgb_model, callbacks, learning_rates)\u001b[0m\n\u001b[1;32m    214\u001b[0m                            \u001b[0mevals\u001b[0m\u001b[0;34m=\u001b[0m\u001b[0mevals\u001b[0m\u001b[0;34m,\u001b[0m\u001b[0;34m\u001b[0m\u001b[0;34m\u001b[0m\u001b[0m\n\u001b[1;32m    215\u001b[0m                            \u001b[0mobj\u001b[0m\u001b[0;34m=\u001b[0m\u001b[0mobj\u001b[0m\u001b[0;34m,\u001b[0m \u001b[0mfeval\u001b[0m\u001b[0;34m=\u001b[0m\u001b[0mfeval\u001b[0m\u001b[0;34m,\u001b[0m\u001b[0;34m\u001b[0m\u001b[0;34m\u001b[0m\u001b[0m\n\u001b[0;32m--> 216\u001b[0;31m                            xgb_model=xgb_model, callbacks=callbacks)\n\u001b[0m\u001b[1;32m    217\u001b[0m \u001b[0;34m\u001b[0m\u001b[0m\n\u001b[1;32m    218\u001b[0m \u001b[0;34m\u001b[0m\u001b[0m\n",
      "\u001b[0;32m/opt/conda/lib/python3.7/site-packages/xgboost/training.py\u001b[0m in \u001b[0;36m_train_internal\u001b[0;34m(params, dtrain, num_boost_round, evals, obj, feval, xgb_model, callbacks)\u001b[0m\n\u001b[1;32m     72\u001b[0m         \u001b[0;31m# Skip the first update if it is a recovery step.\u001b[0m\u001b[0;34m\u001b[0m\u001b[0;34m\u001b[0m\u001b[0;34m\u001b[0m\u001b[0m\n\u001b[1;32m     73\u001b[0m         \u001b[0;32mif\u001b[0m \u001b[0mversion\u001b[0m \u001b[0;34m%\u001b[0m \u001b[0;36m2\u001b[0m \u001b[0;34m==\u001b[0m \u001b[0;36m0\u001b[0m\u001b[0;34m:\u001b[0m\u001b[0;34m\u001b[0m\u001b[0;34m\u001b[0m\u001b[0m\n\u001b[0;32m---> 74\u001b[0;31m             \u001b[0mbst\u001b[0m\u001b[0;34m.\u001b[0m\u001b[0mupdate\u001b[0m\u001b[0;34m(\u001b[0m\u001b[0mdtrain\u001b[0m\u001b[0;34m,\u001b[0m \u001b[0mi\u001b[0m\u001b[0;34m,\u001b[0m \u001b[0mobj\u001b[0m\u001b[0;34m)\u001b[0m\u001b[0;34m\u001b[0m\u001b[0;34m\u001b[0m\u001b[0m\n\u001b[0m\u001b[1;32m     75\u001b[0m             \u001b[0mbst\u001b[0m\u001b[0;34m.\u001b[0m\u001b[0msave_rabit_checkpoint\u001b[0m\u001b[0;34m(\u001b[0m\u001b[0;34m)\u001b[0m\u001b[0;34m\u001b[0m\u001b[0;34m\u001b[0m\u001b[0m\n\u001b[1;32m     76\u001b[0m             \u001b[0mversion\u001b[0m \u001b[0;34m+=\u001b[0m \u001b[0;36m1\u001b[0m\u001b[0;34m\u001b[0m\u001b[0;34m\u001b[0m\u001b[0m\n",
      "\u001b[0;32m/opt/conda/lib/python3.7/site-packages/xgboost/core.py\u001b[0m in \u001b[0;36mupdate\u001b[0;34m(self, dtrain, iteration, fobj)\u001b[0m\n\u001b[1;32m   1107\u001b[0m         \u001b[0;32mif\u001b[0m \u001b[0mfobj\u001b[0m \u001b[0;32mis\u001b[0m \u001b[0;32mNone\u001b[0m\u001b[0;34m:\u001b[0m\u001b[0;34m\u001b[0m\u001b[0;34m\u001b[0m\u001b[0m\n\u001b[1;32m   1108\u001b[0m             _check_call(_LIB.XGBoosterUpdateOneIter(self.handle, ctypes.c_int(iteration),\n\u001b[0;32m-> 1109\u001b[0;31m                                                     dtrain.handle))\n\u001b[0m\u001b[1;32m   1110\u001b[0m         \u001b[0;32melse\u001b[0m\u001b[0;34m:\u001b[0m\u001b[0;34m\u001b[0m\u001b[0;34m\u001b[0m\u001b[0m\n\u001b[1;32m   1111\u001b[0m             \u001b[0mpred\u001b[0m \u001b[0;34m=\u001b[0m \u001b[0mself\u001b[0m\u001b[0;34m.\u001b[0m\u001b[0mpredict\u001b[0m\u001b[0;34m(\u001b[0m\u001b[0mdtrain\u001b[0m\u001b[0;34m)\u001b[0m\u001b[0;34m\u001b[0m\u001b[0;34m\u001b[0m\u001b[0m\n",
      "\u001b[0;31mKeyboardInterrupt\u001b[0m: "
     ]
    }
   ],
   "source": [
    "X = joblib.load('feats_from_mfcc/concat/X.joblib')\n",
    "y = joblib.load('feats_from_mfcc/concat/y.joblib')\n",
    "\n",
    "X_train, X_test, y_train, y_test = train_test_split(X, y, test_size=0.33, random_state=42)\n",
    "\n",
    "start_time = time.time()\n",
    "\n",
    "model = XGBClassifier(learning_rate = 0.1,\n",
    "                      n_estimators = 1000,\n",
    "                      max_depth = 8,\n",
    "                      min_child_weight=3,\n",
    "                      subsample = 0.8,\n",
    "                      colsample_bytree = 0.8,\n",
    "                      gamma = 0\n",
    "                     )\n",
    "model.fit(X_train, y_train)\n",
    "\n",
    "y_pred = model.predict(X_test)\n",
    "predictions = [round(value) for value in y_pred]\n",
    "\n",
    "print(\"--- Model trained. Training time: %s seconds ---\" % (time.time() - start_time))\n",
    "\n",
    "accuracy = accuracy_score(y_test, predictions)\n",
    "print(\"Accuracy: %.2f%%\" % (accuracy * 100.0))"
   ]
  },
  {
   "cell_type": "markdown",
   "metadata": {
    "heading_collapsed": true
   },
   "source": [
    "# Spectral Centroid features on tuned XGBoost major dataset"
   ]
  },
  {
   "cell_type": "code",
   "execution_count": 103,
   "metadata": {
    "ExecuteTime": {
     "end_time": "2021-04-03T12:39:41.786326Z",
     "start_time": "2021-04-03T12:39:15.902156Z"
    },
    "hidden": true
   },
   "outputs": [
    {
     "name": "stdout",
     "output_type": "stream",
     "text": [
      "--- Model trained. Training time: 25.848692893981934 seconds ---\n",
      "Accuracy: 15.11%\n"
     ]
    }
   ],
   "source": [
    "X = joblib.load('Spectral_Centroid_feats/X.joblib')\n",
    "y = joblib.load('Spectral_Centroid_feats/y.joblib')\n",
    "\n",
    "X_train, X_test, y_train, y_test = train_test_split(X, y, test_size=0.33, random_state=42)\n",
    "\n",
    "start_time = time.time()\n",
    "\n",
    "model = XGBClassifier(learning_rate = 0.1,\n",
    "                      n_estimators = 1000,\n",
    "                      max_depth = 8,\n",
    "                      min_child_weight=3,\n",
    "                      subsample = 0.8,\n",
    "                      colsample_bytree = 0.8,\n",
    "                      gamma = 0\n",
    "                     )\n",
    "model.fit(X_train, y_train)\n",
    "\n",
    "y_pred = model.predict(X_test)\n",
    "predictions = [round(value) for value in y_pred]\n",
    "\n",
    "print(\"--- Model trained. Training time: %s seconds ---\" % (time.time() - start_time))\n",
    "\n",
    "accuracy = accuracy_score(y_test, predictions)\n",
    "print(\"Accuracy: %.2f%%\" % (accuracy * 100.0))"
   ]
  },
  {
   "cell_type": "markdown",
   "metadata": {
    "heading_collapsed": true
   },
   "source": [
    "# STFT on tuned XGBoost major dataset"
   ]
  },
  {
   "cell_type": "code",
   "execution_count": 104,
   "metadata": {
    "ExecuteTime": {
     "end_time": "2021-04-03T15:47:05.752634Z",
     "start_time": "2021-04-03T14:47:00.341245Z"
    },
    "hidden": true
   },
   "outputs": [
    {
     "name": "stderr",
     "output_type": "stream",
     "text": [
      "/opt/conda/lib/python3.7/site-packages/xgboost/core.py:478: ComplexWarning: Casting complex values to real discards the imaginary part\n",
      "  data = np.array(mat.reshape(mat.size), copy=False, dtype=np.float32)\n"
     ]
    },
    {
     "name": "stdout",
     "output_type": "stream",
     "text": [
      "--- Model trained. Training time: 3605.0931766033173 seconds ---\n",
      "Accuracy: 52.94%\n"
     ]
    }
   ],
   "source": [
    "X = joblib.load('STFT_feats/X.joblib')\n",
    "y = joblib.load('STFT_feats/y.joblib')\n",
    "\n",
    "X_train, X_test, y_train, y_test = train_test_split(X, y, test_size=0.33, random_state=42)\n",
    "\n",
    "start_time = time.time()\n",
    "\n",
    "model = XGBClassifier(learning_rate = 0.1,\n",
    "                      n_estimators = 1000,\n",
    "                      max_depth = 8,\n",
    "                      min_child_weight=3,\n",
    "                      subsample = 0.8,\n",
    "                      colsample_bytree = 0.8,\n",
    "                      gamma = 0\n",
    "                     )\n",
    "model.fit(X_train, y_train)\n",
    "\n",
    "y_pred = model.predict(X_test)\n",
    "predictions = [round(value) for value in y_pred]\n",
    "\n",
    "print(\"--- Model trained. Training time: %s seconds ---\" % (time.time() - start_time))\n",
    "\n",
    "accuracy = accuracy_score(y_test, predictions)\n",
    "print(\"Accuracy: %.2f%%\" % (accuracy * 100.0))"
   ]
  },
  {
   "cell_type": "markdown",
   "metadata": {
    "heading_collapsed": true
   },
   "source": [
    "# MFCC + PRAAT on tuned XGBoost major dataset"
   ]
  },
  {
   "cell_type": "code",
   "execution_count": 5,
   "metadata": {
    "ExecuteTime": {
     "end_time": "2021-04-10T12:58:21.793698Z",
     "start_time": "2021-04-10T12:56:34.336308Z"
    },
    "hidden": true
   },
   "outputs": [
    {
     "name": "stdout",
     "output_type": "stream",
     "text": [
      "--- Model trained. Training time: 107.41029167175293 seconds ---\n",
      "Accuracy: 87.25%\n"
     ]
    }
   ],
   "source": [
    "X = joblib.load('../feats/mfcc_and_praat/X1.joblib')\n",
    "y = joblib.load('../feats/mfcc_and_praat/y2.joblib')\n",
    "\n",
    "X_train, X_test, y_train, y_test = train_test_split(X, y, test_size=0.33, random_state=42)\n",
    "\n",
    "start_time = time.time()\n",
    "\n",
    "model = XGBClassifier(learning_rate = 0.1,\n",
    "                      n_estimators = 1000,\n",
    "                      max_depth = 8,\n",
    "                      min_child_weight=3,\n",
    "                      subsample = 0.8,\n",
    "                      colsample_bytree = 0.8,\n",
    "                      gamma = 0\n",
    "                     )\n",
    "model.fit(X_train, y_train)\n",
    "\n",
    "y_pred = model.predict(X_test)\n",
    "predictions = [round(value) for value in y_pred]\n",
    "\n",
    "print(\"--- Model trained. Training time: %s seconds ---\" % (time.time() - start_time))\n",
    "\n",
    "accuracy = accuracy_score(y_test, predictions)\n",
    "print(\"Accuracy: %.2f%%\" % (accuracy * 100.0))"
   ]
  },
  {
   "cell_type": "markdown",
   "metadata": {
    "heading_collapsed": true
   },
   "source": [
    "# MFCC Calm and Neutral concat "
   ]
  },
  {
   "cell_type": "code",
   "execution_count": 35,
   "metadata": {
    "ExecuteTime": {
     "end_time": "2021-04-12T10:20:51.976220Z",
     "start_time": "2021-04-12T10:19:36.281174Z"
    },
    "hidden": true
   },
   "outputs": [
    {
     "name": "stdout",
     "output_type": "stream",
     "text": [
      "--- Model trained. Training time: 75.63461232185364 seconds ---\n",
      "Accuracy: 88.06%\n"
     ]
    }
   ],
   "source": [
    "X = joblib.load('../feats/mfcc joblib/X.joblib')\n",
    "y = joblib.load('../feats/mfcc joblib/y.joblib')\n",
    "\n",
    "for i in range (y.shape[0]):\n",
    "    if y[i] == 1:\n",
    "        y[i] = 0\n",
    "\n",
    "X_train, X_test, y_train, y_test = train_test_split(X, y, test_size=0.33, random_state=42)\n",
    "\n",
    "start_time = time.time()\n",
    "\n",
    "model = XGBClassifier(learning_rate = 0.1,\n",
    "                      n_estimators = 1000,\n",
    "                      max_depth = 8,\n",
    "                      min_child_weight=3,\n",
    "                      subsample = 0.8,\n",
    "                      colsample_bytree = 0.8,\n",
    "                      gamma = 0\n",
    "                     )\n",
    "model.fit(X_train, y_train)\n",
    "\n",
    "y_pred = model.predict(X_test)\n",
    "predictions = [round(value) for value in y_pred]\n",
    "\n",
    "print(\"--- Model trained. Training time: %s seconds ---\" % (time.time() - start_time))\n",
    "\n",
    "accuracy = accuracy_score(y_test, predictions)\n",
    "print(\"Accuracy: %.2f%%\" % (accuracy * 100.0))"
   ]
  },
  {
   "cell_type": "code",
   "execution_count": 32,
   "metadata": {
    "ExecuteTime": {
     "end_time": "2021-04-12T10:19:24.822645Z",
     "start_time": "2021-04-12T10:19:24.792478Z"
    },
    "hidden": true
   },
   "outputs": [],
   "source": [
    "for i in range (y.shape[0]):\n",
    "    if y[i] == 1:\n",
    "        y[i] = 0"
   ]
  },
  {
   "cell_type": "code",
   "execution_count": 33,
   "metadata": {
    "ExecuteTime": {
     "end_time": "2021-04-12T10:19:25.796382Z",
     "start_time": "2021-04-12T10:19:25.789659Z"
    },
    "hidden": true
   },
   "outputs": [],
   "source": [
    "(unique, counts) = np.unique(y, return_counts=True)\n",
    "frequencies = np.asarray((unique, counts)).T"
   ]
  },
  {
   "cell_type": "code",
   "execution_count": 34,
   "metadata": {
    "ExecuteTime": {
     "end_time": "2021-04-12T10:19:26.356295Z",
     "start_time": "2021-04-12T10:19:26.347802Z"
    },
    "hidden": true
   },
   "outputs": [
    {
     "data": {
      "text/plain": [
       "array([[  0, 964],\n",
       "       [  2, 776],\n",
       "       [  3, 776],\n",
       "       [  4, 776],\n",
       "       [  5, 776],\n",
       "       [  6, 592],\n",
       "       [  7, 592]])"
      ]
     },
     "execution_count": 34,
     "metadata": {},
     "output_type": "execute_result"
    }
   ],
   "source": [
    "frequencies"
   ]
  },
  {
   "cell_type": "markdown",
   "metadata": {
    "ExecuteTime": {
     "end_time": "2021-04-12T11:15:43.264831Z",
     "start_time": "2021-04-12T11:15:43.257652Z"
    },
    "heading_collapsed": true
   },
   "source": [
    "# Mood concats"
   ]
  },
  {
   "cell_type": "markdown",
   "metadata": {
    "heading_collapsed": true,
    "hidden": true
   },
   "source": [
    "## calm/neutral MFCC + Praat"
   ]
  },
  {
   "cell_type": "code",
   "execution_count": 37,
   "metadata": {
    "ExecuteTime": {
     "end_time": "2021-04-12T11:17:51.156939Z",
     "start_time": "2021-04-12T11:16:12.016794Z"
    },
    "hidden": true
   },
   "outputs": [
    {
     "name": "stdout",
     "output_type": "stream",
     "text": [
      "--- Model trained. Training time: 99.09384417533875 seconds ---\n",
      "Accuracy: 88.17%\n"
     ]
    }
   ],
   "source": [
    "X = joblib.load('../feats/mfcc_and_praat/X1.joblib')\n",
    "y = joblib.load('../feats/mfcc_and_praat/y2.joblib')\n",
    "\n",
    "for i in range (y.shape[0]):\n",
    "    if y[i] == 1:\n",
    "        y[i] = 0\n",
    "\n",
    "X_train, X_test, y_train, y_test = train_test_split(X, y, test_size=0.33, random_state=42)\n",
    "\n",
    "start_time = time.time()\n",
    "\n",
    "model = XGBClassifier(learning_rate = 0.1,\n",
    "                      n_estimators = 1000,\n",
    "                      max_depth = 8,\n",
    "                      min_child_weight=3,\n",
    "                      subsample = 0.8,\n",
    "                      colsample_bytree = 0.8,\n",
    "                      gamma = 0\n",
    "                     )\n",
    "model.fit(X_train, y_train)\n",
    "\n",
    "y_pred = model.predict(X_test)\n",
    "predictions = [round(value) for value in y_pred]\n",
    "\n",
    "print(\"--- Model trained. Training time: %s seconds ---\" % (time.time() - start_time))\n",
    "\n",
    "accuracy = accuracy_score(y_test, predictions)\n",
    "print(\"Accuracy: %.2f%%\" % (accuracy * 100.0))"
   ]
  },
  {
   "cell_type": "code",
   "execution_count": 38,
   "metadata": {
    "ExecuteTime": {
     "end_time": "2021-04-12T11:20:51.594036Z",
     "start_time": "2021-04-12T11:20:51.578124Z"
    },
    "hidden": true
   },
   "outputs": [
    {
     "data": {
      "text/plain": [
       "array([[  0, 964],\n",
       "       [  2, 776],\n",
       "       [  3, 773],\n",
       "       [  4, 776],\n",
       "       [  5, 776],\n",
       "       [  6, 592],\n",
       "       [  7, 592]])"
      ]
     },
     "execution_count": 38,
     "metadata": {},
     "output_type": "execute_result"
    }
   ],
   "source": [
    "(unique, counts) = np.unique(y, return_counts=True)\n",
    "frequencies = np.asarray((unique, counts)).T\n",
    "frequencies"
   ]
  },
  {
   "cell_type": "code",
   "execution_count": null,
   "metadata": {
    "hidden": true
   },
   "outputs": [],
   "source": [
    "import seaborn as sns\n",
    "\n",
    "mood_lab = [0, 1, 2, 3, 4, 5, 6, 7]\n",
    "# 0 = neutral, 1 = calm, 2 = happy, 3 = sad, 4 = angry, 5 = fearful, 6 = disgust, 7 = surprised\n",
    "\n",
    "confusion_mtx = tf.math.confusion_matrix(y_test, predictions) \n",
    "plt.figure(figsize=(10, 8))\n",
    "sns.heatmap(confusion_mtx, xticklabels=mood_lab, yticklabels=mood_lab, \n",
    "            annot=True, fmt='g')\n",
    "plt.xlabel('Prediction')\n",
    "plt.ylabel('Label')\n",
    "plt.show()"
   ]
  },
  {
   "cell_type": "markdown",
   "metadata": {
    "ExecuteTime": {
     "end_time": "2021-04-12T11:29:00.540090Z",
     "start_time": "2021-04-12T11:29:00.531307Z"
    },
    "heading_collapsed": true,
    "hidden": true
   },
   "source": [
    "## calm/sad MFCC"
   ]
  },
  {
   "cell_type": "code",
   "execution_count": 46,
   "metadata": {
    "ExecuteTime": {
     "end_time": "2021-04-12T11:34:18.665434Z",
     "start_time": "2021-04-12T11:33:04.515762Z"
    },
    "hidden": true
   },
   "outputs": [
    {
     "name": "stdout",
     "output_type": "stream",
     "text": [
      "--- Model trained. Training time: 74.08799076080322 seconds ---\n",
      "Accuracy: 87.49%\n"
     ]
    }
   ],
   "source": [
    "X = joblib.load('../feats/mfcc joblib/X.joblib')\n",
    "y = joblib.load('../feats/mfcc joblib/y.joblib')\n",
    "\n",
    "for i in range (y.shape[0]):\n",
    "    if y[i] == 3:\n",
    "        y[i] = 1\n",
    "\n",
    "X_train, X_test, y_train, y_test = train_test_split(X, y, test_size=0.33, random_state=42)\n",
    "\n",
    "start_time = time.time()\n",
    "\n",
    "model = XGBClassifier(learning_rate = 0.1,\n",
    "                      n_estimators = 1000,\n",
    "                      max_depth = 8,\n",
    "                      min_child_weight=3,\n",
    "                      subsample = 0.8,\n",
    "                      colsample_bytree = 0.8,\n",
    "                      gamma = 0\n",
    "                     )\n",
    "model.fit(X_train, y_train)\n",
    "\n",
    "y_pred = model.predict(X_test)\n",
    "predictions = [round(value) for value in y_pred]\n",
    "\n",
    "print(\"--- Model trained. Training time: %s seconds ---\" % (time.time() - start_time))\n",
    "\n",
    "accuracy = accuracy_score(y_test, predictions)\n",
    "print(\"Accuracy: %.2f%%\" % (accuracy * 100.0))"
   ]
  },
  {
   "cell_type": "code",
   "execution_count": 47,
   "metadata": {
    "ExecuteTime": {
     "end_time": "2021-04-12T11:34:18.684802Z",
     "start_time": "2021-04-12T11:34:18.672375Z"
    },
    "hidden": true
   },
   "outputs": [
    {
     "data": {
      "text/plain": [
       "array([[   0,  588],\n",
       "       [   1, 1152],\n",
       "       [   2,  776],\n",
       "       [   4,  776],\n",
       "       [   5,  776],\n",
       "       [   6,  592],\n",
       "       [   7,  592]])"
      ]
     },
     "execution_count": 47,
     "metadata": {},
     "output_type": "execute_result"
    }
   ],
   "source": [
    "(unique, counts) = np.unique(y, return_counts=True)\n",
    "frequencies = np.asarray((unique, counts)).T\n",
    "frequencies"
   ]
  },
  {
   "cell_type": "code",
   "execution_count": 48,
   "metadata": {
    "ExecuteTime": {
     "end_time": "2021-04-12T11:35:11.337013Z",
     "start_time": "2021-04-12T11:35:10.103784Z"
    },
    "hidden": true
   },
   "outputs": [
    {
     "data": {
      "image/png": "[encoded data removed]",
      "text/plain": [
       "<Figure size 720x576 with 2 Axes>"
      ]
     },
     "metadata": {
      "needs_background": "light"
     },
     "output_type": "display_data"
    }
   ],
   "source": [
    "import seaborn as sns\n",
    "\n",
    "mood_lab = [0, 1, 2, 4, 5, 6, 7]\n",
    "# 0 = neutral, 1 = calm, 2 = happy, 3 = sad, 4 = angry, 5 = fearful, 6 = disgust, 7 = surprised\n",
    "\n",
    "confusion_mtx = tf.math.confusion_matrix(y_test, predictions) \n",
    "plt.figure(figsize=(10, 8))\n",
    "sns.heatmap(confusion_mtx, xticklabels=mood_lab, yticklabels=mood_lab, \n",
    "            annot=True, fmt='g')\n",
    "plt.xlabel('Prediction')\n",
    "plt.ylabel('Label')\n",
    "plt.show()"
   ]
  },
  {
   "cell_type": "markdown",
   "metadata": {},
   "source": [
    "# Spectral features on tuned XGBoost major dataset"
   ]
  },
  {
   "cell_type": "markdown",
   "metadata": {
    "heading_collapsed": true
   },
   "source": [
    "## centroid"
   ]
  },
  {
   "cell_type": "code",
   "execution_count": 57,
   "metadata": {
    "ExecuteTime": {
     "end_time": "2021-04-15T15:38:26.493829Z",
     "start_time": "2021-04-15T15:22:17.082188Z"
    },
    "hidden": true
   },
   "outputs": [
    {
     "name": "stdout",
     "output_type": "stream",
     "text": [
      "--- Model trained. Training time: 969.1947975158691 seconds ---\n",
      "Accuracy: 67.88%\n"
     ]
    },
    {
     "ename": "AttributeError",
     "evalue": "'XGBClassifier' object has no attribute 'save'",
     "output_type": "error",
     "traceback": [
      "\u001b[0;31m---------------------------------------------------------------------------\u001b[0m",
      "\u001b[0;31mAttributeError\u001b[0m                            Traceback (most recent call last)",
      "\u001b[0;32m<ipython-input-57-2e597d2330a3>\u001b[0m in \u001b[0;36m<module>\u001b[0;34m\u001b[0m\n\u001b[1;32m     24\u001b[0m \u001b[0mprint\u001b[0m\u001b[0;34m(\u001b[0m\u001b[0;34m\"Accuracy: %.2f%%\"\u001b[0m \u001b[0;34m%\u001b[0m \u001b[0;34m(\u001b[0m\u001b[0maccuracy\u001b[0m \u001b[0;34m*\u001b[0m \u001b[0;36m100.0\u001b[0m\u001b[0;34m)\u001b[0m\u001b[0;34m)\u001b[0m\u001b[0;34m\u001b[0m\u001b[0;34m\u001b[0m\u001b[0m\n\u001b[1;32m     25\u001b[0m \u001b[0;34m\u001b[0m\u001b[0m\n\u001b[0;32m---> 26\u001b[0;31m \u001b[0mmodel\u001b[0m\u001b[0;34m.\u001b[0m\u001b[0msave\u001b[0m\u001b[0;34m(\u001b[0m\u001b[0;34m\"../Models/centroid.h5\"\u001b[0m\u001b[0;34m)\u001b[0m\u001b[0;34m\u001b[0m\u001b[0;34m\u001b[0m\u001b[0m\n\u001b[0m",
      "\u001b[0;31mAttributeError\u001b[0m: 'XGBClassifier' object has no attribute 'save'"
     ]
    }
   ],
   "source": [
    "X = joblib.load('../feats/spectral_feats/joblib/X_sc.joblib')\n",
    "y = joblib.load('../feats/spectral_feats/joblib/y.joblib')\n",
    "\n",
    "X_train, X_test, y_train, y_test = train_test_split(X, y, test_size=0.33, random_state=42)\n",
    "\n",
    "start_time = time.time()\n",
    "\n",
    "model = XGBClassifier(learning_rate = 0.1,\n",
    "                      n_estimators = 1000,\n",
    "                      max_depth = 8,\n",
    "                      min_child_weight=3,\n",
    "                      subsample = 0.8,\n",
    "                      colsample_bytree = 0.8,\n",
    "                      gamma = 0\n",
    "                     )\n",
    "model.fit(X_train, y_train)\n",
    "\n",
    "y_pred = model.predict(X_test)\n",
    "predictions = [round(value) for value in y_pred]\n",
    "\n",
    "print(\"--- Model trained. Training time: %s seconds ---\" % (time.time() - start_time))\n",
    "\n",
    "accuracy = accuracy_score(y_test, predictions)\n",
    "print(\"Accuracy: %.2f%%\" % (accuracy * 100.0))\n",
    "\n",
    "model.save(\"../Models/centroid.h5\")"
   ]
  },
  {
   "cell_type": "code",
   "execution_count": 59,
   "metadata": {
    "ExecuteTime": {
     "end_time": "2021-04-15T15:41:02.342397Z",
     "start_time": "2021-04-15T15:41:02.283004Z"
    },
    "hidden": true
   },
   "outputs": [
    {
     "data": {
      "text/plain": [
       "['../Models/centroid.joblib.dat']"
      ]
     },
     "execution_count": 59,
     "metadata": {},
     "output_type": "execute_result"
    }
   ],
   "source": [
    "joblib.dump(model, \"../Models/centroid.joblib.dat\")"
   ]
  },
  {
   "cell_type": "markdown",
   "metadata": {
    "heading_collapsed": true
   },
   "source": [
    "## crest"
   ]
  },
  {
   "cell_type": "code",
   "execution_count": 60,
   "metadata": {
    "ExecuteTime": {
     "end_time": "2021-04-15T15:58:30.808742Z",
     "start_time": "2021-04-15T15:41:16.921559Z"
    },
    "hidden": true
   },
   "outputs": [
    {
     "name": "stdout",
     "output_type": "stream",
     "text": [
      "--- Model trained. Training time: 1033.6907477378845 seconds ---\n",
      "Accuracy: 59.57%\n"
     ]
    },
    {
     "data": {
      "text/plain": [
       "['../Models/crest.joblib.dat']"
      ]
     },
     "execution_count": 60,
     "metadata": {},
     "output_type": "execute_result"
    }
   ],
   "source": [
    "X = joblib.load('../feats/spectral_feats/joblib/X_screst.joblib')\n",
    "y = joblib.load('../feats/spectral_feats/joblib/y.joblib')\n",
    "\n",
    "X_train, X_test, y_train, y_test = train_test_split(X, y, test_size=0.33, random_state=42)\n",
    "\n",
    "start_time = time.time()\n",
    "\n",
    "model = XGBClassifier(learning_rate = 0.1,\n",
    "                      n_estimators = 1000,\n",
    "                      max_depth = 8,\n",
    "                      min_child_weight=3,\n",
    "                      subsample = 0.8,\n",
    "                      colsample_bytree = 0.8,\n",
    "                      gamma = 0\n",
    "                     )\n",
    "model.fit(X_train, y_train)\n",
    "\n",
    "y_pred = model.predict(X_test)\n",
    "predictions = [round(value) for value in y_pred]\n",
    "\n",
    "print(\"--- Model trained. Training time: %s seconds ---\" % (time.time() - start_time))\n",
    "\n",
    "accuracy = accuracy_score(y_test, predictions)\n",
    "print(\"Accuracy: %.2f%%\" % (accuracy * 100.0))\n",
    "\n",
    "joblib.dump(model, \"../Models/crest.joblib.dat\")"
   ]
  },
  {
   "cell_type": "markdown",
   "metadata": {
    "ExecuteTime": {
     "end_time": "2021-04-15T13:45:25.416702Z",
     "start_time": "2021-04-15T13:36:15.675Z"
    },
    "heading_collapsed": true
   },
   "source": [
    "## decrease"
   ]
  },
  {
   "cell_type": "code",
   "execution_count": 61,
   "metadata": {
    "ExecuteTime": {
     "end_time": "2021-04-15T16:15:00.644691Z",
     "start_time": "2021-04-15T15:58:30.813193Z"
    },
    "hidden": true
   },
   "outputs": [
    {
     "name": "stdout",
     "output_type": "stream",
     "text": [
      "--- Model trained. Training time: 989.6095316410065 seconds ---\n",
      "Accuracy: 61.42%\n"
     ]
    },
    {
     "data": {
      "text/plain": [
       "['../Models/decr.joblib.dat']"
      ]
     },
     "execution_count": 61,
     "metadata": {},
     "output_type": "execute_result"
    }
   ],
   "source": [
    "X = joblib.load('../feats/spectral_feats/joblib/X_decr.joblib')\n",
    "y = joblib.load('../feats/spectral_feats/joblib/y.joblib')\n",
    "\n",
    "X_train, X_test, y_train, y_test = train_test_split(X, y, test_size=0.33, random_state=42)\n",
    "\n",
    "start_time = time.time()\n",
    "\n",
    "model = XGBClassifier(learning_rate = 0.1,\n",
    "                      n_estimators = 1000,\n",
    "                      max_depth = 8,\n",
    "                      min_child_weight=3,\n",
    "                      subsample = 0.8,\n",
    "                      colsample_bytree = 0.8,\n",
    "                      gamma = 0\n",
    "                     )\n",
    "model.fit(X_train, y_train)\n",
    "\n",
    "y_pred = model.predict(X_test)\n",
    "predictions = [round(value) for value in y_pred]\n",
    "\n",
    "print(\"--- Model trained. Training time: %s seconds ---\" % (time.time() - start_time))\n",
    "\n",
    "accuracy = accuracy_score(y_test, predictions)\n",
    "print(\"Accuracy: %.2f%%\" % (accuracy * 100.0))\n",
    "\n",
    "joblib.dump(model, \"../Models/decr.joblib.dat\")"
   ]
  },
  {
   "cell_type": "markdown",
   "metadata": {
    "heading_collapsed": true
   },
   "source": [
    "## entropy"
   ]
  },
  {
   "cell_type": "code",
   "execution_count": 62,
   "metadata": {
    "ExecuteTime": {
     "end_time": "2021-04-15T16:31:39.076645Z",
     "start_time": "2021-04-15T16:15:00.649749Z"
    },
    "hidden": true
   },
   "outputs": [
    {
     "name": "stdout",
     "output_type": "stream",
     "text": [
      "--- Model trained. Training time: 998.1059975624084 seconds ---\n",
      "Accuracy: 63.61%\n"
     ]
    },
    {
     "data": {
      "text/plain": [
       "['../Models/entropy.joblib.dat']"
      ]
     },
     "execution_count": 62,
     "metadata": {},
     "output_type": "execute_result"
    }
   ],
   "source": [
    "X = joblib.load('../feats/spectral_feats/joblib/X_entro.joblib')\n",
    "y = joblib.load('../feats/spectral_feats/joblib/y.joblib')\n",
    "\n",
    "X_train, X_test, y_train, y_test = train_test_split(X, y, test_size=0.33, random_state=42)\n",
    "\n",
    "start_time = time.time()\n",
    "\n",
    "model = XGBClassifier(learning_rate = 0.1,\n",
    "                      n_estimators = 1000,\n",
    "                      max_depth = 8,\n",
    "                      min_child_weight=3,\n",
    "                      subsample = 0.8,\n",
    "                      colsample_bytree = 0.8,\n",
    "                      gamma = 0\n",
    "                     )\n",
    "model.fit(X_train, y_train)\n",
    "\n",
    "y_pred = model.predict(X_test)\n",
    "predictions = [round(value) for value in y_pred]\n",
    "\n",
    "print(\"--- Model trained. Training time: %s seconds ---\" % (time.time() - start_time))\n",
    "\n",
    "accuracy = accuracy_score(y_test, predictions)\n",
    "print(\"Accuracy: %.2f%%\" % (accuracy * 100.0))\n",
    "\n",
    "joblib.dump(model, \"../Models/entropy.joblib.dat\")"
   ]
  },
  {
   "cell_type": "markdown",
   "metadata": {
    "heading_collapsed": true
   },
   "source": [
    "## flatness"
   ]
  },
  {
   "cell_type": "code",
   "execution_count": 63,
   "metadata": {
    "ExecuteTime": {
     "end_time": "2021-04-15T16:48:52.998684Z",
     "start_time": "2021-04-15T16:31:39.081697Z"
    },
    "hidden": true
   },
   "outputs": [
    {
     "name": "stdout",
     "output_type": "stream",
     "text": [
      "--- Model trained. Training time: 1033.6434347629547 seconds ---\n",
      "Accuracy: 58.02%\n"
     ]
    },
    {
     "data": {
      "text/plain": [
       "['../Models/flatness.joblib.dat']"
      ]
     },
     "execution_count": 63,
     "metadata": {},
     "output_type": "execute_result"
    }
   ],
   "source": [
    "X = joblib.load('../feats/spectral_feats/joblib/X_sf.joblib')\n",
    "y = joblib.load('../feats/spectral_feats/joblib/y.joblib')\n",
    "\n",
    "X_train, X_test, y_train, y_test = train_test_split(X, y, test_size=0.33, random_state=42)\n",
    "\n",
    "start_time = time.time()\n",
    "\n",
    "model = XGBClassifier(learning_rate = 0.1,\n",
    "                      n_estimators = 1000,\n",
    "                      max_depth = 8,\n",
    "                      min_child_weight=3,\n",
    "                      subsample = 0.8,\n",
    "                      colsample_bytree = 0.8,\n",
    "                      gamma = 0\n",
    "                     )\n",
    "model.fit(X_train, y_train)\n",
    "\n",
    "y_pred = model.predict(X_test)\n",
    "predictions = [round(value) for value in y_pred]\n",
    "\n",
    "print(\"--- Model trained. Training time: %s seconds ---\" % (time.time() - start_time))\n",
    "\n",
    "accuracy = accuracy_score(y_test, predictions)\n",
    "print(\"Accuracy: %.2f%%\" % (accuracy * 100.0))\n",
    "\n",
    "joblib.dump(model, \"../Models/flatness.joblib.dat\")"
   ]
  },
  {
   "cell_type": "markdown",
   "metadata": {
    "ExecuteTime": {
     "end_time": "2021-04-15T13:45:25.418777Z",
     "start_time": "2021-04-15T13:37:56.777Z"
    },
    "heading_collapsed": true
   },
   "source": [
    "## flux"
   ]
  },
  {
   "cell_type": "code",
   "execution_count": 64,
   "metadata": {
    "ExecuteTime": {
     "end_time": "2021-04-15T17:05:21.211648Z",
     "start_time": "2021-04-15T16:48:53.014566Z"
    },
    "hidden": true
   },
   "outputs": [
    {
     "name": "stdout",
     "output_type": "stream",
     "text": [
      "--- Model trained. Training time: 987.5344452857971 seconds ---\n",
      "Accuracy: 70.76%\n"
     ]
    },
    {
     "data": {
      "text/plain": [
       "['../Models/flux.joblib.dat']"
      ]
     },
     "execution_count": 64,
     "metadata": {},
     "output_type": "execute_result"
    }
   ],
   "source": [
    "X = joblib.load('../feats/spectral_feats/joblib/X_flux.joblib')\n",
    "y = joblib.load('../feats/spectral_feats/joblib/y.joblib')\n",
    "\n",
    "X_train, X_test, y_train, y_test = train_test_split(X, y, test_size=0.33, random_state=42)\n",
    "\n",
    "start_time = time.time()\n",
    "\n",
    "model = XGBClassifier(learning_rate = 0.1,\n",
    "                      n_estimators = 1000,\n",
    "                      max_depth = 8,\n",
    "                      min_child_weight=3,\n",
    "                      subsample = 0.8,\n",
    "                      colsample_bytree = 0.8,\n",
    "                      gamma = 0\n",
    "                     )\n",
    "model.fit(X_train, y_train)\n",
    "\n",
    "y_pred = model.predict(X_test)\n",
    "predictions = [round(value) for value in y_pred]\n",
    "\n",
    "print(\"--- Model trained. Training time: %s seconds ---\" % (time.time() - start_time))\n",
    "\n",
    "accuracy = accuracy_score(y_test, predictions)\n",
    "print(\"Accuracy: %.2f%%\" % (accuracy * 100.0))\n",
    "\n",
    "joblib.dump(model, \"../Models/flux.joblib.dat\")"
   ]
  },
  {
   "cell_type": "markdown",
   "metadata": {
    "heading_collapsed": true
   },
   "source": [
    "## kurtosis"
   ]
  },
  {
   "cell_type": "code",
   "execution_count": 65,
   "metadata": {
    "ExecuteTime": {
     "end_time": "2021-04-15T17:22:04.608795Z",
     "start_time": "2021-04-15T17:05:21.218585Z"
    },
    "hidden": true
   },
   "outputs": [
    {
     "name": "stdout",
     "output_type": "stream",
     "text": [
      "--- Model trained. Training time: 1003.0048170089722 seconds ---\n",
      "Accuracy: 63.96%\n"
     ]
    },
    {
     "data": {
      "text/plain": [
       "['../Models/kurtosis.joblib.dat']"
      ]
     },
     "execution_count": 65,
     "metadata": {},
     "output_type": "execute_result"
    }
   ],
   "source": [
    "X = joblib.load('../feats/spectral_feats/joblib/X_kurt.joblib')\n",
    "y = joblib.load('../feats/spectral_feats/joblib/y.joblib')\n",
    "\n",
    "X_train, X_test, y_train, y_test = train_test_split(X, y, test_size=0.33, random_state=42)\n",
    "\n",
    "start_time = time.time()\n",
    "\n",
    "model = XGBClassifier(learning_rate = 0.1,\n",
    "                      n_estimators = 1000,\n",
    "                      max_depth = 8,\n",
    "                      min_child_weight=3,\n",
    "                      subsample = 0.8,\n",
    "                      colsample_bytree = 0.8,\n",
    "                      gamma = 0\n",
    "                     )\n",
    "model.fit(X_train, y_train)\n",
    "\n",
    "y_pred = model.predict(X_test)\n",
    "predictions = [round(value) for value in y_pred]\n",
    "\n",
    "print(\"--- Model trained. Training time: %s seconds ---\" % (time.time() - start_time))\n",
    "\n",
    "accuracy = accuracy_score(y_test, predictions)\n",
    "print(\"Accuracy: %.2f%%\" % (accuracy * 100.0))\n",
    "\n",
    "joblib.dump(model, \"../Models/kurtosis.joblib.dat\")"
   ]
  },
  {
   "cell_type": "markdown",
   "metadata": {
    "heading_collapsed": true
   },
   "source": [
    "## roll off point"
   ]
  },
  {
   "cell_type": "code",
   "execution_count": 66,
   "metadata": {
    "ExecuteTime": {
     "end_time": "2021-04-15T17:37:02.062937Z",
     "start_time": "2021-04-15T17:22:04.613780Z"
    },
    "hidden": true
   },
   "outputs": [
    {
     "name": "stdout",
     "output_type": "stream",
     "text": [
      "--- Model trained. Training time: 897.0102534294128 seconds ---\n",
      "Accuracy: 69.32%\n"
     ]
    },
    {
     "data": {
      "text/plain": [
       "['../Models/rop.joblib.dat']"
      ]
     },
     "execution_count": 66,
     "metadata": {},
     "output_type": "execute_result"
    }
   ],
   "source": [
    "X = joblib.load('../feats/spectral_feats/joblib/X_rop.joblib')\n",
    "y = joblib.load('../feats/spectral_feats/joblib/y.joblib')\n",
    "\n",
    "X_train, X_test, y_train, y_test = train_test_split(X, y, test_size=0.33, random_state=42)\n",
    "\n",
    "start_time = time.time()\n",
    "\n",
    "model = XGBClassifier(learning_rate = 0.1,\n",
    "                      n_estimators = 1000,\n",
    "                      max_depth = 8,\n",
    "                      min_child_weight=3,\n",
    "                      subsample = 0.8,\n",
    "                      colsample_bytree = 0.8,\n",
    "                      gamma = 0\n",
    "                     )\n",
    "model.fit(X_train, y_train)\n",
    "\n",
    "y_pred = model.predict(X_test)\n",
    "predictions = [round(value) for value in y_pred]\n",
    "\n",
    "print(\"--- Model trained. Training time: %s seconds ---\" % (time.time() - start_time))\n",
    "\n",
    "accuracy = accuracy_score(y_test, predictions)\n",
    "print(\"Accuracy: %.2f%%\" % (accuracy * 100.0))\n",
    "\n",
    "joblib.dump(model, \"../Models/rop.joblib.dat\")"
   ]
  },
  {
   "cell_type": "markdown",
   "metadata": {
    "heading_collapsed": true
   },
   "source": [
    "## skewness"
   ]
  },
  {
   "cell_type": "code",
   "execution_count": 67,
   "metadata": {
    "ExecuteTime": {
     "end_time": "2021-04-15T17:53:52.642195Z",
     "start_time": "2021-04-15T17:37:02.077310Z"
    },
    "hidden": true
   },
   "outputs": [
    {
     "name": "stdout",
     "output_type": "stream",
     "text": [
      "--- Model trained. Training time: 1010.293520450592 seconds ---\n",
      "Accuracy: 65.22%\n"
     ]
    },
    {
     "data": {
      "text/plain": [
       "['../Models/skewness.joblib.dat']"
      ]
     },
     "execution_count": 67,
     "metadata": {},
     "output_type": "execute_result"
    }
   ],
   "source": [
    "X = joblib.load('../feats/spectral_feats/joblib/X_skwnss.joblib')\n",
    "y = joblib.load('../feats/spectral_feats/joblib/y.joblib')\n",
    "\n",
    "X_train, X_test, y_train, y_test = train_test_split(X, y, test_size=0.33, random_state=42)\n",
    "\n",
    "start_time = time.time()\n",
    "\n",
    "model = XGBClassifier(learning_rate = 0.1,\n",
    "                      n_estimators = 1000,\n",
    "                      max_depth = 8,\n",
    "                      min_child_weight=3,\n",
    "                      subsample = 0.8,\n",
    "                      colsample_bytree = 0.8,\n",
    "                      gamma = 0\n",
    "                     )\n",
    "model.fit(X_train, y_train)\n",
    "\n",
    "y_pred = model.predict(X_test)\n",
    "predictions = [round(value) for value in y_pred]\n",
    "\n",
    "print(\"--- Model trained. Training time: %s seconds ---\" % (time.time() - start_time))\n",
    "\n",
    "accuracy = accuracy_score(y_test, predictions)\n",
    "print(\"Accuracy: %.2f%%\" % (accuracy * 100.0))\n",
    "\n",
    "joblib.dump(model, \"../Models/skewness.joblib.dat\")"
   ]
  },
  {
   "cell_type": "markdown",
   "metadata": {
    "heading_collapsed": true
   },
   "source": [
    "## slope"
   ]
  },
  {
   "cell_type": "code",
   "execution_count": 68,
   "metadata": {
    "ExecuteTime": {
     "end_time": "2021-04-15T18:10:53.510276Z",
     "start_time": "2021-04-15T17:53:52.647338Z"
    },
    "hidden": true
   },
   "outputs": [
    {
     "name": "stdout",
     "output_type": "stream",
     "text": [
      "--- Model trained. Training time: 1020.6702010631561 seconds ---\n",
      "Accuracy: 70.13%\n"
     ]
    },
    {
     "data": {
      "text/plain": [
       "['../Models/slope.joblib.dat']"
      ]
     },
     "execution_count": 68,
     "metadata": {},
     "output_type": "execute_result"
    }
   ],
   "source": [
    "X = joblib.load('../feats/spectral_feats/joblib/X_slope.joblib')\n",
    "y = joblib.load('../feats/spectral_feats/joblib/y.joblib')\n",
    "\n",
    "X_train, X_test, y_train, y_test = train_test_split(X, y, test_size=0.33, random_state=42)\n",
    "\n",
    "start_time = time.time()\n",
    "\n",
    "model = XGBClassifier(learning_rate = 0.1,\n",
    "                      n_estimators = 1000,\n",
    "                      max_depth = 8,\n",
    "                      min_child_weight=3,\n",
    "                      subsample = 0.8,\n",
    "                      colsample_bytree = 0.8,\n",
    "                      gamma = 0\n",
    "                     )\n",
    "model.fit(X_train, y_train)\n",
    "\n",
    "y_pred = model.predict(X_test)\n",
    "predictions = [round(value) for value in y_pred]\n",
    "\n",
    "print(\"--- Model trained. Training time: %s seconds ---\" % (time.time() - start_time))\n",
    "\n",
    "accuracy = accuracy_score(y_test, predictions)\n",
    "print(\"Accuracy: %.2f%%\" % (accuracy * 100.0))\n",
    "\n",
    "joblib.dump(model, \"../Models/slope.joblib.dat\")"
   ]
  },
  {
   "cell_type": "markdown",
   "metadata": {
    "heading_collapsed": true
   },
   "source": [
    "## spread"
   ]
  },
  {
   "cell_type": "code",
   "execution_count": 69,
   "metadata": {
    "ExecuteTime": {
     "end_time": "2021-04-15T18:27:50.545956Z",
     "start_time": "2021-04-15T18:10:53.515613Z"
    },
    "hidden": true
   },
   "outputs": [
    {
     "name": "stdout",
     "output_type": "stream",
     "text": [
      "--- Model trained. Training time: 1016.8054213523865 seconds ---\n",
      "Accuracy: 63.03%\n"
     ]
    },
    {
     "data": {
      "text/plain": [
       "['../Models/spread.joblib.dat']"
      ]
     },
     "execution_count": 69,
     "metadata": {},
     "output_type": "execute_result"
    }
   ],
   "source": [
    "X = joblib.load('../feats/spectral_feats/joblib/X_spread.joblib')\n",
    "y = joblib.load('../feats/spectral_feats/joblib/y.joblib')\n",
    "\n",
    "X_train, X_test, y_train, y_test = train_test_split(X, y, test_size=0.33, random_state=42)\n",
    "\n",
    "start_time = time.time()\n",
    "\n",
    "model = XGBClassifier(learning_rate = 0.1,\n",
    "                      n_estimators = 1000,\n",
    "                      max_depth = 8,\n",
    "                      min_child_weight=3,\n",
    "                      subsample = 0.8,\n",
    "                      colsample_bytree = 0.8,\n",
    "                      gamma = 0\n",
    "                     )\n",
    "model.fit(X_train, y_train)\n",
    "\n",
    "y_pred = model.predict(X_test)\n",
    "predictions = [round(value) for value in y_pred]\n",
    "\n",
    "print(\"--- Model trained. Training time: %s seconds ---\" % (time.time() - start_time))\n",
    "\n",
    "accuracy = accuracy_score(y_test, predictions)\n",
    "print(\"Accuracy: %.2f%%\" % (accuracy * 100.0))\n",
    "\n",
    "joblib.dump(model, \"../Models/spread.joblib.dat\")"
   ]
  },
  {
   "cell_type": "markdown",
   "metadata": {
    "heading_collapsed": true
   },
   "source": [
    "## Concatenate"
   ]
  },
  {
   "cell_type": "code",
   "execution_count": 74,
   "metadata": {
    "ExecuteTime": {
     "end_time": "2021-04-16T10:30:12.113813Z",
     "start_time": "2021-04-16T08:13:38.174176Z"
    },
    "hidden": true
   },
   "outputs": [
    {
     "name": "stdout",
     "output_type": "stream",
     "text": [
      "--- Model trained. Training time: 8187.525829076767 seconds ---\n",
      "Accuracy: 74.51%\n"
     ]
    },
    {
     "data": {
      "text/plain": [
       "['../Models/spread.joblib.dat']"
      ]
     },
     "execution_count": 74,
     "metadata": {},
     "output_type": "execute_result"
    }
   ],
   "source": [
    "X = joblib.load('../feats/spectral_feats/joblib/X_concatenate.joblib')\n",
    "y = joblib.load('../feats/spectral_feats/joblib/y.joblib')\n",
    "\n",
    "X_train, X_test, y_train, y_test = train_test_split(X, y, test_size=0.33, random_state=42)\n",
    "\n",
    "start_time = time.time()\n",
    "\n",
    "model = XGBClassifier(learning_rate = 0.1,\n",
    "                      n_estimators = 1000,\n",
    "                      max_depth = 8,\n",
    "                      min_child_weight=3,\n",
    "                      subsample = 0.8,\n",
    "                      colsample_bytree = 0.8,\n",
    "                      gamma = 0\n",
    "                     )\n",
    "model.fit(X_train, y_train)\n",
    "\n",
    "y_pred = model.predict(X_test)\n",
    "predictions = [round(value) for value in y_pred]\n",
    "\n",
    "print(\"--- Model trained. Training time: %s seconds ---\" % (time.time() - start_time))\n",
    "\n",
    "accuracy = accuracy_score(y_test, predictions)\n",
    "print(\"Accuracy: %.2f%%\" % (accuracy * 100.0))\n",
    "\n",
    "joblib.dump(model, \"../Models/spread.joblib.dat\")"
   ]
  },
  {
   "cell_type": "code",
   "execution_count": 75,
   "metadata": {
    "ExecuteTime": {
     "end_time": "2021-04-16T10:31:34.445071Z",
     "start_time": "2021-04-16T10:31:34.311241Z"
    },
    "hidden": true
   },
   "outputs": [
    {
     "data": {
      "text/plain": [
       "['../Models/concat.joblib.dat']"
      ]
     },
     "execution_count": 75,
     "metadata": {},
     "output_type": "execute_result"
    }
   ],
   "source": [
    "joblib.dump(model, \"../Models/concat.joblib.dat\")"
   ]
  },
  {
   "cell_type": "code",
   "execution_count": 76,
   "metadata": {
    "ExecuteTime": {
     "end_time": "2021-04-16T10:32:11.661550Z",
     "start_time": "2021-04-16T10:32:11.582992Z"
    },
    "hidden": true
   },
   "outputs": [
    {
     "ename": "AttributeError",
     "evalue": "'XGBClassifier' object has no attribute 'evaluate'",
     "output_type": "error",
     "traceback": [
      "\u001b[0;31m---------------------------------------------------------------------------\u001b[0m",
      "\u001b[0;31mAttributeError\u001b[0m                            Traceback (most recent call last)",
      "\u001b[0;32m<ipython-input-76-acc519fcce62>\u001b[0m in \u001b[0;36m<module>\u001b[0;34m\u001b[0m\n\u001b[0;32m----> 1\u001b[0;31m \u001b[0mmodel\u001b[0m\u001b[0;34m.\u001b[0m\u001b[0mevaluate\u001b[0m\u001b[0;34m(\u001b[0m\u001b[0mX_test\u001b[0m\u001b[0;34m,\u001b[0m \u001b[0my_test\u001b[0m\u001b[0;34m)\u001b[0m\u001b[0;34m\u001b[0m\u001b[0;34m\u001b[0m\u001b[0m\n\u001b[0m",
      "\u001b[0;31mAttributeError\u001b[0m: 'XGBClassifier' object has no attribute 'evaluate'"
     ]
    }
   ],
   "source": [
    "model.evaluate(X_test, y_test)"
   ]
  },
  {
   "cell_type": "code",
   "execution_count": null,
   "metadata": {
    "hidden": true
   },
   "outputs": [],
   "source": []
  },
  {
   "cell_type": "markdown",
   "metadata": {
    "heading_collapsed": true
   },
   "source": [
    "# Delta spectral features on tuned XGBoost major dataset"
   ]
  },
  {
   "cell_type": "markdown",
   "metadata": {
    "heading_collapsed": true,
    "hidden": true
   },
   "source": [
    "## centroid"
   ]
  },
  {
   "cell_type": "code",
   "execution_count": 78,
   "metadata": {
    "ExecuteTime": {
     "end_time": "2021-04-16T11:33:31.652995Z",
     "start_time": "2021-04-16T11:16:56.164583Z"
    },
    "hidden": true
   },
   "outputs": [
    {
     "name": "stdout",
     "output_type": "stream",
     "text": [
      "--- Model trained. Training time: 995.249669790268 seconds ---\n",
      "Accuracy: 62.75%\n"
     ]
    },
    {
     "data": {
      "text/plain": [
       "['../Models/delta_centroid.joblib.dat']"
      ]
     },
     "execution_count": 78,
     "metadata": {},
     "output_type": "execute_result"
    }
   ],
   "source": [
    "X = joblib.load('../feats/spectral_feats/joblib/X_dsc.joblib')\n",
    "y = joblib.load('../feats/spectral_feats/joblib/y_delta.joblib')\n",
    "\n",
    "X_train, X_test, y_train, y_test = train_test_split(X, y, test_size=0.33, random_state=42)\n",
    "\n",
    "start_time = time.time()\n",
    "\n",
    "model = XGBClassifier(learning_rate = 0.1,\n",
    "                      n_estimators = 1000,\n",
    "                      max_depth = 8,\n",
    "                      min_child_weight=3,\n",
    "                      subsample = 0.8,\n",
    "                      colsample_bytree = 0.8,\n",
    "                      gamma = 0\n",
    "                     )\n",
    "model.fit(X_train, y_train)\n",
    "\n",
    "y_pred = model.predict(X_test)\n",
    "predictions = [round(value) for value in y_pred]\n",
    "\n",
    "print(\"--- Model trained. Training time: %s seconds ---\" % (time.time() - start_time))\n",
    "\n",
    "accuracy = accuracy_score(y_test, predictions)\n",
    "print(\"Accuracy: %.2f%%\" % (accuracy * 100.0))\n",
    "\n",
    "joblib.dump(model, \"../Models/delta_centroid.joblib.dat\")"
   ]
  },
  {
   "cell_type": "markdown",
   "metadata": {
    "heading_collapsed": true,
    "hidden": true
   },
   "source": [
    "## crest"
   ]
  },
  {
   "cell_type": "code",
   "execution_count": 84,
   "metadata": {
    "ExecuteTime": {
     "end_time": "2021-04-20T10:52:00.610086Z",
     "start_time": "2021-04-20T10:34:13.022367Z"
    },
    "hidden": true
   },
   "outputs": [
    {
     "name": "stdout",
     "output_type": "stream",
     "text": [
      "--- Model trained. Training time: 1054.2836427688599 seconds ---\n",
      "Accuracy: 54.96%\n"
     ]
    },
    {
     "data": {
      "text/plain": [
       "['../Models/delta_crest.joblib.dat']"
      ]
     },
     "execution_count": 84,
     "metadata": {},
     "output_type": "execute_result"
    }
   ],
   "source": [
    "X = joblib.load('../feats/spectral_feats/joblib/X_dscrest.joblib')\n",
    "y = joblib.load('../feats/spectral_feats/joblib/y_delta.joblib')\n",
    "\n",
    "X_train, X_test, y_train, y_test = train_test_split(X, y, test_size=0.33, random_state=42)\n",
    "\n",
    "start_time = time.time()\n",
    "\n",
    "model = XGBClassifier(learning_rate = 0.1,\n",
    "                      n_estimators = 1000,\n",
    "                      max_depth = 8,\n",
    "                      min_child_weight=3,\n",
    "                      subsample = 0.8,\n",
    "                      colsample_bytree = 0.8,\n",
    "                      gamma = 0\n",
    "                     )\n",
    "model.fit(X_train, y_train)\n",
    "\n",
    "y_pred = model.predict(X_test)\n",
    "predictions = [round(value) for value in y_pred]\n",
    "\n",
    "print(\"--- Model trained. Training time: %s seconds ---\" % (time.time() - start_time))\n",
    "\n",
    "accuracy = accuracy_score(y_test, predictions)\n",
    "print(\"Accuracy: %.2f%%\" % (accuracy * 100.0))\n",
    "\n",
    "joblib.dump(model, \"../Models/delta_crest.joblib.dat\")"
   ]
  },
  {
   "cell_type": "markdown",
   "metadata": {
    "heading_collapsed": true,
    "hidden": true
   },
   "source": [
    "## decrease"
   ]
  },
  {
   "cell_type": "code",
   "execution_count": 96,
   "metadata": {
    "ExecuteTime": {
     "end_time": "2021-04-20T12:32:50.797170Z",
     "start_time": "2021-04-20T12:15:52.369265Z"
    },
    "hidden": true
   },
   "outputs": [
    {
     "name": "stdout",
     "output_type": "stream",
     "text": [
      "--- Model trained. Training time: 1017.9784061908722 seconds ---\n",
      "Accuracy: 57.61%\n"
     ]
    },
    {
     "data": {
      "text/plain": [
       "['../Models/delta_decr.joblib.dat']"
      ]
     },
     "execution_count": 96,
     "metadata": {},
     "output_type": "execute_result"
    }
   ],
   "source": [
    "X = joblib.load('../feats/spectral_feats/joblib/X_ddecr.joblib')\n",
    "y = joblib.load('../feats/spectral_feats/joblib/y_delta.joblib')\n",
    "\n",
    "X_train, X_test, y_train, y_test = train_test_split(X, y, test_size=0.33, random_state=42)\n",
    "\n",
    "start_time = time.time()\n",
    "\n",
    "model = XGBClassifier(learning_rate = 0.1,\n",
    "                      n_estimators = 1000,\n",
    "                      max_depth = 8,\n",
    "                      min_child_weight=3,\n",
    "                      subsample = 0.8,\n",
    "                      colsample_bytree = 0.8,\n",
    "                      gamma = 0\n",
    "                     )\n",
    "model.fit(X_train, y_train)\n",
    "\n",
    "y_pred = model.predict(X_test)\n",
    "predictions = [round(value) for value in y_pred]\n",
    "\n",
    "print(\"--- Model trained. Training time: %s seconds ---\" % (time.time() - start_time))\n",
    "\n",
    "accuracy = accuracy_score(y_test, predictions)\n",
    "print(\"Accuracy: %.2f%%\" % (accuracy * 100.0))\n",
    "\n",
    "joblib.dump(model, \"../Models/delta_decr.joblib.dat\")"
   ]
  },
  {
   "cell_type": "markdown",
   "metadata": {
    "heading_collapsed": true,
    "hidden": true
   },
   "source": [
    "## entropy"
   ]
  },
  {
   "cell_type": "code",
   "execution_count": 97,
   "metadata": {
    "ExecuteTime": {
     "end_time": "2021-04-20T12:49:24.297323Z",
     "start_time": "2021-04-20T12:32:50.802999Z"
    },
    "hidden": true
   },
   "outputs": [
    {
     "name": "stdout",
     "output_type": "stream",
     "text": [
      "--- Model trained. Training time: 993.0470590591431 seconds ---\n",
      "Accuracy: 59.98%\n"
     ]
    },
    {
     "data": {
      "text/plain": [
       "['../Models/delta_entropy.joblib.dat']"
      ]
     },
     "execution_count": 97,
     "metadata": {},
     "output_type": "execute_result"
    }
   ],
   "source": [
    "X = joblib.load('../feats/spectral_feats/joblib/X_dentro.joblib')\n",
    "y = joblib.load('../feats/spectral_feats/joblib/y_delta.joblib')\n",
    "\n",
    "X_train, X_test, y_train, y_test = train_test_split(X, y, test_size=0.33, random_state=42)\n",
    "\n",
    "start_time = time.time()\n",
    "\n",
    "model = XGBClassifier(learning_rate = 0.1,\n",
    "                      n_estimators = 1000,\n",
    "                      max_depth = 8,\n",
    "                      min_child_weight=3,\n",
    "                      subsample = 0.8,\n",
    "                      colsample_bytree = 0.8,\n",
    "                      gamma = 0\n",
    "                     )\n",
    "model.fit(X_train, y_train)\n",
    "\n",
    "y_pred = model.predict(X_test)\n",
    "predictions = [round(value) for value in y_pred]\n",
    "\n",
    "print(\"--- Model trained. Training time: %s seconds ---\" % (time.time() - start_time))\n",
    "\n",
    "accuracy = accuracy_score(y_test, predictions)\n",
    "print(\"Accuracy: %.2f%%\" % (accuracy * 100.0))\n",
    "\n",
    "joblib.dump(model, \"../Models/delta_entropy.joblib.dat\")"
   ]
  },
  {
   "cell_type": "markdown",
   "metadata": {
    "heading_collapsed": true,
    "hidden": true
   },
   "source": [
    "## flatness"
   ]
  },
  {
   "cell_type": "code",
   "execution_count": 98,
   "metadata": {
    "ExecuteTime": {
     "end_time": "2021-04-20T13:06:00.056569Z",
     "start_time": "2021-04-20T12:49:24.303730Z"
    },
    "hidden": true
   },
   "outputs": [
    {
     "name": "stdout",
     "output_type": "stream",
     "text": [
      "--- Model trained. Training time: 995.2992265224457 seconds ---\n",
      "Accuracy: 61.48%\n"
     ]
    },
    {
     "data": {
      "text/plain": [
       "['../Models/delta_flatness.joblib.dat']"
      ]
     },
     "execution_count": 98,
     "metadata": {},
     "output_type": "execute_result"
    }
   ],
   "source": [
    "X = joblib.load('../feats/spectral_feats/joblib/X_dsf.joblib')\n",
    "y = joblib.load('../feats/spectral_feats/joblib/y_delta.joblib')\n",
    "\n",
    "X_train, X_test, y_train, y_test = train_test_split(X, y, test_size=0.33, random_state=42)\n",
    "\n",
    "start_time = time.time()\n",
    "\n",
    "model = XGBClassifier(learning_rate = 0.1,\n",
    "                      n_estimators = 1000,\n",
    "                      max_depth = 8,\n",
    "                      min_child_weight=3,\n",
    "                      subsample = 0.8,\n",
    "                      colsample_bytree = 0.8,\n",
    "                      gamma = 0\n",
    "                     )\n",
    "model.fit(X_train, y_train)\n",
    "\n",
    "y_pred = model.predict(X_test)\n",
    "predictions = [round(value) for value in y_pred]\n",
    "\n",
    "print(\"--- Model trained. Training time: %s seconds ---\" % (time.time() - start_time))\n",
    "\n",
    "accuracy = accuracy_score(y_test, predictions)\n",
    "print(\"Accuracy: %.2f%%\" % (accuracy * 100.0))\n",
    "\n",
    "joblib.dump(model, \"../Models/delta_flatness.joblib.dat\")"
   ]
  },
  {
   "cell_type": "markdown",
   "metadata": {
    "ExecuteTime": {
     "end_time": "2021-04-16T11:16:24.597325Z",
     "start_time": "2021-04-16T11:11:24.818Z"
    },
    "heading_collapsed": true,
    "hidden": true
   },
   "source": [
    "## flux"
   ]
  },
  {
   "cell_type": "code",
   "execution_count": 80,
   "metadata": {
    "ExecuteTime": {
     "end_time": "2021-04-16T11:50:50.455910Z",
     "start_time": "2021-04-16T11:35:07.091358Z"
    },
    "hidden": true
   },
   "outputs": [
    {
     "name": "stdout",
     "output_type": "stream",
     "text": [
      "--- Model trained. Training time: 943.1760993003845 seconds ---\n",
      "Accuracy: 68.80%\n"
     ]
    },
    {
     "data": {
      "text/plain": [
       "['../Models/delta_flux.joblib.dat']"
      ]
     },
     "execution_count": 80,
     "metadata": {},
     "output_type": "execute_result"
    }
   ],
   "source": [
    "X = joblib.load('../feats/spectral_feats/joblib/X_dflux.joblib')\n",
    "y = joblib.load('../feats/spectral_feats/joblib/y_delta.joblib')\n",
    "\n",
    "X_train, X_test, y_train, y_test = train_test_split(X, y, test_size=0.33, random_state=42)\n",
    "\n",
    "start_time = time.time()\n",
    "\n",
    "model = XGBClassifier(learning_rate = 0.1,\n",
    "                      n_estimators = 1000,\n",
    "                      max_depth = 8,\n",
    "                      min_child_weight=3,\n",
    "                      subsample = 0.8,\n",
    "                      colsample_bytree = 0.8,\n",
    "                      gamma = 0\n",
    "                     )\n",
    "model.fit(X_train, y_train)\n",
    "\n",
    "y_pred = model.predict(X_test)\n",
    "predictions = [round(value) for value in y_pred]\n",
    "\n",
    "print(\"--- Model trained. Training time: %s seconds ---\" % (time.time() - start_time))\n",
    "\n",
    "accuracy = accuracy_score(y_test, predictions)\n",
    "print(\"Accuracy: %.2f%%\" % (accuracy * 100.0))\n",
    "\n",
    "joblib.dump(model, \"../Models/delta_flux.joblib.dat\")"
   ]
  },
  {
   "cell_type": "markdown",
   "metadata": {
    "heading_collapsed": true,
    "hidden": true
   },
   "source": [
    "## kurtosis"
   ]
  },
  {
   "cell_type": "code",
   "execution_count": 99,
   "metadata": {
    "ExecuteTime": {
     "end_time": "2021-04-20T13:22:42.675651Z",
     "start_time": "2021-04-20T13:06:00.062588Z"
    },
    "hidden": true
   },
   "outputs": [
    {
     "name": "stdout",
     "output_type": "stream",
     "text": [
      "--- Model trained. Training time: 1002.2037246227264 seconds ---\n",
      "Accuracy: 60.27%\n"
     ]
    },
    {
     "data": {
      "text/plain": [
       "['../Models/delta_kurtosis.joblib.dat']"
      ]
     },
     "execution_count": 99,
     "metadata": {},
     "output_type": "execute_result"
    }
   ],
   "source": [
    "X = joblib.load('../feats/spectral_feats/joblib/X_dkurt.joblib')\n",
    "y = joblib.load('../feats/spectral_feats/joblib/y_delta.joblib')\n",
    "\n",
    "X_train, X_test, y_train, y_test = train_test_split(X, y, test_size=0.33, random_state=42)\n",
    "\n",
    "start_time = time.time()\n",
    "\n",
    "model = XGBClassifier(learning_rate = 0.1,\n",
    "                      n_estimators = 1000,\n",
    "                      max_depth = 8,\n",
    "                      min_child_weight=3,\n",
    "                      subsample = 0.8,\n",
    "                      colsample_bytree = 0.8,\n",
    "                      gamma = 0\n",
    "                     )\n",
    "model.fit(X_train, y_train)\n",
    "\n",
    "y_pred = model.predict(X_test)\n",
    "predictions = [round(value) for value in y_pred]\n",
    "\n",
    "print(\"--- Model trained. Training time: %s seconds ---\" % (time.time() - start_time))\n",
    "\n",
    "accuracy = accuracy_score(y_test, predictions)\n",
    "print(\"Accuracy: %.2f%%\" % (accuracy * 100.0))\n",
    "\n",
    "joblib.dump(model, \"../Models/delta_kurtosis.joblib.dat\")"
   ]
  },
  {
   "cell_type": "markdown",
   "metadata": {
    "ExecuteTime": {
     "end_time": "2021-04-16T11:16:24.599624Z",
     "start_time": "2021-04-16T11:12:42.484Z"
    },
    "heading_collapsed": true,
    "hidden": true
   },
   "source": [
    "## roll of point"
   ]
  },
  {
   "cell_type": "code",
   "execution_count": 100,
   "metadata": {
    "ExecuteTime": {
     "end_time": "2021-04-20T13:39:09.747675Z",
     "start_time": "2021-04-20T13:22:42.689918Z"
    },
    "hidden": true
   },
   "outputs": [
    {
     "name": "stdout",
     "output_type": "stream",
     "text": [
      "--- Model trained. Training time: 986.5892660617828 seconds ---\n",
      "Accuracy: 61.13%\n"
     ]
    },
    {
     "data": {
      "text/plain": [
       "['../Models/delta_rop.joblib.dat']"
      ]
     },
     "execution_count": 100,
     "metadata": {},
     "output_type": "execute_result"
    }
   ],
   "source": [
    "X = joblib.load('../feats/spectral_feats/joblib/X_drop.joblib')\n",
    "y = joblib.load('../feats/spectral_feats/joblib/y_delta.joblib')\n",
    "\n",
    "X_train, X_test, y_train, y_test = train_test_split(X, y, test_size=0.33, random_state=42)\n",
    "\n",
    "start_time = time.time()\n",
    "\n",
    "model = XGBClassifier(learning_rate = 0.1,\n",
    "                      n_estimators = 1000,\n",
    "                      max_depth = 8,\n",
    "                      min_child_weight=3,\n",
    "                      subsample = 0.8,\n",
    "                      colsample_bytree = 0.8,\n",
    "                      gamma = 0\n",
    "                     )\n",
    "model.fit(X_train, y_train)\n",
    "\n",
    "y_pred = model.predict(X_test)\n",
    "predictions = [round(value) for value in y_pred]\n",
    "\n",
    "print(\"--- Model trained. Training time: %s seconds ---\" % (time.time() - start_time))\n",
    "\n",
    "accuracy = accuracy_score(y_test, predictions)\n",
    "print(\"Accuracy: %.2f%%\" % (accuracy * 100.0))\n",
    "\n",
    "joblib.dump(model, \"../Models/delta_rop.joblib.dat\")"
   ]
  },
  {
   "cell_type": "markdown",
   "metadata": {
    "heading_collapsed": true,
    "hidden": true
   },
   "source": [
    "## skewness"
   ]
  },
  {
   "cell_type": "code",
   "execution_count": 101,
   "metadata": {
    "ExecuteTime": {
     "end_time": "2021-04-20T13:56:05.242951Z",
     "start_time": "2021-04-20T13:39:09.767883Z"
    },
    "hidden": true
   },
   "outputs": [
    {
     "name": "stdout",
     "output_type": "stream",
     "text": [
      "--- Model trained. Training time: 1015.0766518115997 seconds ---\n",
      "Accuracy: 59.57%\n"
     ]
    },
    {
     "data": {
      "text/plain": [
       "['../Models/delta_skewness.joblib.dat']"
      ]
     },
     "execution_count": 101,
     "metadata": {},
     "output_type": "execute_result"
    }
   ],
   "source": [
    "X = joblib.load('../feats/spectral_feats/joblib/X_dskwnss.joblib')\n",
    "y = joblib.load('../feats/spectral_feats/joblib/y_delta.joblib')\n",
    "\n",
    "X_train, X_test, y_train, y_test = train_test_split(X, y, test_size=0.33, random_state=42)\n",
    "\n",
    "start_time = time.time()\n",
    "\n",
    "model = XGBClassifier(learning_rate = 0.1,\n",
    "                      n_estimators = 1000,\n",
    "                      max_depth = 8,\n",
    "                      min_child_weight=3,\n",
    "                      subsample = 0.8,\n",
    "                      colsample_bytree = 0.8,\n",
    "                      gamma = 0\n",
    "                     )\n",
    "model.fit(X_train, y_train)\n",
    "\n",
    "y_pred = model.predict(X_test)\n",
    "predictions = [round(value) for value in y_pred]\n",
    "\n",
    "print(\"--- Model trained. Training time: %s seconds ---\" % (time.time() - start_time))\n",
    "\n",
    "accuracy = accuracy_score(y_test, predictions)\n",
    "print(\"Accuracy: %.2f%%\" % (accuracy * 100.0))\n",
    "\n",
    "joblib.dump(model, \"../Models/delta_skewness.joblib.dat\")"
   ]
  },
  {
   "cell_type": "markdown",
   "metadata": {
    "heading_collapsed": true,
    "hidden": true
   },
   "source": [
    "## slope"
   ]
  },
  {
   "cell_type": "code",
   "execution_count": 102,
   "metadata": {
    "ExecuteTime": {
     "end_time": "2021-04-20T14:11:46.439244Z",
     "start_time": "2021-04-20T13:56:05.248195Z"
    },
    "hidden": true
   },
   "outputs": [
    {
     "name": "stdout",
     "output_type": "stream",
     "text": [
      "--- Model trained. Training time: 940.7545909881592 seconds ---\n",
      "Accuracy: 67.94%\n"
     ]
    },
    {
     "data": {
      "text/plain": [
       "['../Models/delta_slope.joblib.dat']"
      ]
     },
     "execution_count": 102,
     "metadata": {},
     "output_type": "execute_result"
    }
   ],
   "source": [
    "X = joblib.load('../feats/spectral_feats/joblib/X_dslope.joblib')\n",
    "y = joblib.load('../feats/spectral_feats/joblib/y_delta.joblib')\n",
    "\n",
    "X_train, X_test, y_train, y_test = train_test_split(X, y, test_size=0.33, random_state=42)\n",
    "\n",
    "start_time = time.time()\n",
    "\n",
    "model = XGBClassifier(learning_rate = 0.1,\n",
    "                      n_estimators = 1000,\n",
    "                      max_depth = 8,\n",
    "                      min_child_weight=3,\n",
    "                      subsample = 0.8,\n",
    "                      colsample_bytree = 0.8,\n",
    "                      gamma = 0\n",
    "                     )\n",
    "model.fit(X_train, y_train)\n",
    "\n",
    "y_pred = model.predict(X_test)\n",
    "predictions = [round(value) for value in y_pred]\n",
    "\n",
    "print(\"--- Model trained. Training time: %s seconds ---\" % (time.time() - start_time))\n",
    "\n",
    "accuracy = accuracy_score(y_test, predictions)\n",
    "print(\"Accuracy: %.2f%%\" % (accuracy * 100.0))\n",
    "\n",
    "joblib.dump(model, \"../Models/delta_slope.joblib.dat\")"
   ]
  },
  {
   "cell_type": "markdown",
   "metadata": {
    "heading_collapsed": true,
    "hidden": true
   },
   "source": [
    "## spread"
   ]
  },
  {
   "cell_type": "code",
   "execution_count": 103,
   "metadata": {
    "ExecuteTime": {
     "end_time": "2021-04-20T14:28:24.349368Z",
     "start_time": "2021-04-20T14:11:46.445847Z"
    },
    "hidden": true
   },
   "outputs": [
    {
     "name": "stdout",
     "output_type": "stream",
     "text": [
      "--- Model trained. Training time: 997.5590012073517 seconds ---\n",
      "Accuracy: 59.69%\n"
     ]
    },
    {
     "data": {
      "text/plain": [
       "['../Models/delta_spread.joblib.dat']"
      ]
     },
     "execution_count": 103,
     "metadata": {},
     "output_type": "execute_result"
    }
   ],
   "source": [
    "X = joblib.load('../feats/spectral_feats/joblib/X_dspread.joblib')\n",
    "y = joblib.load('../feats/spectral_feats/joblib/y_delta.joblib')\n",
    "\n",
    "X_train, X_test, y_train, y_test = train_test_split(X, y, test_size=0.33, random_state=42)\n",
    "\n",
    "start_time = time.time()\n",
    "\n",
    "model = XGBClassifier(learning_rate = 0.1,\n",
    "                      n_estimators = 1000,\n",
    "                      max_depth = 8,\n",
    "                      min_child_weight=3,\n",
    "                      subsample = 0.8,\n",
    "                      colsample_bytree = 0.8,\n",
    "                      gamma = 0\n",
    "                     )\n",
    "model.fit(X_train, y_train)\n",
    "\n",
    "y_pred = model.predict(X_test)\n",
    "predictions = [round(value) for value in y_pred]\n",
    "\n",
    "print(\"--- Model trained. Training time: %s seconds ---\" % (time.time() - start_time))\n",
    "\n",
    "accuracy = accuracy_score(y_test, predictions)\n",
    "print(\"Accuracy: %.2f%%\" % (accuracy * 100.0))\n",
    "\n",
    "joblib.dump(model, \"../Models/delta_spread.joblib.dat\")"
   ]
  },
  {
   "cell_type": "markdown",
   "metadata": {
    "heading_collapsed": true
   },
   "source": [
    "# VGGish on tuned XGBoost major dataset"
   ]
  },
  {
   "cell_type": "markdown",
   "metadata": {
    "ExecuteTime": {
     "end_time": "2021-04-20T11:05:32.513912Z",
     "start_time": "2021-04-20T11:05:32.397780Z"
    },
    "heading_collapsed": true,
    "hidden": true
   },
   "source": [
    "## after padding"
   ]
  },
  {
   "cell_type": "code",
   "execution_count": 83,
   "metadata": {
    "ExecuteTime": {
     "end_time": "2021-04-20T10:15:17.707955Z",
     "start_time": "2021-04-20T09:38:01.923870Z"
    },
    "hidden": true
   },
   "outputs": [
    {
     "name": "stdout",
     "output_type": "stream",
     "text": [
      "--- Model trained. Training time: 2223.526708841324 seconds ---\n",
      "Accuracy: 74.91%\n"
     ]
    }
   ],
   "source": [
    "X = joblib.load('../feats/vggish_feats/X_vggish.joblib')\n",
    "y = joblib.load('../feats/vggish_feats/y_vggish.joblib')\n",
    "\n",
    "X_train, X_test, y_train, y_test = train_test_split(X, y, test_size=0.33, random_state=42)\n",
    "\n",
    "start_time = time.time()\n",
    "\n",
    "model = XGBClassifier(learning_rate = 0.1,\n",
    "                      n_estimators = 1000,\n",
    "                      max_depth = 8,\n",
    "                      min_child_weight=3,\n",
    "                      subsample = 0.8,\n",
    "                      colsample_bytree = 0.8,\n",
    "                      gamma = 0\n",
    "                     )\n",
    "model.fit(X_train, y_train)\n",
    "\n",
    "y_pred = model.predict(X_test)\n",
    "predictions = [round(value) for value in y_pred]\n",
    "\n",
    "print(\"--- Model trained. Training time: %s seconds ---\" % (time.time() - start_time))\n",
    "\n",
    "accuracy = accuracy_score(y_test, predictions)\n",
    "print(\"Accuracy: %.2f%%\" % (accuracy * 100.0))"
   ]
  },
  {
   "cell_type": "markdown",
   "metadata": {
    "heading_collapsed": true,
    "hidden": true
   },
   "source": [
    "## before padding"
   ]
  },
  {
   "cell_type": "code",
   "execution_count": 95,
   "metadata": {
    "ExecuteTime": {
     "end_time": "2021-04-20T12:01:14.068090Z",
     "start_time": "2021-04-20T11:42:52.525569Z"
    },
    "hidden": true
   },
   "outputs": [
    {
     "name": "stdout",
     "output_type": "stream",
     "text": [
      "--- Model trained. Training time: 1101.0008568763733 seconds ---\n",
      "Accuracy: 97.46%\n"
     ]
    }
   ],
   "source": [
    "X = joblib.load('../feats/vggish_feats/X_vggish_padded.joblib')\n",
    "y = joblib.load('../feats/vggish_feats/y_vggish.joblib')\n",
    "\n",
    "X_train, X_test, y_train, y_test = train_test_split(X, y, test_size=0.33, random_state=42)\n",
    "\n",
    "start_time = time.time()\n",
    "\n",
    "model = XGBClassifier(learning_rate = 0.1,\n",
    "                      n_estimators = 1000,\n",
    "                      max_depth = 8,\n",
    "                      min_child_weight=3,\n",
    "                      subsample = 0.8,\n",
    "                      colsample_bytree = 0.8,\n",
    "                      gamma = 0\n",
    "                     )\n",
    "model.fit(X_train, y_train)\n",
    "\n",
    "y_pred = model.predict(X_test)\n",
    "predictions = [round(value) for value in y_pred]\n",
    "\n",
    "print(\"--- Model trained. Training time: %s seconds ---\" % (time.time() - start_time))\n",
    "\n",
    "accuracy = accuracy_score(y_test, predictions)\n",
    "print(\"Accuracy: %.2f%%\" % (accuracy * 100.0))"
   ]
  },
  {
   "cell_type": "code",
   "execution_count": 88,
   "metadata": {
    "ExecuteTime": {
     "end_time": "2021-04-20T11:38:12.070327Z",
     "start_time": "2021-04-20T11:38:12.013480Z"
    },
    "hidden": true
   },
   "outputs": [
    {
     "data": {
      "text/plain": [
       "['../Models/VGGish.joblib.dat']"
      ]
     },
     "execution_count": 88,
     "metadata": {},
     "output_type": "execute_result"
    }
   ],
   "source": [
    "joblib.dump(model, \"../Models/VGGish.joblib.dat\")"
   ]
  },
  {
   "cell_type": "code",
   "execution_count": 92,
   "metadata": {
    "ExecuteTime": {
     "end_time": "2021-04-20T11:39:28.412534Z",
     "start_time": "2021-04-20T11:39:27.941015Z"
    },
    "hidden": true
   },
   "outputs": [],
   "source": [
    "model_vgg = joblib.load(\"../Models/VGGish.joblib.dat\")"
   ]
  },
  {
   "cell_type": "code",
   "execution_count": 93,
   "metadata": {
    "ExecuteTime": {
     "end_time": "2021-04-20T11:39:48.455839Z",
     "start_time": "2021-04-20T11:39:47.902278Z"
    },
    "hidden": true
   },
   "outputs": [],
   "source": [
    "X = joblib.load('../feats/vggish_feats/X_vggish_padded.joblib')\n",
    "y = joblib.load('../feats/vggish_feats/y_vggish.joblib')\n",
    "\n",
    "X_train, X_test, y_train, y_test = train_test_split(X, y, test_size=0.33, random_state=42)"
   ]
  },
  {
   "cell_type": "code",
   "execution_count": 94,
   "metadata": {
    "ExecuteTime": {
     "end_time": "2021-04-20T11:40:18.931050Z",
     "start_time": "2021-04-20T11:40:17.999459Z"
    },
    "hidden": true
   },
   "outputs": [
    {
     "name": "stdout",
     "output_type": "stream",
     "text": [
      "Accuracy: 97.46%\n"
     ]
    }
   ],
   "source": [
    "y_pred = model_vgg.predict(X_test)\n",
    "predictions = [round(value) for value in y_pred]\n",
    "\n",
    "accuracy = accuracy_score(y_test, predictions)\n",
    "print(\"Accuracy: %.2f%%\" % (accuracy * 100.0))"
   ]
  },
  {
   "cell_type": "markdown",
   "metadata": {},
   "source": [
    "# Padded MFCC 1D on tuned XGBoost major dataset"
   ]
  },
  {
   "cell_type": "code",
   "execution_count": 3,
   "metadata": {
    "ExecuteTime": {
     "end_time": "2021-04-23T15:50:48.621568Z",
     "start_time": "2021-04-23T15:49:24.090688Z"
    }
   },
   "outputs": [
    {
     "name": "stdout",
     "output_type": "stream",
     "text": [
      "--- Model trained. Training time: 84.43075037002563 seconds ---\n",
      "Accuracy: 86.68%\n"
     ]
    },
    {
     "data": {
      "text/plain": [
       "['../Models/pad_mfcc_1d.joblib.dat']"
      ]
     },
     "execution_count": 3,
     "metadata": {},
     "output_type": "execute_result"
    }
   ],
   "source": [
    "X = joblib.load('../feats/padded_mfcc/X1D.joblib')\n",
    "y = joblib.load('../feats/padded_mfcc/y.joblib')\n",
    "\n",
    "X_train, X_test, y_train, y_test = train_test_split(X, y, test_size=0.33, random_state=42)\n",
    "\n",
    "start_time = time.time()\n",
    "\n",
    "model = XGBClassifier(learning_rate = 0.1,\n",
    "                      n_estimators = 1000,\n",
    "                      max_depth = 8,\n",
    "                      min_child_weight=3,\n",
    "                      subsample = 0.8,\n",
    "                      colsample_bytree = 0.8,\n",
    "                      gamma = 0\n",
    "                     )\n",
    "model.fit(X_train, y_train)\n",
    "\n",
    "y_pred = model.predict(X_test)\n",
    "predictions = [round(value) for value in y_pred]\n",
    "\n",
    "print(\"--- Model trained. Training time: %s seconds ---\" % (time.time() - start_time))\n",
    "\n",
    "accuracy = accuracy_score(y_test, predictions)\n",
    "print(\"Accuracy: %.2f%%\" % (accuracy * 100.0))\n",
    "\n",
    "joblib.dump(model, \"../Models/pad_mfcc_1d.joblib.dat\")"
   ]
  },
  {
   "cell_type": "markdown",
   "metadata": {
    "heading_collapsed": true
   },
   "source": [
    "# Padded MFCC 2D on tuned XGBoost major dataset"
   ]
  },
  {
   "cell_type": "code",
   "execution_count": 4,
   "metadata": {
    "ExecuteTime": {
     "end_time": "2021-04-23T15:51:12.670487Z",
     "start_time": "2021-04-23T15:51:04.370696Z"
    },
    "hidden": true
   },
   "outputs": [
    {
     "ename": "ValueError",
     "evalue": "Input numpy.ndarray must be 2 dimensional",
     "output_type": "error",
     "traceback": [
      "\u001b[0;31m---------------------------------------------------------------------------\u001b[0m",
      "\u001b[0;31mValueError\u001b[0m                                Traceback (most recent call last)",
      "\u001b[0;32m<ipython-input-4-50c2d17f1f9a>\u001b[0m in \u001b[0;36m<module>\u001b[0;34m\u001b[0m\n\u001b[1;32m     14\u001b[0m                       \u001b[0mgamma\u001b[0m \u001b[0;34m=\u001b[0m \u001b[0;36m0\u001b[0m\u001b[0;34m\u001b[0m\u001b[0;34m\u001b[0m\u001b[0m\n\u001b[1;32m     15\u001b[0m                      )\n\u001b[0;32m---> 16\u001b[0;31m \u001b[0mmodel\u001b[0m\u001b[0;34m.\u001b[0m\u001b[0mfit\u001b[0m\u001b[0;34m(\u001b[0m\u001b[0mX_train\u001b[0m\u001b[0;34m,\u001b[0m \u001b[0my_train\u001b[0m\u001b[0;34m)\u001b[0m\u001b[0;34m\u001b[0m\u001b[0;34m\u001b[0m\u001b[0m\n\u001b[0m\u001b[1;32m     17\u001b[0m \u001b[0;34m\u001b[0m\u001b[0m\n\u001b[1;32m     18\u001b[0m \u001b[0my_pred\u001b[0m \u001b[0;34m=\u001b[0m \u001b[0mmodel\u001b[0m\u001b[0;34m.\u001b[0m\u001b[0mpredict\u001b[0m\u001b[0;34m(\u001b[0m\u001b[0mX_test\u001b[0m\u001b[0;34m)\u001b[0m\u001b[0;34m\u001b[0m\u001b[0;34m\u001b[0m\u001b[0m\n",
      "\u001b[0;32m/opt/conda/lib/python3.7/site-packages/xgboost/sklearn.py\u001b[0m in \u001b[0;36mfit\u001b[0;34m(self, X, y, sample_weight, eval_set, eval_metric, early_stopping_rounds, verbose, xgb_model, sample_weight_eval_set, callbacks)\u001b[0m\n\u001b[1;32m    724\u001b[0m         \u001b[0;32melse\u001b[0m\u001b[0;34m:\u001b[0m\u001b[0;34m\u001b[0m\u001b[0;34m\u001b[0m\u001b[0m\n\u001b[1;32m    725\u001b[0m             train_dmatrix = DMatrix(X, label=training_labels,\n\u001b[0;32m--> 726\u001b[0;31m                                     missing=self.missing, nthread=self.n_jobs)\n\u001b[0m\u001b[1;32m    727\u001b[0m \u001b[0;34m\u001b[0m\u001b[0m\n\u001b[1;32m    728\u001b[0m         self._Booster = train(xgb_options, train_dmatrix, self.get_num_boosting_rounds(),\n",
      "\u001b[0;32m/opt/conda/lib/python3.7/site-packages/xgboost/core.py\u001b[0m in \u001b[0;36m__init__\u001b[0;34m(self, data, label, missing, weight, silent, feature_names, feature_types, nthread)\u001b[0m\n\u001b[1;32m    402\u001b[0m             \u001b[0mself\u001b[0m\u001b[0;34m.\u001b[0m\u001b[0m_init_from_csc\u001b[0m\u001b[0;34m(\u001b[0m\u001b[0mdata\u001b[0m\u001b[0;34m)\u001b[0m\u001b[0;34m\u001b[0m\u001b[0;34m\u001b[0m\u001b[0m\n\u001b[1;32m    403\u001b[0m         \u001b[0;32melif\u001b[0m \u001b[0misinstance\u001b[0m\u001b[0;34m(\u001b[0m\u001b[0mdata\u001b[0m\u001b[0;34m,\u001b[0m \u001b[0mnp\u001b[0m\u001b[0;34m.\u001b[0m\u001b[0mndarray\u001b[0m\u001b[0;34m)\u001b[0m\u001b[0;34m:\u001b[0m\u001b[0;34m\u001b[0m\u001b[0;34m\u001b[0m\u001b[0m\n\u001b[0;32m--> 404\u001b[0;31m             \u001b[0mself\u001b[0m\u001b[0;34m.\u001b[0m\u001b[0m_init_from_npy2d\u001b[0m\u001b[0;34m(\u001b[0m\u001b[0mdata\u001b[0m\u001b[0;34m,\u001b[0m \u001b[0mmissing\u001b[0m\u001b[0;34m,\u001b[0m \u001b[0mnthread\u001b[0m\u001b[0;34m)\u001b[0m\u001b[0;34m\u001b[0m\u001b[0;34m\u001b[0m\u001b[0m\n\u001b[0m\u001b[1;32m    405\u001b[0m         \u001b[0;32melif\u001b[0m \u001b[0misinstance\u001b[0m\u001b[0;34m(\u001b[0m\u001b[0mdata\u001b[0m\u001b[0;34m,\u001b[0m \u001b[0mDataTable\u001b[0m\u001b[0;34m)\u001b[0m\u001b[0;34m:\u001b[0m\u001b[0;34m\u001b[0m\u001b[0;34m\u001b[0m\u001b[0m\n\u001b[1;32m    406\u001b[0m             \u001b[0mself\u001b[0m\u001b[0;34m.\u001b[0m\u001b[0m_init_from_dt\u001b[0m\u001b[0;34m(\u001b[0m\u001b[0mdata\u001b[0m\u001b[0;34m,\u001b[0m \u001b[0mnthread\u001b[0m\u001b[0;34m)\u001b[0m\u001b[0;34m\u001b[0m\u001b[0;34m\u001b[0m\u001b[0m\n",
      "\u001b[0;32m/opt/conda/lib/python3.7/site-packages/xgboost/core.py\u001b[0m in \u001b[0;36m_init_from_npy2d\u001b[0;34m(self, mat, missing, nthread)\u001b[0m\n\u001b[1;32m    472\u001b[0m         \"\"\"\n\u001b[1;32m    473\u001b[0m         \u001b[0;32mif\u001b[0m \u001b[0mlen\u001b[0m\u001b[0;34m(\u001b[0m\u001b[0mmat\u001b[0m\u001b[0;34m.\u001b[0m\u001b[0mshape\u001b[0m\u001b[0;34m)\u001b[0m \u001b[0;34m!=\u001b[0m \u001b[0;36m2\u001b[0m\u001b[0;34m:\u001b[0m\u001b[0;34m\u001b[0m\u001b[0;34m\u001b[0m\u001b[0m\n\u001b[0;32m--> 474\u001b[0;31m             \u001b[0;32mraise\u001b[0m \u001b[0mValueError\u001b[0m\u001b[0;34m(\u001b[0m\u001b[0;34m'Input numpy.ndarray must be 2 dimensional'\u001b[0m\u001b[0;34m)\u001b[0m\u001b[0;34m\u001b[0m\u001b[0;34m\u001b[0m\u001b[0m\n\u001b[0m\u001b[1;32m    475\u001b[0m         \u001b[0;31m# flatten the array by rows and ensure it is float32.\u001b[0m\u001b[0;34m\u001b[0m\u001b[0;34m\u001b[0m\u001b[0;34m\u001b[0m\u001b[0m\n\u001b[1;32m    476\u001b[0m         \u001b[0;31m# we try to avoid data copies if possible (reshape returns a view when possible\u001b[0m\u001b[0;34m\u001b[0m\u001b[0;34m\u001b[0m\u001b[0;34m\u001b[0m\u001b[0m\n",
      "\u001b[0;31mValueError\u001b[0m: Input numpy.ndarray must be 2 dimensional"
     ]
    }
   ],
   "source": [
    "X = joblib.load('../feats/padded_mfcc/X2D.joblib')\n",
    "y = joblib.load('../feats/padded_mfcc/y.joblib')\n",
    "\n",
    "X_train, X_test, y_train, y_test = train_test_split(X, y, test_size=0.33, random_state=42)\n",
    "\n",
    "start_time = time.time()\n",
    "\n",
    "model = XGBClassifier(learning_rate = 0.1,\n",
    "                      n_estimators = 1000,\n",
    "                      max_depth = 8,\n",
    "                      min_child_weight=3,\n",
    "                      subsample = 0.8,\n",
    "                      colsample_bytree = 0.8,\n",
    "                      gamma = 0\n",
    "                     )\n",
    "model.fit(X_train, y_train)\n",
    "\n",
    "y_pred = model.predict(X_test)\n",
    "predictions = [round(value) for value in y_pred]\n",
    "\n",
    "print(\"--- Model trained. Training time: %s seconds ---\" % (time.time() - start_time))\n",
    "\n",
    "accuracy = accuracy_score(y_test, predictions)\n",
    "print(\"Accuracy: %.2f%%\" % (accuracy * 100.0))\n",
    "joblib.dump(model, \"../Models/pad_mfcc_2d.joblib.dat\")"
   ]
  },
  {
   "cell_type": "markdown",
   "metadata": {
    "ExecuteTime": {
     "end_time": "2021-04-25T12:45:18.779456Z",
     "start_time": "2021-04-25T12:45:18.770606Z"
    }
   },
   "source": [
    "# Padded MFCC 1D on tuned XGBoost major dataset"
   ]
  },
  {
   "cell_type": "code",
   "execution_count": 6,
   "metadata": {
    "ExecuteTime": {
     "end_time": "2021-04-25T12:47:37.009371Z",
     "start_time": "2021-04-25T12:46:10.325519Z"
    }
   },
   "outputs": [
    {
     "name": "stdout",
     "output_type": "stream",
     "text": [
      "--- Model trained. Training time: 86.58693981170654 seconds ---\n",
      "Accuracy: 86.22%\n"
     ]
    },
    {
     "data": {
      "text/plain": [
       "['../Models/pad_mfcc_1d.joblib.dat']"
      ]
     },
     "execution_count": 6,
     "metadata": {},
     "output_type": "execute_result"
    }
   ],
   "source": [
    "X = joblib.load('../feats/padded_mfcc/X1D_Wiktor_norm.joblib')\n",
    "y = joblib.load('../feats/padded_mfcc/y_Wiktor_norm.joblib')\n",
    "\n",
    "X_train, X_test, y_train, y_test = train_test_split(X, y, test_size=0.33, random_state=42)\n",
    "\n",
    "start_time = time.time()\n",
    "\n",
    "model = XGBClassifier(learning_rate = 0.1,\n",
    "                      n_estimators = 1000,\n",
    "                      max_depth = 8,\n",
    "                      min_child_weight=3,\n",
    "                      subsample = 0.8,\n",
    "                      colsample_bytree = 0.8,\n",
    "                      gamma = 0\n",
    "                     )\n",
    "model.fit(X_train, y_train)\n",
    "\n",
    "y_pred = model.predict(X_test)\n",
    "predictions = [round(value) for value in y_pred]\n",
    "\n",
    "print(\"--- Model trained. Training time: %s seconds ---\" % (time.time() - start_time))\n",
    "\n",
    "accuracy = accuracy_score(y_test, predictions)\n",
    "print(\"Accuracy: %.2f%%\" % (accuracy * 100.0))\n",
    "\n",
    "joblib.dump(model, \"../Models/pad_mfcc_1d.joblib.dat\")"
   ]
  },
  {
   "cell_type": "code",
   "execution_count": null,
   "metadata": {},
   "outputs": [],
   "source": []
  }
 ],
 "metadata": {
  "kernelspec": {
   "display_name": "Python 3",
   "language": "python",
   "name": "python3"
  },
  "language_info": {
   "codemirror_mode": {
    "name": "ipython",
    "version": 3
   },
   "file_extension": ".py",
   "mimetype": "text/x-python",
   "name": "python",
   "nbconvert_exporter": "python",
   "pygments_lexer": "ipython3",
   "version": "3.7.6"
  },
  "toc": {
   "base_numbering": 1,
   "nav_menu": {},
   "number_sections": false,
   "sideBar": true,
   "skip_h1_title": false,
   "title_cell": "Table of Contents",
   "title_sidebar": "Contents",
   "toc_cell": false,
   "toc_position": {},
   "toc_section_display": true,
   "toc_window_display": false
  }
 },
 "nbformat": 4,
 "nbformat_minor": 2
}
