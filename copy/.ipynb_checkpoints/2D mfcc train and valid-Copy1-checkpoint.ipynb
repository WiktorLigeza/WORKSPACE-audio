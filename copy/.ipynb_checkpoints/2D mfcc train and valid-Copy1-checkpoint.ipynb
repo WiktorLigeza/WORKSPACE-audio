{
 "cells": [
  {
   "cell_type": "code",
   "execution_count": 12,
   "metadata": {
    "ExecuteTime": {
     "end_time": "2021-04-03T13:14:14.592473Z",
     "start_time": "2021-04-03T13:14:14.576288Z"
    }
   },
   "outputs": [],
   "source": [
    "import joblib\n",
    "import os\n",
    "from sklearn.model_selection import train_test_split\n",
    "import numpy as np\n",
    "import tensorflow.keras as keras\n",
    "import matplotlib.pyplot as plt\n",
    "import model_prep"
   ]
  },
  {
   "cell_type": "markdown",
   "metadata": {},
   "source": [
    "# Data Prep "
   ]
  },
  {
   "cell_type": "code",
   "execution_count": 2,
   "metadata": {
    "ExecuteTime": {
     "end_time": "2021-04-03T13:07:05.590581Z",
     "start_time": "2021-04-03T13:07:05.583610Z"
    }
   },
   "outputs": [],
   "source": [
    "def load_data(dir_path):\n",
    "    X_name, y_name = 'X.joblib', 'y.joblib'\n",
    "    X = joblib.load(os.path.join(dir_path, X_name))\n",
    "    y = joblib.load(os.path.join(dir_path, y_name))\n",
    "    return X, y"
   ]
  },
  {
   "cell_type": "code",
   "execution_count": 3,
   "metadata": {
    "ExecuteTime": {
     "end_time": "2021-04-03T13:07:05.637574Z",
     "start_time": "2021-04-03T13:07:05.594911Z"
    }
   },
   "outputs": [],
   "source": [
    "def prepare_datasets(test_size, DATA_PATH, model = \"CNN\"):\n",
    "    # load data\n",
    "    X, y = load_data(DATA_PATH)\n",
    "    print(X.shape)\n",
    "    print(y.shape)\n",
    "\n",
    "    # create train, validation and test split\n",
    "    X_train, X_test, y_train, y_test = train_test_split(X, y, test_size=test_size)\n",
    "\n",
    "    if model == \"CNN\":\n",
    "        # add an axis to input sets\n",
    "        X_train = X_train[..., np.newaxis]\n",
    "        X_test = X_test[..., np.newaxis]\n",
    "\n",
    "    return X_train, X_test, y_train, y_test"
   ]
  },
  {
   "cell_type": "code",
   "execution_count": 4,
   "metadata": {
    "ExecuteTime": {
     "end_time": "2021-04-03T13:07:26.404582Z",
     "start_time": "2021-04-03T13:07:07.578897Z"
    }
   },
   "outputs": [
    {
     "name": "stdout",
     "output_type": "stream",
     "text": [
      "(5250, 302, 40)\n",
      "(5250,)\n"
     ]
    }
   ],
   "source": [
    "dir_path = \"2D mfccs padding\"\n",
    "test_size = 0.3\n",
    "X_train, X_test, y_train, y_test = prepare_datasets(test_size = test_size, DATA_PATH = dir_path)"
   ]
  },
  {
   "cell_type": "markdown",
   "metadata": {},
   "source": [
    "# Train"
   ]
  },
  {
   "cell_type": "code",
   "execution_count": 10,
   "metadata": {
    "ExecuteTime": {
     "end_time": "2021-04-03T13:13:49.320682Z",
     "start_time": "2021-04-03T13:13:49.306279Z"
    }
   },
   "outputs": [
    {
     "data": {
      "text/plain": [
       "(302, 40, 1)"
      ]
     },
     "execution_count": 10,
     "metadata": {},
     "output_type": "execute_result"
    }
   ],
   "source": [
    "input_shape = (X_train.shape[1], X_train.shape[2], 1)\n",
    "input_shape"
   ]
  },
  {
   "cell_type": "code",
   "execution_count": 14,
   "metadata": {
    "ExecuteTime": {
     "end_time": "2021-04-03T13:53:11.361179Z",
     "start_time": "2021-04-03T13:15:00.111833Z"
    }
   },
   "outputs": [
    {
     "name": "stdout",
     "output_type": "stream",
     "text": [
      "Model: \"sequential_2\"\n",
      "_________________________________________________________________\n",
      "Layer (type)                 Output Shape              Param #   \n",
      "=================================================================\n",
      "conv2d_6 (Conv2D)            (None, 300, 38, 32)       320       \n",
      "_________________________________________________________________\n",
      "max_pooling2d_6 (MaxPooling2 (None, 150, 19, 32)       0         \n",
      "_________________________________________________________________\n",
      "batch_normalization_6 (Batch (None, 150, 19, 32)       128       \n",
      "_________________________________________________________________\n",
      "conv2d_7 (Conv2D)            (None, 148, 17, 32)       9248      \n",
      "_________________________________________________________________\n",
      "max_pooling2d_7 (MaxPooling2 (None, 74, 9, 32)         0         \n",
      "_________________________________________________________________\n",
      "batch_normalization_7 (Batch (None, 74, 9, 32)         128       \n",
      "_________________________________________________________________\n",
      "conv2d_8 (Conv2D)            (None, 73, 8, 32)         4128      \n",
      "_________________________________________________________________\n",
      "max_pooling2d_8 (MaxPooling2 (None, 37, 4, 32)         0         \n",
      "_________________________________________________________________\n",
      "batch_normalization_8 (Batch (None, 37, 4, 32)         128       \n",
      "_________________________________________________________________\n",
      "flatten_2 (Flatten)          (None, 4736)              0         \n",
      "_________________________________________________________________\n",
      "dense_4 (Dense)              (None, 64)                303168    \n",
      "_________________________________________________________________\n",
      "dropout_2 (Dropout)          (None, 64)                0         \n",
      "_________________________________________________________________\n",
      "dense_5 (Dense)              (None, 10)                650       \n",
      "=================================================================\n",
      "Total params: 317,898\n",
      "Trainable params: 317,706\n",
      "Non-trainable params: 192\n",
      "_________________________________________________________________\n",
      "Train on 3675 samples\n",
      "Epoch 1/30\n",
      "3675/3675 [==============================] - 73s 20ms/sample - loss: 1.2960 - accuracy: 0.5410\n",
      "Epoch 2/30\n",
      "3675/3675 [==============================] - 65s 18ms/sample - loss: 0.8351 - accuracy: 0.6887\n",
      "Epoch 3/30\n",
      "3675/3675 [==============================] - 53s 14ms/sample - loss: 0.7163 - accuracy: 0.7328\n",
      "Epoch 4/30\n",
      "3675/3675 [==============================] - 62s 17ms/sample - loss: 0.6168 - accuracy: 0.7712\n",
      "Epoch 5/30\n",
      "3675/3675 [==============================] - 78s 21ms/sample - loss: 0.5175 - accuracy: 0.8182\n",
      "Epoch 6/30\n",
      "3675/3675 [==============================] - 79s 21ms/sample - loss: 0.4541 - accuracy: 0.8288\n",
      "Epoch 7/30\n",
      "3675/3675 [==============================] - 78s 21ms/sample - loss: 0.4117 - accuracy: 0.8528\n",
      "Epoch 8/30\n",
      "3675/3675 [==============================] - 77s 21ms/sample - loss: 0.3290 - accuracy: 0.8748\n",
      "Epoch 9/30\n",
      "3675/3675 [==============================] - 77s 21ms/sample - loss: 0.3102 - accuracy: 0.8822\n",
      "Epoch 10/30\n",
      "3675/3675 [==============================] - 78s 21ms/sample - loss: 0.2481 - accuracy: 0.9080\n",
      "Epoch 11/30\n",
      "3675/3675 [==============================] - 78s 21ms/sample - loss: 0.2172 - accuracy: 0.9214\n",
      "Epoch 12/30\n",
      "3675/3675 [==============================] - 79s 22ms/sample - loss: 0.1942 - accuracy: 0.9295\n",
      "Epoch 13/30\n",
      "3675/3675 [==============================] - 78s 21ms/sample - loss: 0.1675 - accuracy: 0.9418\n",
      "Epoch 14/30\n",
      "3675/3675 [==============================] - 78s 21ms/sample - loss: 0.1480 - accuracy: 0.9459\n",
      "Epoch 15/30\n",
      "3675/3675 [==============================] - 78s 21ms/sample - loss: 0.1471 - accuracy: 0.9445\n",
      "Epoch 16/30\n",
      "3675/3675 [==============================] - 79s 22ms/sample - loss: 0.1345 - accuracy: 0.9518\n",
      "Epoch 17/30\n",
      "3675/3675 [==============================] - 79s 21ms/sample - loss: 0.1083 - accuracy: 0.9630\n",
      "Epoch 18/30\n",
      "3675/3675 [==============================] - 79s 21ms/sample - loss: 0.1044 - accuracy: 0.9597\n",
      "Epoch 19/30\n",
      "3675/3675 [==============================] - 79s 22ms/sample - loss: 0.1039 - accuracy: 0.9605\n",
      "Epoch 20/30\n",
      "3675/3675 [==============================] - 78s 21ms/sample - loss: 0.0855 - accuracy: 0.9714\n",
      "Epoch 21/30\n",
      "3675/3675 [==============================] - 79s 21ms/sample - loss: 0.0949 - accuracy: 0.9635\n",
      "Epoch 22/30\n",
      "3675/3675 [==============================] - 79s 21ms/sample - loss: 0.1158 - accuracy: 0.9573\n",
      "Epoch 23/30\n",
      "3675/3675 [==============================] - 78s 21ms/sample - loss: 0.0792 - accuracy: 0.9695\n",
      "Epoch 24/30\n",
      "3675/3675 [==============================] - 79s 21ms/sample - loss: 0.0738 - accuracy: 0.9755\n",
      "Epoch 25/30\n",
      "3675/3675 [==============================] - 78s 21ms/sample - loss: 0.0804 - accuracy: 0.9682\n",
      "Epoch 26/30\n",
      "3675/3675 [==============================] - 78s 21ms/sample - loss: 0.0643 - accuracy: 0.9744\n",
      "Epoch 27/30\n",
      "3675/3675 [==============================] - 78s 21ms/sample - loss: 0.0659 - accuracy: 0.9769\n",
      "Epoch 28/30\n",
      "3675/3675 [==============================] - 78s 21ms/sample - loss: 0.0631 - accuracy: 0.9736\n",
      "Epoch 29/30\n",
      "3675/3675 [==============================] - 79s 21ms/sample - loss: 0.0693 - accuracy: 0.9769\n",
      "Epoch 30/30\n",
      "3675/3675 [==============================] - 79s 21ms/sample - loss: 0.0574 - accuracy: 0.9790\n"
     ]
    },
    {
     "ename": "KeyError",
     "evalue": "'val_accuracy'",
     "output_type": "error",
     "traceback": [
      "\u001b[0;31m---------------------------------------------------------------------------\u001b[0m",
      "\u001b[0;31mKeyError\u001b[0m                                  Traceback (most recent call last)",
      "\u001b[0;32m<ipython-input-14-11be04e637eb>\u001b[0m in \u001b[0;36m<module>\u001b[0;34m\u001b[0m\n\u001b[1;32m     13\u001b[0m \u001b[0;34m\u001b[0m\u001b[0m\n\u001b[1;32m     14\u001b[0m \u001b[0;31m# plot accuracy/error for training and validation\u001b[0m\u001b[0;34m\u001b[0m\u001b[0;34m\u001b[0m\u001b[0;34m\u001b[0m\u001b[0m\n\u001b[0;32m---> 15\u001b[0;31m \u001b[0mmodel_prep\u001b[0m\u001b[0;34m.\u001b[0m\u001b[0mplot_history\u001b[0m\u001b[0;34m(\u001b[0m\u001b[0mCNN_history\u001b[0m\u001b[0;34m)\u001b[0m\u001b[0;34m\u001b[0m\u001b[0;34m\u001b[0m\u001b[0m\n\u001b[0m\u001b[1;32m     16\u001b[0m \u001b[0;34m\u001b[0m\u001b[0m\n\u001b[1;32m     17\u001b[0m \u001b[0;31m# evaluate model on test set\u001b[0m\u001b[0;34m\u001b[0m\u001b[0;34m\u001b[0m\u001b[0;34m\u001b[0m\u001b[0m\n",
      "\u001b[0;32m/workspace/Wiktor Dawid/model_prep.py\u001b[0m in \u001b[0;36mplot_history\u001b[0;34m(history)\u001b[0m\n\u001b[1;32m    110\u001b[0m     \u001b[0;31m# create accuracy sublpot\u001b[0m\u001b[0;34m\u001b[0m\u001b[0;34m\u001b[0m\u001b[0;34m\u001b[0m\u001b[0m\n\u001b[1;32m    111\u001b[0m     \u001b[0maxs\u001b[0m\u001b[0;34m[\u001b[0m\u001b[0;36m0\u001b[0m\u001b[0;34m]\u001b[0m\u001b[0;34m.\u001b[0m\u001b[0mplot\u001b[0m\u001b[0;34m(\u001b[0m\u001b[0mhistory\u001b[0m\u001b[0;34m.\u001b[0m\u001b[0mhistory\u001b[0m\u001b[0;34m[\u001b[0m\u001b[0;34m\"accuracy\"\u001b[0m\u001b[0;34m]\u001b[0m\u001b[0;34m,\u001b[0m \u001b[0mlabel\u001b[0m\u001b[0;34m=\u001b[0m\u001b[0;34m\"train accuracy\"\u001b[0m\u001b[0;34m)\u001b[0m\u001b[0;34m\u001b[0m\u001b[0;34m\u001b[0m\u001b[0m\n\u001b[0;32m--> 112\u001b[0;31m     \u001b[0maxs\u001b[0m\u001b[0;34m[\u001b[0m\u001b[0;36m0\u001b[0m\u001b[0;34m]\u001b[0m\u001b[0;34m.\u001b[0m\u001b[0mplot\u001b[0m\u001b[0;34m(\u001b[0m\u001b[0mhistory\u001b[0m\u001b[0;34m.\u001b[0m\u001b[0mhistory\u001b[0m\u001b[0;34m[\u001b[0m\u001b[0;34m\"val_accuracy\"\u001b[0m\u001b[0;34m]\u001b[0m\u001b[0;34m,\u001b[0m \u001b[0mlabel\u001b[0m\u001b[0;34m=\u001b[0m\u001b[0;34m\"test accuracy\"\u001b[0m\u001b[0;34m)\u001b[0m\u001b[0;34m\u001b[0m\u001b[0;34m\u001b[0m\u001b[0m\n\u001b[0m\u001b[1;32m    113\u001b[0m     \u001b[0maxs\u001b[0m\u001b[0;34m[\u001b[0m\u001b[0;36m0\u001b[0m\u001b[0;34m]\u001b[0m\u001b[0;34m.\u001b[0m\u001b[0mset_ylabel\u001b[0m\u001b[0;34m(\u001b[0m\u001b[0;34m\"Accuracy\"\u001b[0m\u001b[0;34m)\u001b[0m\u001b[0;34m\u001b[0m\u001b[0;34m\u001b[0m\u001b[0m\n\u001b[1;32m    114\u001b[0m     \u001b[0maxs\u001b[0m\u001b[0;34m[\u001b[0m\u001b[0;36m0\u001b[0m\u001b[0;34m]\u001b[0m\u001b[0;34m.\u001b[0m\u001b[0mlegend\u001b[0m\u001b[0;34m(\u001b[0m\u001b[0mloc\u001b[0m\u001b[0;34m=\u001b[0m\u001b[0;34m\"lower right\"\u001b[0m\u001b[0;34m)\u001b[0m\u001b[0;34m\u001b[0m\u001b[0;34m\u001b[0m\u001b[0m\n",
      "\u001b[0;31mKeyError\u001b[0m: 'val_accuracy'"
     ]
    },
    {
     "data": {
      "image/png": "[encoded data removed]",
      "text/plain": [
       "<Figure size 432x288 with 2 Axes>"
      ]
     },
     "metadata": {
      "needs_background": "light"
     },
     "output_type": "display_data"
    }
   ],
   "source": [
    "CNN_model = model_prep.build_CNN_model(input_shape)\n",
    "\n",
    "# compile model\n",
    "optimiser = keras.optimizers.Adam(learning_rate=0.001) #with 0.0001 ~ 70% accuracy\n",
    "CNN_model.compile(optimizer=optimiser,\n",
    "              loss='sparse_categorical_crossentropy',\n",
    "              metrics=['accuracy'])\n",
    "\n",
    "CNN_model.summary()\n",
    "\n",
    "# train model\n",
    "CNN_history = CNN_model.fit(X_train, y_train, batch_size=32, epochs=30)\n",
    "\n",
    "# plot accuracy/error for training and validation\n",
    "model_prep.plot_history(CNN_history)\n",
    "\n",
    "# evaluate model on test set\n",
    "CNN_test_loss, CNN_test_acc = CNN_model.evaluate(X_test, y_test, verbose=2)"
   ]
  },
  {
   "cell_type": "code",
   "execution_count": null,
   "metadata": {
    "ExecuteTime": {
     "end_time": "2021-04-03T13:53:11.368157Z",
     "start_time": "2021-04-03T13:38:01.672Z"
    }
   },
   "outputs": [],
   "source": [
    "from datetime import datetime\n",
    "\n",
    "now = datetime.now()\n",
    "\n",
    "current_time = now.strftime(\"%H:%M:%S\")\n",
    "print(\"Current Time =\", current_time)"
   ]
  }
 ],
 "metadata": {
  "kernelspec": {
   "display_name": "Python 3",
   "language": "python",
   "name": "python3"
  },
  "language_info": {
   "codemirror_mode": {
    "name": "ipython",
    "version": 3
   },
   "file_extension": ".py",
   "mimetype": "text/x-python",
   "name": "python",
   "nbconvert_exporter": "python",
   "pygments_lexer": "ipython3",
   "version": "3.7.6"
  },
  "toc": {
   "base_numbering": 1,
   "nav_menu": {},
   "number_sections": false,
   "sideBar": true,
   "skip_h1_title": false,
   "title_cell": "Table of Contents",
   "title_sidebar": "Contents",
   "toc_cell": false,
   "toc_position": {},
   "toc_section_display": true,
   "toc_window_display": false
  }
 },
 "nbformat": 4,
 "nbformat_minor": 2
}
