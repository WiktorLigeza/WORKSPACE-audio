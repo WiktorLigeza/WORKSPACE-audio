{
 "cells": [
  {
   "cell_type": "code",
   "execution_count": 1,
   "metadata": {
    "ExecuteTime": {
     "end_time": "2021-04-19T16:01:33.613602Z",
     "start_time": "2021-04-19T16:01:33.402957Z"
    }
   },
   "outputs": [],
   "source": [
    "import numpy as np\n",
    "import joblib\n",
    "import glob\n",
    "from tqdm.contrib.concurrent import process_map\n",
    "import gc\n",
    "from tqdm.notebook import tqdm"
   ]
  },
  {
   "cell_type": "code",
   "execution_count": null,
   "metadata": {
    "ExecuteTime": {
     "start_time": "2021-04-19T11:41:48.001Z"
    },
    "code_folding": [
     0
    ]
   },
   "outputs": [],
   "source": [
    "# data_base = glob.glob(\"/workspace/data/conc_data/*.npz\")\n",
    "# len(data_base)\n",
    "# max_len = 0\n",
    "\n",
    "# file_count = len(data_base)\n",
    "# bar = tqdm(desc=\"proccessing files\", total=file_count)\n",
    "# tot = 0\n",
    "\n",
    "# for filename in data_base:\n",
    "#     try: \n",
    "#         bar.update(1)\n",
    "#         tot += 1\n",
    "#         data = np.load(filename, allow_pickle=True)\n",
    "#         coef = data['arr_0']\n",
    "#         if coef.shape[1] > max_len:\n",
    "#             max_len = coef.shape[1]\n",
    "#     except: print(\"problem at: {}\".format(filename))\n",
    "\n",
    "# print(max_len)"
   ]
  },
  {
   "cell_type": "code",
   "execution_count": 2,
   "metadata": {
    "ExecuteTime": {
     "end_time": "2021-04-19T12:02:09.655398Z",
     "start_time": "2021-04-19T12:02:09.647224Z"
    }
   },
   "outputs": [],
   "source": [
    "def padd(coef, required_len):\n",
    "    pad_size = required_len - coef.shape[1]\n",
    "    result = np.zeros((coef.shape[0], required_len))\n",
    "    result[:coef.shape[0],:coef.shape[1]] = coef\n",
    "    return result"
   ]
  },
  {
   "cell_type": "code",
   "execution_count": 3,
   "metadata": {
    "ExecuteTime": {
     "end_time": "2021-04-19T12:02:20.514406Z",
     "start_time": "2021-04-19T12:02:20.503945Z"
    }
   },
   "outputs": [],
   "source": [
    "def process2(filename):\n",
    "    required_len = 141000\n",
    "    data = np.load(filename, allow_pickle=True)\n",
    "    coef, label = data['arr_0'], data['arr_2']\n",
    "    res = padd(coef, required_len)\n",
    "    \n",
    "    #save\n",
    "    filename = filename.replace(\"conc_data\", \"Padded\") # -> change dir\n",
    "    filename = filename.replace(\".wav.npz\", \"\") \n",
    "    np.savez_compressed(filename+\"_padded\"+'.npz', res, label)\n",
    "   \n"
   ]
  },
  {
   "cell_type": "code",
   "execution_count": 4,
   "metadata": {
    "ExecuteTime": {
     "end_time": "2021-04-19T14:17:11.417887Z",
     "start_time": "2021-04-19T12:02:24.119299Z"
    }
   },
   "outputs": [
    {
     "data": {
      "application/vnd.jupyter.widget-view+json": {
       "model_id": "317f62599f974ab790fd0a0bffc43ec4",
       "version_major": 2,
       "version_minor": 0
      },
      "text/plain": [
       "  0%|          | 0/5252 [00:00<?, ?it/s]"
      ]
     },
     "metadata": {},
     "output_type": "display_data"
    }
   ],
   "source": [
    "a=process_map(process2, glob.glob(\"/workspace/data/conc_data/*.npz\"), max_workers=8, smoothing=0.0, chunksize=4)"
   ]
  },
  {
   "cell_type": "code",
   "execution_count": 2,
   "metadata": {
    "ExecuteTime": {
     "end_time": "2021-04-19T16:01:37.539711Z",
     "start_time": "2021-04-19T16:01:37.389630Z"
    }
   },
   "outputs": [
    {
     "data": {
      "text/plain": [
       "'/workspace/data/Padded/03-01-07-01-02-01-23_padded.npz'"
      ]
     },
     "execution_count": 2,
     "metadata": {},
     "output_type": "execute_result"
    }
   ],
   "source": [
    "padded = glob.glob(\"/workspace/data/Padded/*.npz\")\n",
    "padded[0]"
   ]
  },
  {
   "cell_type": "code",
   "execution_count": null,
   "metadata": {
    "ExecuteTime": {
     "start_time": "2021-04-19T16:01:37.842Z"
    }
   },
   "outputs": [],
   "source": [
    "X = []\n",
    "y = []\n",
    "for sample in padded:\n",
    "    data = np.load(sample, allow_pickle=True)\n",
    "    X.append(data['arr_0'])\n",
    "    y.append(data['arr_1'])\n",
    "    "
   ]
  },
  {
   "cell_type": "code",
   "execution_count": null,
   "metadata": {},
   "outputs": [],
   "source": []
  }
 ],
 "metadata": {
  "kernelspec": {
   "display_name": "Python 3",
   "language": "python",
   "name": "python3"
  },
  "language_info": {
   "codemirror_mode": {
    "name": "ipython",
    "version": 3
   },
   "file_extension": ".py",
   "mimetype": "text/x-python",
   "name": "python",
   "nbconvert_exporter": "python",
   "pygments_lexer": "ipython3",
   "version": "3.7.6"
  },
  "toc": {
   "base_numbering": 1,
   "nav_menu": {},
   "number_sections": false,
   "sideBar": true,
   "skip_h1_title": false,
   "title_cell": "Table of Contents",
   "title_sidebar": "Contents",
   "toc_cell": false,
   "toc_position": {},
   "toc_section_display": true,
   "toc_window_display": false
  }
 },
 "nbformat": 4,
 "nbformat_minor": 2
}
