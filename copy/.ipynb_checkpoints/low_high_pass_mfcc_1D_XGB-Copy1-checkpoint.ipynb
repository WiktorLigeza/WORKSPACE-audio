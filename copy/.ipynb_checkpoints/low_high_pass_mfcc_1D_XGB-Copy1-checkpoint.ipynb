{
 "cells": [
  {
   "cell_type": "code",
   "execution_count": 1,
   "metadata": {
    "ExecuteTime": {
     "end_time": "2021-04-09T16:52:03.099872Z",
     "start_time": "2021-04-09T16:52:02.154718Z"
    }
   },
   "outputs": [],
   "source": [
    "import joblib\n",
    "import numpy as np\n",
    "from xgboost import XGBClassifier\n",
    "from sklearn.metrics import accuracy_score\n",
    "from sklearn.model_selection import train_test_split\n",
    "import time"
   ]
  },
  {
   "cell_type": "code",
   "execution_count": 2,
   "metadata": {
    "ExecuteTime": {
     "end_time": "2021-04-09T16:52:03.396092Z",
     "start_time": "2021-04-09T16:52:03.103480Z"
    }
   },
   "outputs": [],
   "source": [
    "approximation_spec = joblib.load(\"../feats/low_high_pass/np_arr/approximation_spec_np.joblib\")\n",
    "detail_spec = joblib.load(\"../feats/low_high_pass/np_arr/detail_spec_np.joblib\")\n",
    "y = joblib.load(\"../feats/low_high_pass/np_arr/y_np.joblib\")"
   ]
  },
  {
   "cell_type": "code",
   "execution_count": 3,
   "metadata": {
    "ExecuteTime": {
     "end_time": "2021-04-09T16:52:03.407734Z",
     "start_time": "2021-04-09T16:52:03.400504Z"
    }
   },
   "outputs": [
    {
     "name": "stdout",
     "output_type": "stream",
     "text": [
      "(5252, 5, 40)\n",
      "(5252, 5, 40)\n"
     ]
    }
   ],
   "source": [
    "print(approximation_spec.shape)\n",
    "print(detail_spec.shape)"
   ]
  },
  {
   "cell_type": "code",
   "execution_count": 4,
   "metadata": {
    "ExecuteTime": {
     "end_time": "2021-04-09T16:52:03.723372Z",
     "start_time": "2021-04-09T16:52:03.600483Z"
    }
   },
   "outputs": [],
   "source": [
    "feats_conc = np.concatenate((approximation_spec, detail_spec), axis=1)"
   ]
  },
  {
   "cell_type": "code",
   "execution_count": 5,
   "metadata": {
    "ExecuteTime": {
     "end_time": "2021-04-09T16:52:04.691362Z",
     "start_time": "2021-04-09T16:52:04.679360Z"
    }
   },
   "outputs": [
    {
     "data": {
      "text/plain": [
       "(5252, 10, 40)"
      ]
     },
     "execution_count": 5,
     "metadata": {},
     "output_type": "execute_result"
    }
   ],
   "source": [
    "feats_conc.shape"
   ]
  },
  {
   "cell_type": "code",
   "execution_count": 6,
   "metadata": {
    "ExecuteTime": {
     "end_time": "2021-04-09T16:52:05.609334Z",
     "start_time": "2021-04-09T16:52:05.601121Z"
    }
   },
   "outputs": [
    {
     "data": {
      "text/plain": [
       "numpy.ndarray"
      ]
     },
     "execution_count": 6,
     "metadata": {},
     "output_type": "execute_result"
    }
   ],
   "source": [
    "type(feats_conc)"
   ]
  },
  {
   "cell_type": "code",
   "execution_count": 7,
   "metadata": {
    "ExecuteTime": {
     "end_time": "2021-04-09T16:52:12.828894Z",
     "start_time": "2021-04-09T16:52:12.818201Z"
    }
   },
   "outputs": [
    {
     "data": {
      "text/plain": [
       "(5252, 400)"
      ]
     },
     "execution_count": 7,
     "metadata": {},
     "output_type": "execute_result"
    }
   ],
   "source": [
    "flatten_conc = feats_conc.reshape(5252, 400)\n",
    "flatten_conc.shape"
   ]
  },
  {
   "cell_type": "code",
   "execution_count": 9,
   "metadata": {
    "ExecuteTime": {
     "end_time": "2021-04-09T16:52:26.767768Z",
     "start_time": "2021-04-09T16:52:26.760816Z"
    }
   },
   "outputs": [
    {
     "data": {
      "text/plain": [
       "numpy.ndarray"
      ]
     },
     "execution_count": 9,
     "metadata": {},
     "output_type": "execute_result"
    }
   ],
   "source": [
    "type(y)"
   ]
  },
  {
   "cell_type": "markdown",
   "metadata": {},
   "source": [
    "# XGB model"
   ]
  },
  {
   "cell_type": "code",
   "execution_count": null,
   "metadata": {
    "ExecuteTime": {
     "start_time": "2021-04-07T12:38:50.929Z"
    }
   },
   "outputs": [],
   "source": [
    "X = flatten_conc\n",
    "y = y\n",
    "\n",
    "X_train, X_test, y_train, y_test = train_test_split(X, y, test_size=0.33, random_state=42)\n",
    "\n",
    "start_time = time.time()\n",
    "\n",
    "model = XGBClassifier(learning_rate = 0.1,\n",
    "                      n_estimators = 1000,\n",
    "                      max_depth = 8,\n",
    "                      min_child_weight=3,\n",
    "                      subsample = 0.8,\n",
    "                      colsample_bytree = 0.8,\n",
    "                      gamma = 0\n",
    "                     )\n",
    "model.fit(X_train, y_train)\n",
    "\n",
    "y_pred = model.predict(X_test)\n",
    "predictions = [round(value) for value in y_pred]\n",
    "\n",
    "print(\"--- Model trained. Training time: %s seconds ---\" % (time.time() - start_time))\n",
    "\n",
    "accuracy = accuracy_score(y_test, predictions)\n",
    "print(\"Accuracy: %.2f%%\" % (accuracy * 100.0))"
   ]
  },
  {
   "cell_type": "code",
   "execution_count": null,
   "metadata": {},
   "outputs": [],
   "source": []
  }
 ],
 "metadata": {
  "kernelspec": {
   "display_name": "Python 3",
   "language": "python",
   "name": "python3"
  },
  "language_info": {
   "codemirror_mode": {
    "name": "ipython",
    "version": 3
   },
   "file_extension": ".py",
   "mimetype": "text/x-python",
   "name": "python",
   "nbconvert_exporter": "python",
   "pygments_lexer": "ipython3",
   "version": "3.7.6"
  },
  "toc": {
   "base_numbering": 1,
   "nav_menu": {},
   "number_sections": false,
   "sideBar": true,
   "skip_h1_title": false,
   "title_cell": "Table of Contents",
   "title_sidebar": "Contents",
   "toc_cell": false,
   "toc_position": {},
   "toc_section_display": true,
   "toc_window_display": false
  }
 },
 "nbformat": 4,
 "nbformat_minor": 2
}
