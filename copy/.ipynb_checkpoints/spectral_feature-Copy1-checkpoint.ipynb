{
 "cells": [
  {
   "cell_type": "code",
   "execution_count": 112,
   "metadata": {
    "ExecuteTime": {
     "end_time": "2021-04-20T09:20:26.300953Z",
     "start_time": "2021-04-20T09:20:24.597223Z"
    }
   },
   "outputs": [],
   "source": [
    "import pandas as pd\n",
    "import numpy as np\n",
    "from sklearn.model_selection import train_test_split\n",
    "import matplotlib.pyplot as plt\n",
    "import joblib"
   ]
  },
  {
   "cell_type": "code",
   "execution_count": 80,
   "metadata": {
    "ExecuteTime": {
     "end_time": "2021-04-15T13:46:10.368889Z",
     "start_time": "2021-04-15T13:46:09.578495Z"
    }
   },
   "outputs": [],
   "source": [
    "y = pd.read_csv(\"../feats/spectral_feats/y.csv\", header=None)"
   ]
  },
  {
   "cell_type": "markdown",
   "metadata": {
    "heading_collapsed": true
   },
   "source": [
    "# Spectral Centroid"
   ]
  },
  {
   "cell_type": "code",
   "execution_count": 60,
   "metadata": {
    "ExecuteTime": {
     "end_time": "2021-04-15T13:15:22.098812Z",
     "start_time": "2021-04-15T13:15:18.999152Z"
    },
    "hidden": true
   },
   "outputs": [],
   "source": [
    "df_sc = pd.read_csv(\"../feats/spectral_feats/interpol/spectralCentroid.csv\", header=None)"
   ]
  },
  {
   "cell_type": "code",
   "execution_count": 61,
   "metadata": {
    "ExecuteTime": {
     "end_time": "2021-04-15T13:15:22.137243Z",
     "start_time": "2021-04-15T13:15:22.103584Z"
    },
    "hidden": true
   },
   "outputs": [],
   "source": [
    "df_sc = df_sc.fillna(0)\n",
    "sc = df_sc.values\n",
    "sc = sc.swapaxes(0,1)"
   ]
  },
  {
   "cell_type": "code",
   "execution_count": 62,
   "metadata": {
    "ExecuteTime": {
     "end_time": "2021-04-15T13:15:22.157566Z",
     "start_time": "2021-04-15T13:15:22.142996Z"
    },
    "hidden": true
   },
   "outputs": [
    {
     "data": {
      "text/plain": [
       "(5252, 701)"
      ]
     },
     "execution_count": 62,
     "metadata": {},
     "output_type": "execute_result"
    }
   ],
   "source": [
    "sc.shape"
   ]
  },
  {
   "cell_type": "code",
   "execution_count": 63,
   "metadata": {
    "ExecuteTime": {
     "end_time": "2021-04-15T13:15:22.206605Z",
     "start_time": "2021-04-15T13:15:22.160911Z"
    },
    "hidden": true
   },
   "outputs": [
    {
     "data": {
      "text/plain": [
       "False"
      ]
     },
     "execution_count": 63,
     "metadata": {},
     "output_type": "execute_result"
    }
   ],
   "source": [
    "df_sc.isna().values.any()"
   ]
  },
  {
   "cell_type": "code",
   "execution_count": 64,
   "metadata": {
    "ExecuteTime": {
     "end_time": "2021-04-15T13:15:22.380661Z",
     "start_time": "2021-04-15T13:15:22.209666Z"
    },
    "hidden": true
   },
   "outputs": [
    {
     "data": {
      "text/plain": [
       "['../feats/spectral_feats/joblib/X_sc.joblib']"
      ]
     },
     "execution_count": 64,
     "metadata": {},
     "output_type": "execute_result"
    }
   ],
   "source": [
    "X_name = '../feats/spectral_feats/joblib/X_sc.joblib'\n",
    "joblib.dump(sc, X_name)"
   ]
  },
  {
   "cell_type": "markdown",
   "metadata": {
    "heading_collapsed": true
   },
   "source": [
    "# Spectral Flatness"
   ]
  },
  {
   "cell_type": "code",
   "execution_count": 65,
   "metadata": {
    "ExecuteTime": {
     "end_time": "2021-04-15T13:15:25.482051Z",
     "start_time": "2021-04-15T13:15:22.385559Z"
    },
    "hidden": true
   },
   "outputs": [
    {
     "name": "stdout",
     "output_type": "stream",
     "text": [
      "(5252, 701)\n",
      "False\n"
     ]
    },
    {
     "data": {
      "text/plain": [
       "['../feats/spectral_feats/joblib/X_sf.joblib']"
      ]
     },
     "execution_count": 65,
     "metadata": {},
     "output_type": "execute_result"
    }
   ],
   "source": [
    "df_sf = pd.read_csv(\"../feats/spectral_feats/interpol/spectralFlatness.csv\", header=None)\n",
    "\n",
    "df_sf = df_sf.fillna(value = 0)\n",
    "sf = df_sf.values\n",
    "sf = sf.swapaxes(0,1)\n",
    "\n",
    "print(sf.shape)\n",
    "\n",
    "print(df_sf.isna().values.any())\n",
    "\n",
    "X_name = '../feats/spectral_feats/joblib/X_sf.joblib'\n",
    "joblib.dump(sf, X_name)"
   ]
  },
  {
   "cell_type": "markdown",
   "metadata": {
    "heading_collapsed": true
   },
   "source": [
    "# Spectral Crest"
   ]
  },
  {
   "cell_type": "code",
   "execution_count": 66,
   "metadata": {
    "ExecuteTime": {
     "end_time": "2021-04-15T13:17:04.165683Z",
     "start_time": "2021-04-15T13:17:01.029376Z"
    },
    "hidden": true
   },
   "outputs": [
    {
     "name": "stdout",
     "output_type": "stream",
     "text": [
      "(5252, 701)\n",
      "False\n"
     ]
    },
    {
     "data": {
      "text/plain": [
       "['../feats/spectral_feats/joblib/X_screst.joblib']"
      ]
     },
     "execution_count": 66,
     "metadata": {},
     "output_type": "execute_result"
    }
   ],
   "source": [
    "df_screst = pd.read_csv(\"../feats/spectral_feats/interpol/spectralCrest.csv\", header=None)\n",
    "\n",
    "df_screst = df_screst.fillna(value = 0)\n",
    "screst = df_screst.values\n",
    "screst = screst.swapaxes(0,1)\n",
    "\n",
    "print(screst.shape)\n",
    "\n",
    "print(df_screst.isna().values.any())\n",
    "\n",
    "X_name = '../feats/spectral_feats/joblib/X_screst.joblib'\n",
    "joblib.dump(screst, X_name)"
   ]
  },
  {
   "cell_type": "markdown",
   "metadata": {
    "heading_collapsed": true
   },
   "source": [
    "# Spectral Decrease"
   ]
  },
  {
   "cell_type": "code",
   "execution_count": 81,
   "metadata": {
    "ExecuteTime": {
     "end_time": "2021-04-15T14:48:09.437723Z",
     "start_time": "2021-04-15T14:48:05.991785Z"
    },
    "hidden": true
   },
   "outputs": [
    {
     "name": "stdout",
     "output_type": "stream",
     "text": [
      "(5252, 701)\n",
      "False\n"
     ]
    },
    {
     "data": {
      "text/plain": [
       "['../feats/spectral_feats/joblib/X_decr.joblib']"
      ]
     },
     "execution_count": 81,
     "metadata": {},
     "output_type": "execute_result"
    }
   ],
   "source": [
    "df_decr = pd.read_csv(\"../feats/spectral_feats/interpol/spectralDecrease.csv\", header=None)\n",
    "\n",
    "df_decr = df_decr.fillna(value = 0)\n",
    "decr = df_decr.values\n",
    "decr = decr.swapaxes(0,1)\n",
    "\n",
    "print(decr.shape)\n",
    "\n",
    "print(df_decr.isna().values.any())\n",
    "\n",
    "X_name = '../feats/spectral_feats/joblib/X_decr.joblib'\n",
    "joblib.dump(decr, X_name)"
   ]
  },
  {
   "cell_type": "markdown",
   "metadata": {
    "heading_collapsed": true
   },
   "source": [
    "# Spectral Entropy"
   ]
  },
  {
   "cell_type": "code",
   "execution_count": 69,
   "metadata": {
    "ExecuteTime": {
     "end_time": "2021-04-15T13:19:27.562937Z",
     "start_time": "2021-04-15T13:19:24.132888Z"
    },
    "hidden": true
   },
   "outputs": [
    {
     "name": "stdout",
     "output_type": "stream",
     "text": [
      "(5252, 701)\n",
      "False\n"
     ]
    },
    {
     "data": {
      "text/plain": [
       "['../feats/spectral_feats/joblib/X_entro.joblib']"
      ]
     },
     "execution_count": 69,
     "metadata": {},
     "output_type": "execute_result"
    }
   ],
   "source": [
    "df_entro = pd.read_csv(\"../feats/spectral_feats/spectralEntropy.csv\", header=None)\n",
    "\n",
    "df_entro = df_entro.fillna(value = 0)\n",
    "entro = df_entro.values\n",
    "entro = entro.swapaxes(0,1)\n",
    "\n",
    "print(entro.shape)\n",
    "\n",
    "print(df_entro.isna().values.any())\n",
    "\n",
    "X_name = '../feats/spectral_feats/joblib/X_entro.joblib'\n",
    "joblib.dump(entro, X_name)"
   ]
  },
  {
   "cell_type": "markdown",
   "metadata": {
    "heading_collapsed": true
   },
   "source": [
    "# Spectral Flux"
   ]
  },
  {
   "cell_type": "code",
   "execution_count": 71,
   "metadata": {
    "ExecuteTime": {
     "end_time": "2021-04-15T13:20:38.466465Z",
     "start_time": "2021-04-15T13:20:35.420111Z"
    },
    "hidden": true
   },
   "outputs": [
    {
     "name": "stdout",
     "output_type": "stream",
     "text": [
      "(5252, 701)\n",
      "False\n"
     ]
    },
    {
     "data": {
      "text/plain": [
       "['../feats/spectral_feats/joblib/X_flux.joblib']"
      ]
     },
     "execution_count": 71,
     "metadata": {},
     "output_type": "execute_result"
    }
   ],
   "source": [
    "df_flux = pd.read_csv(\"../feats/spectral_feats/spectralFlux.csv\", header=None)\n",
    "\n",
    "df_flux = df_flux.fillna(value = 0)\n",
    "flux = df_flux.values\n",
    "flux = flux.swapaxes(0,1)\n",
    "\n",
    "print(flux.shape)\n",
    "\n",
    "print(df_flux.isna().values.any())\n",
    "\n",
    "X_name = '../feats/spectral_feats/joblib/X_flux.joblib'\n",
    "joblib.dump(flux, X_name)"
   ]
  },
  {
   "cell_type": "markdown",
   "metadata": {
    "heading_collapsed": true
   },
   "source": [
    "# Spectral Kurtosis"
   ]
  },
  {
   "cell_type": "code",
   "execution_count": 73,
   "metadata": {
    "ExecuteTime": {
     "end_time": "2021-04-15T13:22:29.541627Z",
     "start_time": "2021-04-15T13:22:26.318284Z"
    },
    "hidden": true
   },
   "outputs": [
    {
     "name": "stdout",
     "output_type": "stream",
     "text": [
      "(5252, 701)\n",
      "False\n"
     ]
    },
    {
     "data": {
      "text/plain": [
       "['../feats/spectral_feats/joblib/X_kurt.joblib']"
      ]
     },
     "execution_count": 73,
     "metadata": {},
     "output_type": "execute_result"
    }
   ],
   "source": [
    "df_kurt = pd.read_csv(\"../feats/spectral_feats/interpol/spectralKurtosis.csv\", header=None)\n",
    "\n",
    "df_kurt = df_kurt.fillna(value = 0)\n",
    "kurt = df_kurt.values\n",
    "kurt = kurt.swapaxes(0,1)\n",
    "\n",
    "print(kurt.shape)\n",
    "\n",
    "print(df_kurt.isna().values.any())\n",
    "\n",
    "X_name = '../feats/spectral_feats/joblib/X_kurt.joblib'\n",
    "joblib.dump(kurt, X_name)"
   ]
  },
  {
   "cell_type": "markdown",
   "metadata": {
    "heading_collapsed": true
   },
   "source": [
    "# Spectral RolloffPoint"
   ]
  },
  {
   "cell_type": "code",
   "execution_count": 74,
   "metadata": {
    "ExecuteTime": {
     "end_time": "2021-04-15T13:24:00.050352Z",
     "start_time": "2021-04-15T13:23:56.633436Z"
    },
    "hidden": true
   },
   "outputs": [
    {
     "name": "stdout",
     "output_type": "stream",
     "text": [
      "(5252, 701)\n",
      "False\n"
     ]
    },
    {
     "data": {
      "text/plain": [
       "['../feats/spectral_feats/joblib/X_rop.joblib']"
      ]
     },
     "execution_count": 74,
     "metadata": {},
     "output_type": "execute_result"
    }
   ],
   "source": [
    "df_rop = pd.read_csv(\"../feats/spectral_feats/spectralRolloffPoint.csv\", header=None)\n",
    "\n",
    "df_rop = df_rop.fillna(value = 0)\n",
    "rop = df_rop.values\n",
    "rop = rop.swapaxes(0,1)\n",
    "\n",
    "print(rop.shape)\n",
    "\n",
    "print(df_rop.isna().values.any())\n",
    "\n",
    "X_name = '../feats/spectral_feats/joblib/X_rop.joblib'\n",
    "joblib.dump(rop, X_name)"
   ]
  },
  {
   "cell_type": "markdown",
   "metadata": {
    "ExecuteTime": {
     "end_time": "2021-04-15T13:24:15.405057Z",
     "start_time": "2021-04-15T13:24:15.399350Z"
    },
    "heading_collapsed": true
   },
   "source": [
    "# Spectral Skewness"
   ]
  },
  {
   "cell_type": "code",
   "execution_count": 76,
   "metadata": {
    "ExecuteTime": {
     "end_time": "2021-04-15T13:25:52.358018Z",
     "start_time": "2021-04-15T13:25:48.826459Z"
    },
    "hidden": true
   },
   "outputs": [
    {
     "name": "stdout",
     "output_type": "stream",
     "text": [
      "(5252, 701)\n",
      "False\n"
     ]
    },
    {
     "data": {
      "text/plain": [
       "['../feats/spectral_feats/joblib/X_skwnss.joblib']"
      ]
     },
     "execution_count": 76,
     "metadata": {},
     "output_type": "execute_result"
    }
   ],
   "source": [
    "df_skwnss = pd.read_csv(\"../feats/spectral_feats/interpol/spectralSkewness.csv\", header=None)\n",
    "\n",
    "df_skwnss = df_skwnss.fillna(value = 0)\n",
    "skwnss = df_skwnss.values\n",
    "skwnss = skwnss.swapaxes(0,1)\n",
    "\n",
    "print(skwnss.shape)\n",
    "\n",
    "print(df_skwnss.isna().values.any())\n",
    "\n",
    "X_name = '../feats/spectral_feats/joblib/X_skwnss.joblib'\n",
    "joblib.dump(skwnss, X_name)"
   ]
  },
  {
   "cell_type": "markdown",
   "metadata": {
    "ExecuteTime": {
     "end_time": "2021-04-15T13:26:06.230611Z",
     "start_time": "2021-04-15T13:26:06.223773Z"
    },
    "heading_collapsed": true
   },
   "source": [
    "# Spectral Slope"
   ]
  },
  {
   "cell_type": "code",
   "execution_count": 78,
   "metadata": {
    "ExecuteTime": {
     "end_time": "2021-04-15T13:26:51.031307Z",
     "start_time": "2021-04-15T13:26:47.026122Z"
    },
    "hidden": true
   },
   "outputs": [
    {
     "name": "stdout",
     "output_type": "stream",
     "text": [
      "(5252, 701)\n",
      "False\n"
     ]
    },
    {
     "data": {
      "text/plain": [
       "['../feats/spectral_feats/joblib/X_slope.joblib']"
      ]
     },
     "execution_count": 78,
     "metadata": {},
     "output_type": "execute_result"
    }
   ],
   "source": [
    "df_slope = pd.read_csv(\"../feats/spectral_feats/spectralSlope.csv\", header=None)\n",
    "\n",
    "df_slope = df_slope.fillna(value = 0)\n",
    "slope = df_slope.values\n",
    "slope = slope.swapaxes(0,1)\n",
    "\n",
    "print(slope.shape)\n",
    "\n",
    "print(df_slope.isna().values.any())\n",
    "\n",
    "X_name = '../feats/spectral_feats/joblib/X_slope.joblib'\n",
    "joblib.dump(slope, X_name)"
   ]
  },
  {
   "cell_type": "markdown",
   "metadata": {
    "heading_collapsed": true
   },
   "source": [
    "# Spectral Spread"
   ]
  },
  {
   "cell_type": "code",
   "execution_count": 79,
   "metadata": {
    "ExecuteTime": {
     "end_time": "2021-04-15T13:27:54.008891Z",
     "start_time": "2021-04-15T13:27:50.269216Z"
    },
    "hidden": true
   },
   "outputs": [
    {
     "name": "stdout",
     "output_type": "stream",
     "text": [
      "(5252, 701)\n",
      "False\n"
     ]
    },
    {
     "data": {
      "text/plain": [
       "['../feats/spectral_feats/joblib/X_spread.joblib']"
      ]
     },
     "execution_count": 79,
     "metadata": {},
     "output_type": "execute_result"
    }
   ],
   "source": [
    "df_spread = pd.read_csv(\"../feats/spectral_feats/interpol/spectralSpread.csv\", header=None)\n",
    "\n",
    "df_spread = df_spread.fillna(value = 0)\n",
    "spread = df_spread.values\n",
    "spread = spread.swapaxes(0,1)\n",
    "\n",
    "print(spread.shape)\n",
    "\n",
    "print(df_spread.isna().values.any())\n",
    "\n",
    "X_name = '../feats/spectral_feats/joblib/X_spread.joblib'\n",
    "joblib.dump(spread, X_name)"
   ]
  },
  {
   "cell_type": "markdown",
   "metadata": {
    "heading_collapsed": true
   },
   "source": [
    "# Concatenate"
   ]
  },
  {
   "cell_type": "code",
   "execution_count": 86,
   "metadata": {
    "ExecuteTime": {
     "end_time": "2021-04-16T07:55:41.133220Z",
     "start_time": "2021-04-16T07:55:36.434328Z"
    },
    "hidden": true
   },
   "outputs": [],
   "source": [
    "X1 = joblib.load(\"../feats/spectral_feats/joblib/X_sc.joblib\")\n",
    "X2 = joblib.load(\"../feats/spectral_feats/joblib/X_decr.joblib\")\n",
    "X3 = joblib.load(\"../feats/spectral_feats/joblib/X_entro.joblib\")\n",
    "X4 = joblib.load(\"../feats/spectral_feats/joblib/X_flux.joblib\")\n",
    "X5 = joblib.load(\"../feats/spectral_feats/joblib/X_kurt.joblib\")\n",
    "X6 = joblib.load(\"../feats/spectral_feats/joblib/X_rop.joblib\")\n",
    "X7 = joblib.load(\"../feats/spectral_feats/joblib/X_screst.joblib\")\n",
    "X8 = joblib.load(\"../feats/spectral_feats/joblib/X_sf.joblib\")\n",
    "X9 = joblib.load(\"../feats/spectral_feats/joblib/X_skwnss.joblib\")\n",
    "X10 = joblib.load(\"../feats/spectral_feats/joblib/X_slope.joblib\")\n",
    "X11 = joblib.load(\"../feats/spectral_feats/joblib/X_spread.joblib\")"
   ]
  },
  {
   "cell_type": "code",
   "execution_count": 88,
   "metadata": {
    "ExecuteTime": {
     "end_time": "2021-04-16T07:57:02.352289Z",
     "start_time": "2021-04-16T07:57:01.212331Z"
    },
    "hidden": true
   },
   "outputs": [],
   "source": [
    "X = np.concatenate((X1,X2,X3,X4,X5,X6,X7,X8,X9,X10,X11), axis=1)"
   ]
  },
  {
   "cell_type": "code",
   "execution_count": 89,
   "metadata": {
    "ExecuteTime": {
     "end_time": "2021-04-16T07:57:08.132740Z",
     "start_time": "2021-04-16T07:57:08.122546Z"
    },
    "hidden": true
   },
   "outputs": [
    {
     "data": {
      "text/plain": [
       "(5252, 7711)"
      ]
     },
     "execution_count": 89,
     "metadata": {},
     "output_type": "execute_result"
    }
   ],
   "source": [
    "X.shape"
   ]
  },
  {
   "cell_type": "code",
   "execution_count": 90,
   "metadata": {
    "ExecuteTime": {
     "end_time": "2021-04-16T07:58:08.883687Z",
     "start_time": "2021-04-16T07:58:05.735370Z"
    },
    "hidden": true
   },
   "outputs": [
    {
     "data": {
      "text/plain": [
       "['../feats/spectral_feats/joblib/X_concatenate.joblib']"
      ]
     },
     "execution_count": 90,
     "metadata": {},
     "output_type": "execute_result"
    }
   ],
   "source": [
    "X_name = '../feats/spectral_feats/joblib/X_concatenate.joblib'\n",
    "joblib.dump(X, X_name)"
   ]
  },
  {
   "cell_type": "markdown",
   "metadata": {},
   "source": [
    "# Deltas"
   ]
  },
  {
   "cell_type": "code",
   "execution_count": 96,
   "metadata": {
    "ExecuteTime": {
     "end_time": "2021-04-16T10:55:26.064317Z",
     "start_time": "2021-04-16T10:55:23.096080Z"
    }
   },
   "outputs": [
    {
     "name": "stdout",
     "output_type": "stream",
     "text": [
      "(5252, 701)\n",
      "False\n"
     ]
    },
    {
     "data": {
      "text/plain": [
       "['../feats/spectral_feats/joblib/X_dsf.joblib']"
      ]
     },
     "execution_count": 96,
     "metadata": {},
     "output_type": "execute_result"
    }
   ],
   "source": [
    "df_sf = pd.read_csv(\"../feats/spectral_feats/deltaSpectralFlatness.csv\", header=None)\n",
    "\n",
    "df_sf = df_sf.fillna(value = 0)\n",
    "sf = df_sf.values\n",
    "sf = sf.swapaxes(0,1)\n",
    "\n",
    "print(sf.shape)\n",
    "\n",
    "print(df_sf.isna().values.any())\n",
    "\n",
    "X_name = '../feats/spectral_feats/joblib/X_dsf.joblib'\n",
    "joblib.dump(sf, X_name)"
   ]
  },
  {
   "cell_type": "code",
   "execution_count": 97,
   "metadata": {
    "ExecuteTime": {
     "end_time": "2021-04-16T10:56:30.475559Z",
     "start_time": "2021-04-16T10:56:27.708044Z"
    }
   },
   "outputs": [
    {
     "name": "stdout",
     "output_type": "stream",
     "text": [
      "(5252, 701)\n",
      "False\n"
     ]
    },
    {
     "data": {
      "text/plain": [
       "['../feats/spectral_feats/joblib/X_dsc.joblib']"
      ]
     },
     "execution_count": 97,
     "metadata": {},
     "output_type": "execute_result"
    }
   ],
   "source": [
    "df_sc = pd.read_csv(\"../feats/spectral_feats/deltaSpectralCentroid.csv\", header=None)\n",
    "\n",
    "df_sc = df_sc.fillna(value = 0)\n",
    "sc = df_sc.values\n",
    "sc = sc.swapaxes(0,1)\n",
    "\n",
    "print(sc.shape)\n",
    "\n",
    "print(df_sc.isna().values.any())\n",
    "\n",
    "X_name = '../feats/spectral_feats/joblib/X_dsc.joblib'\n",
    "joblib.dump(sc, X_name)"
   ]
  },
  {
   "cell_type": "code",
   "execution_count": 98,
   "metadata": {
    "ExecuteTime": {
     "end_time": "2021-04-16T10:58:11.509560Z",
     "start_time": "2021-04-16T10:58:08.498139Z"
    }
   },
   "outputs": [
    {
     "name": "stdout",
     "output_type": "stream",
     "text": [
      "(5252, 701)\n",
      "False\n"
     ]
    },
    {
     "data": {
      "text/plain": [
       "['../feats/spectral_feats/joblib/X_dscrest.joblib']"
      ]
     },
     "execution_count": 98,
     "metadata": {},
     "output_type": "execute_result"
    }
   ],
   "source": [
    "df_screst = pd.read_csv(\"../feats/spectral_feats/deltaSpectralCrest.csv\", header=None)\n",
    "\n",
    "df_screst = df_screst.fillna(value = 0)\n",
    "screst = df_screst.values\n",
    "screst = screst.swapaxes(0,1)\n",
    "\n",
    "print(screst.shape)\n",
    "\n",
    "print(df_screst.isna().values.any())\n",
    "\n",
    "X_name = '../feats/spectral_feats/joblib/X_dscrest.joblib'\n",
    "joblib.dump(screst, X_name)"
   ]
  },
  {
   "cell_type": "code",
   "execution_count": 99,
   "metadata": {
    "ExecuteTime": {
     "end_time": "2021-04-16T10:58:32.819187Z",
     "start_time": "2021-04-16T10:58:30.198389Z"
    }
   },
   "outputs": [
    {
     "name": "stdout",
     "output_type": "stream",
     "text": [
      "(5252, 701)\n",
      "False\n"
     ]
    },
    {
     "data": {
      "text/plain": [
       "['../feats/spectral_feats/joblib/X_ddecr.joblib']"
      ]
     },
     "execution_count": 99,
     "metadata": {},
     "output_type": "execute_result"
    }
   ],
   "source": [
    "df_decr = pd.read_csv(\"../feats/spectral_feats/deltaSpectralDecrease.csv\", header=None)\n",
    "\n",
    "df_decr = df_decr.fillna(value = 0)\n",
    "decr = df_decr.values\n",
    "decr = decr.swapaxes(0,1)\n",
    "\n",
    "print(decr.shape)\n",
    "\n",
    "print(df_decr.isna().values.any())\n",
    "\n",
    "X_name = '../feats/spectral_feats/joblib/X_ddecr.joblib'\n",
    "joblib.dump(decr, X_name)"
   ]
  },
  {
   "cell_type": "code",
   "execution_count": 100,
   "metadata": {
    "ExecuteTime": {
     "end_time": "2021-04-16T10:58:51.782672Z",
     "start_time": "2021-04-16T10:58:49.022465Z"
    }
   },
   "outputs": [
    {
     "name": "stdout",
     "output_type": "stream",
     "text": [
      "(5252, 701)\n",
      "False\n"
     ]
    },
    {
     "data": {
      "text/plain": [
       "['../feats/spectral_feats/joblib/X_dentro.joblib']"
      ]
     },
     "execution_count": 100,
     "metadata": {},
     "output_type": "execute_result"
    }
   ],
   "source": [
    "df_entro = pd.read_csv(\"../feats/spectral_feats/deltaSpectralEntropy.csv\", header=None)\n",
    "\n",
    "df_entro = df_entro.fillna(value = 0)\n",
    "entro = df_entro.values\n",
    "entro = entro.swapaxes(0,1)\n",
    "\n",
    "print(entro.shape)\n",
    "\n",
    "print(df_entro.isna().values.any())\n",
    "\n",
    "X_name = '../feats/spectral_feats/joblib/X_dentro.joblib'\n",
    "joblib.dump(entro, X_name)"
   ]
  },
  {
   "cell_type": "code",
   "execution_count": 101,
   "metadata": {
    "ExecuteTime": {
     "end_time": "2021-04-16T10:59:16.989331Z",
     "start_time": "2021-04-16T10:59:14.280722Z"
    }
   },
   "outputs": [
    {
     "name": "stdout",
     "output_type": "stream",
     "text": [
      "(5252, 701)\n",
      "False\n"
     ]
    },
    {
     "data": {
      "text/plain": [
       "['../feats/spectral_feats/joblib/X_dflux.joblib']"
      ]
     },
     "execution_count": 101,
     "metadata": {},
     "output_type": "execute_result"
    }
   ],
   "source": [
    "df_flux = pd.read_csv(\"../feats/spectral_feats/deltaSpectralFlux.csv\", header=None)\n",
    "\n",
    "df_flux = df_flux.fillna(value = 0)\n",
    "flux = df_flux.values\n",
    "flux = flux.swapaxes(0,1)\n",
    "\n",
    "print(flux.shape)\n",
    "\n",
    "print(df_flux.isna().values.any())\n",
    "\n",
    "X_name = '../feats/spectral_feats/joblib/X_dflux.joblib'\n",
    "joblib.dump(flux, X_name)"
   ]
  },
  {
   "cell_type": "code",
   "execution_count": 102,
   "metadata": {
    "ExecuteTime": {
     "end_time": "2021-04-16T10:59:43.547843Z",
     "start_time": "2021-04-16T10:59:40.588007Z"
    }
   },
   "outputs": [
    {
     "name": "stdout",
     "output_type": "stream",
     "text": [
      "(5252, 701)\n",
      "False\n"
     ]
    },
    {
     "data": {
      "text/plain": [
       "['../feats/spectral_feats/joblib/X_dkurt.joblib']"
      ]
     },
     "execution_count": 102,
     "metadata": {},
     "output_type": "execute_result"
    }
   ],
   "source": [
    "df_kurt = pd.read_csv(\"../feats/spectral_feats/deltaSpectralKurtosis.csv\", header=None)\n",
    "\n",
    "df_kurt = df_kurt.fillna(value = 0)\n",
    "kurt = df_kurt.values\n",
    "kurt = kurt.swapaxes(0,1)\n",
    "\n",
    "print(kurt.shape)\n",
    "\n",
    "print(df_kurt.isna().values.any())\n",
    "\n",
    "X_name = '../feats/spectral_feats/joblib/X_dkurt.joblib'\n",
    "joblib.dump(kurt, X_name)"
   ]
  },
  {
   "cell_type": "code",
   "execution_count": 103,
   "metadata": {
    "ExecuteTime": {
     "end_time": "2021-04-16T11:00:04.177983Z",
     "start_time": "2021-04-16T11:00:00.760651Z"
    }
   },
   "outputs": [
    {
     "name": "stdout",
     "output_type": "stream",
     "text": [
      "(5252, 701)\n",
      "False\n"
     ]
    },
    {
     "data": {
      "text/plain": [
       "['../feats/spectral_feats/joblib/X_drop.joblib']"
      ]
     },
     "execution_count": 103,
     "metadata": {},
     "output_type": "execute_result"
    }
   ],
   "source": [
    "df_rop = pd.read_csv(\"../feats/spectral_feats/deltaSpectralRolloffPoint.csv\", header=None)\n",
    "\n",
    "df_rop = df_rop.fillna(value = 0)\n",
    "rop = df_rop.values\n",
    "rop = rop.swapaxes(0,1)\n",
    "\n",
    "print(rop.shape)\n",
    "\n",
    "print(df_rop.isna().values.any())\n",
    "\n",
    "X_name = '../feats/spectral_feats/joblib/X_drop.joblib'\n",
    "joblib.dump(rop, X_name)"
   ]
  },
  {
   "cell_type": "code",
   "execution_count": 104,
   "metadata": {
    "ExecuteTime": {
     "end_time": "2021-04-16T11:00:24.473432Z",
     "start_time": "2021-04-16T11:00:21.698921Z"
    }
   },
   "outputs": [
    {
     "name": "stdout",
     "output_type": "stream",
     "text": [
      "(5252, 701)\n",
      "False\n"
     ]
    },
    {
     "data": {
      "text/plain": [
       "['../feats/spectral_feats/joblib/X_dskwnss.joblib']"
      ]
     },
     "execution_count": 104,
     "metadata": {},
     "output_type": "execute_result"
    }
   ],
   "source": [
    "df_skwnss = pd.read_csv(\"../feats/spectral_feats/deltaSpectralSkewness.csv\", header=None)\n",
    "\n",
    "df_skwnss = df_skwnss.fillna(value = 0)\n",
    "skwnss = df_skwnss.values\n",
    "skwnss = skwnss.swapaxes(0,1)\n",
    "\n",
    "print(skwnss.shape)\n",
    "\n",
    "print(df_skwnss.isna().values.any())\n",
    "\n",
    "X_name = '../feats/spectral_feats/joblib/X_dskwnss.joblib'\n",
    "joblib.dump(skwnss, X_name)"
   ]
  },
  {
   "cell_type": "code",
   "execution_count": 105,
   "metadata": {
    "ExecuteTime": {
     "end_time": "2021-04-16T11:00:43.363591Z",
     "start_time": "2021-04-16T11:00:40.472520Z"
    }
   },
   "outputs": [
    {
     "name": "stdout",
     "output_type": "stream",
     "text": [
      "(5252, 701)\n",
      "False\n"
     ]
    },
    {
     "data": {
      "text/plain": [
       "['../feats/spectral_feats/joblib/X_dslope.joblib']"
      ]
     },
     "execution_count": 105,
     "metadata": {},
     "output_type": "execute_result"
    }
   ],
   "source": [
    "df_slope = pd.read_csv(\"../feats/spectral_feats/deltaSpectralSlope.csv\", header=None)\n",
    "\n",
    "df_slope = df_slope.fillna(value = 0)\n",
    "slope = df_slope.values\n",
    "slope = slope.swapaxes(0,1)\n",
    "\n",
    "print(slope.shape)\n",
    "\n",
    "print(df_slope.isna().values.any())\n",
    "\n",
    "X_name = '../feats/spectral_feats/joblib/X_dslope.joblib'\n",
    "joblib.dump(slope, X_name)"
   ]
  },
  {
   "cell_type": "code",
   "execution_count": 106,
   "metadata": {
    "ExecuteTime": {
     "end_time": "2021-04-16T11:01:06.246293Z",
     "start_time": "2021-04-16T11:01:03.625734Z"
    }
   },
   "outputs": [
    {
     "name": "stdout",
     "output_type": "stream",
     "text": [
      "(5252, 701)\n",
      "False\n"
     ]
    },
    {
     "data": {
      "text/plain": [
       "['../feats/spectral_feats/joblib/X_dspread.joblib']"
      ]
     },
     "execution_count": 106,
     "metadata": {},
     "output_type": "execute_result"
    }
   ],
   "source": [
    "df_spread = pd.read_csv(\"../feats/spectral_feats/deltaSpectralSpread.csv\", header=None)\n",
    "\n",
    "df_spread = df_spread.fillna(value = 0)\n",
    "spread = df_spread.values\n",
    "spread = spread.swapaxes(0,1)\n",
    "\n",
    "print(spread.shape)\n",
    "\n",
    "print(df_spread.isna().values.any())\n",
    "\n",
    "X_name = '../feats/spectral_feats/joblib/X_dspread.joblib'\n",
    "joblib.dump(spread, X_name)"
   ]
  },
  {
   "cell_type": "code",
   "execution_count": 107,
   "metadata": {
    "ExecuteTime": {
     "end_time": "2021-04-16T11:01:35.892970Z",
     "start_time": "2021-04-16T11:01:35.043686Z"
    }
   },
   "outputs": [],
   "source": [
    "yd = pd.read_csv(\"../feats/spectral_feats/y_delta.csv\", header=None)"
   ]
  },
  {
   "cell_type": "code",
   "execution_count": 108,
   "metadata": {
    "ExecuteTime": {
     "end_time": "2021-04-16T11:01:40.324157Z",
     "start_time": "2021-04-16T11:01:40.314478Z"
    }
   },
   "outputs": [
    {
     "data": {
      "text/plain": [
       "(1, 5252)"
      ]
     },
     "execution_count": 108,
     "metadata": {},
     "output_type": "execute_result"
    }
   ],
   "source": [
    "yd.shape"
   ]
  },
  {
   "cell_type": "code",
   "execution_count": 109,
   "metadata": {
    "ExecuteTime": {
     "end_time": "2021-04-16T11:02:05.916711Z",
     "start_time": "2021-04-16T11:02:05.909044Z"
    }
   },
   "outputs": [],
   "source": [
    "yd = yd.values\n",
    "yd = yd.swapaxes(0,1)"
   ]
  },
  {
   "cell_type": "code",
   "execution_count": 110,
   "metadata": {
    "ExecuteTime": {
     "end_time": "2021-04-16T11:02:06.012161Z",
     "start_time": "2021-04-16T11:02:06.003912Z"
    }
   },
   "outputs": [
    {
     "data": {
      "text/plain": [
       "(5252, 1)"
      ]
     },
     "execution_count": 110,
     "metadata": {},
     "output_type": "execute_result"
    }
   ],
   "source": [
    "yd.shape"
   ]
  },
  {
   "cell_type": "code",
   "execution_count": 111,
   "metadata": {
    "ExecuteTime": {
     "end_time": "2021-04-16T11:02:31.493182Z",
     "start_time": "2021-04-16T11:02:31.478362Z"
    }
   },
   "outputs": [
    {
     "data": {
      "text/plain": [
       "['../feats/spectral_feats/joblib/y_delta.joblib']"
      ]
     },
     "execution_count": 111,
     "metadata": {},
     "output_type": "execute_result"
    }
   ],
   "source": [
    "y_name = '../feats/spectral_feats/joblib/y_delta.joblib'\n",
    "joblib.dump(yd, y_name)"
   ]
  },
  {
   "cell_type": "markdown",
   "metadata": {},
   "source": [
    "# VGGish"
   ]
  },
  {
   "cell_type": "code",
   "execution_count": 113,
   "metadata": {
    "ExecuteTime": {
     "end_time": "2021-04-20T09:22:47.421461Z",
     "start_time": "2021-04-20T09:22:38.103388Z"
    }
   },
   "outputs": [],
   "source": [
    "df_vggish_y = pd.read_csv(\"../feats/vggish_feats/y_VGGish.csv\", header=None)"
   ]
  },
  {
   "cell_type": "code",
   "execution_count": 114,
   "metadata": {
    "ExecuteTime": {
     "end_time": "2021-04-20T09:22:58.258495Z",
     "start_time": "2021-04-20T09:22:57.932611Z"
    }
   },
   "outputs": [
    {
     "data": {
      "text/plain": [
       "(1, 5252)"
      ]
     },
     "execution_count": 114,
     "metadata": {},
     "output_type": "execute_result"
    }
   ],
   "source": [
    "df_vggish_y.shape"
   ]
  },
  {
   "cell_type": "code",
   "execution_count": 115,
   "metadata": {
    "ExecuteTime": {
     "end_time": "2021-04-20T09:23:59.307688Z",
     "start_time": "2021-04-20T09:23:59.234985Z"
    }
   },
   "outputs": [],
   "source": [
    "df_vggish_y = df_vggish_y.values\n",
    "df_vggish_y = df_vggish_y.swapaxes(0,1)"
   ]
  },
  {
   "cell_type": "code",
   "execution_count": 116,
   "metadata": {
    "ExecuteTime": {
     "end_time": "2021-04-20T09:23:59.927429Z",
     "start_time": "2021-04-20T09:23:59.903607Z"
    }
   },
   "outputs": [
    {
     "data": {
      "text/plain": [
       "(5252, 1)"
      ]
     },
     "execution_count": 116,
     "metadata": {},
     "output_type": "execute_result"
    }
   ],
   "source": [
    "df_vggish_y.shape"
   ]
  },
  {
   "cell_type": "code",
   "execution_count": 117,
   "metadata": {
    "ExecuteTime": {
     "end_time": "2021-04-20T09:24:37.282785Z",
     "start_time": "2021-04-20T09:24:36.854467Z"
    }
   },
   "outputs": [
    {
     "data": {
      "text/plain": [
       "['../feats/vggish_feats/y_vggish.joblib']"
      ]
     },
     "execution_count": 117,
     "metadata": {},
     "output_type": "execute_result"
    }
   ],
   "source": [
    "y_name = '../feats/vggish_feats/y_vggish.joblib'\n",
    "joblib.dump(df_vggish_y, y_name)"
   ]
  },
  {
   "cell_type": "code",
   "execution_count": 119,
   "metadata": {
    "ExecuteTime": {
     "end_time": "2021-04-20T09:30:29.140225Z",
     "start_time": "2021-04-20T09:30:24.531291Z"
    }
   },
   "outputs": [
    {
     "name": "stdout",
     "output_type": "stream",
     "text": [
      "(5252, 2048)\n",
      "False\n"
     ]
    }
   ],
   "source": [
    "df_x = pd.read_csv(\"../feats/vggish_feats/VGGish_feats.csv\", header=None)\n",
    "\n",
    "df_x = df_x.fillna(value = 0)\n",
    "x = df_x.values\n",
    "#x = x.swapaxes(0,1)\n",
    "\n",
    "print(x.shape)\n",
    "\n",
    "print(df_x.isna().values.any())\n",
    "\n",
    "#X_name = '../feats/vggish_feats/X_vggish.joblib'\n",
    "#joblib.dump(x, X_name)"
   ]
  },
  {
   "cell_type": "code",
   "execution_count": 121,
   "metadata": {
    "ExecuteTime": {
     "end_time": "2021-04-20T11:07:21.084883Z",
     "start_time": "2021-04-20T11:07:20.600825Z"
    }
   },
   "outputs": [
    {
     "data": {
      "text/plain": [
       "['../feats/vggish_feats/X_vggish.joblib']"
      ]
     },
     "execution_count": 121,
     "metadata": {},
     "output_type": "execute_result"
    }
   ],
   "source": [
    "X_name = '../feats/vggish_feats/X_vggish.joblib'\n",
    "joblib.dump(x, X_name)"
   ]
  },
  {
   "cell_type": "code",
   "execution_count": 122,
   "metadata": {
    "ExecuteTime": {
     "end_time": "2021-04-20T11:08:50.782813Z",
     "start_time": "2021-04-20T11:08:47.304272Z"
    }
   },
   "outputs": [
    {
     "name": "stdout",
     "output_type": "stream",
     "text": [
      "(5252, 1536)\n",
      "False\n"
     ]
    }
   ],
   "source": [
    "df_x = pd.read_csv(\"../feats/vggish_feats/VGGish_feats_padded_upsampling.csv\", header=None)\n",
    "\n",
    "df_x = df_x.fillna(value = 0)\n",
    "x = df_x.values\n",
    "#x = x.swapaxes(0,1)\n",
    "\n",
    "print(x.shape)\n",
    "\n",
    "print(df_x.isna().values.any())"
   ]
  },
  {
   "cell_type": "code",
   "execution_count": 123,
   "metadata": {
    "ExecuteTime": {
     "end_time": "2021-04-20T11:09:20.372151Z",
     "start_time": "2021-04-20T11:09:20.225634Z"
    }
   },
   "outputs": [
    {
     "data": {
      "text/plain": [
       "['../feats/vggish_feats/X_vggish_padded.joblib']"
      ]
     },
     "execution_count": 123,
     "metadata": {},
     "output_type": "execute_result"
    }
   ],
   "source": [
    "X_name = '../feats/vggish_feats/X_vggish_padded.joblib'\n",
    "joblib.dump(x, X_name)"
   ]
  },
  {
   "cell_type": "markdown",
   "metadata": {
    "heading_collapsed": true
   },
   "source": [
    "# playground"
   ]
  },
  {
   "cell_type": "code",
   "execution_count": 24,
   "metadata": {
    "ExecuteTime": {
     "end_time": "2021-04-15T13:01:54.556557Z",
     "start_time": "2021-04-15T13:01:51.345246Z"
    },
    "hidden": true
   },
   "outputs": [],
   "source": [
    "df_srp = pd.read_csv(\"../feats/spectral_feats/interpol/spectralCentroid.csv\", header=None)"
   ]
  },
  {
   "cell_type": "code",
   "execution_count": 25,
   "metadata": {
    "ExecuteTime": {
     "end_time": "2021-04-15T13:01:54.584674Z",
     "start_time": "2021-04-15T13:01:54.561775Z"
    },
    "hidden": true
   },
   "outputs": [
    {
     "data": {
      "text/plain": [
       "True"
      ]
     },
     "execution_count": 25,
     "metadata": {},
     "output_type": "execute_result"
    }
   ],
   "source": [
    "df_srp.isna().values.any()"
   ]
  },
  {
   "cell_type": "code",
   "execution_count": null,
   "metadata": {
    "hidden": true
   },
   "outputs": [],
   "source": []
  }
 ],
 "metadata": {
  "kernelspec": {
   "display_name": "Python 3",
   "language": "python",
   "name": "python3"
  },
  "language_info": {
   "codemirror_mode": {
    "name": "ipython",
    "version": 3
   },
   "file_extension": ".py",
   "mimetype": "text/x-python",
   "name": "python",
   "nbconvert_exporter": "python",
   "pygments_lexer": "ipython3",
   "version": "3.7.6"
  },
  "toc": {
   "base_numbering": 1,
   "nav_menu": {},
   "number_sections": false,
   "sideBar": true,
   "skip_h1_title": false,
   "title_cell": "Table of Contents",
   "title_sidebar": "Contents",
   "toc_cell": false,
   "toc_position": {},
   "toc_section_display": true,
   "toc_window_display": false
  }
 },
 "nbformat": 4,
 "nbformat_minor": 2
}
