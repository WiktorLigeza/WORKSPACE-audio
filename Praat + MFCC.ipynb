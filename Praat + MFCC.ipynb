{
 "cells": [
  {
   "cell_type": "code",
   "execution_count": 1,
   "metadata": {
    "ExecuteTime": {
     "end_time": "2021-04-03T15:09:33.833494Z",
     "start_time": "2021-04-03T15:09:29.214964Z"
    }
   },
   "outputs": [],
   "source": [
    "import json\n",
    "import numpy as np\n",
    "import os\n",
    "import math\n",
    "import librosa\n",
    "from sklearn.model_selection import train_test_split\n",
    "from Praat import Praat_IdeaLogic as PLogic\n",
    "import matplotlib.pyplot as plt\n",
    "from tqdm.notebook import tqdm\n",
    "import librosa.display\n",
    "import glob\n",
    "import joblib"
   ]
  },
  {
   "cell_type": "code",
   "execution_count": null,
   "metadata": {},
   "outputs": [],
   "source": [
    "def extract(audio_file):\n",
    "    name=os.path.basename(audio_file)\n",
    "    name=os.path.splitext(name)[0]\n",
    "    label = int(name[7:8]) - 1\n",
    "    \n",
    "    return label, audio_file\n",
    "    \n",
    "    \n",
    "def get_feats(audio_file):\n",
    "    X, sample_rate = librosa.load(audio_file,\n",
    "                                  res_type='kaiser_fast')\n",
    "    \n",
    "    # mfcc \n",
    "    mfccs = librosa.feature.mfcc(y=X, sr=sample_rate, n_mfcc=40)\n",
    "    # praat\n",
    "    praat = PLogic.get_sound_report(audio_file).to_numpy()[0]\n",
    "    \n",
    "    # augmentation\n",
    "    conc = np.concatenate((mfccs, praat))\n",
    "    conc = np.mean(conc.T, axis=0)\n",
    "    \n",
    "    return conc"
   ]
  },
  {
   "cell_type": "code",
   "execution_count": null,
   "metadata": {},
   "outputs": [],
   "source": [
    "def return_feats(dir_name):\n",
    "    X = []\n",
    "    y = []\n",
    "    err_cnt = 0\n",
    "    err_list = []\n",
    "    exeption_list = []\n",
    "    \n",
    "    #progression bar \n",
    "    file_count = len(dir_name)\n",
    "    bar = tqdm(desc=\"proccessing files\", total=file_count)\n",
    "    tot = 0\n",
    "    \n",
    "    for file in dir_name:\n",
    "        bar.update(1)\n",
    "        tot += 1\n",
    "        label, audio_file = extract(file)\n",
    "        \n",
    "        try:\n",
    "            X.append(get_feats(audio_file))\n",
    "            y.append(label)\n",
    "            \n",
    "        except Exception as e:\n",
    "            \n",
    "            err_cnt += 1\n",
    "            err_list.append(audio_file)\n",
    "            exeption_list.append(str(e))\n",
    "            print(\"{}.error at:\".format(err_cnt), audio_file)\n",
    "            \n",
    "        \n",
    "    return X, y, err_cnt, err_list, exeption_list"
   ]
  },
  {
   "cell_type": "code",
   "execution_count": null,
   "metadata": {},
   "outputs": [],
   "source": [
    "dir_name = glob.glob(\"toronto_ds/conc_data/*.wav\")\n",
    "#dir_name = glob.glob(\"Audio_Data/Actor_04/*.wav\")\n",
    "X, y,_,_,exception_list = return_feats(dir_name)\n",
    "\n",
    "#X = np.asarray(X)\n",
    "#y = np.asarray(y)\n",
    "\n",
    "X_name, y_name = 'Praat_Mfcc_feats/X.joblib', 'Praat_Mfcc_feats/y.joblib'\n",
    "X, y = np.asarray(X), np.asarray(y)\n",
    "y = np.asarray(y)\n",
    "joblib.dump(X, X_name)\n",
    "joblib.dump(y, y_name)"
   ]
  },
  {
   "cell_type": "code",
   "execution_count": null,
   "metadata": {},
   "outputs": [],
   "source": [
    "X = joblib.load(X_name)\n",
    "y = joblib.load(y_name)"
   ]
  }
 ],
 "metadata": {
  "kernelspec": {
   "display_name": "Python 3",
   "language": "python",
   "name": "python3"
  },
  "language_info": {
   "codemirror_mode": {
    "name": "ipython",
    "version": 3
   },
   "file_extension": ".py",
   "mimetype": "text/x-python",
   "name": "python",
   "nbconvert_exporter": "python",
   "pygments_lexer": "ipython3",
   "version": "3.7.6"
  },
  "toc": {
   "base_numbering": 1,
   "nav_menu": {},
   "number_sections": false,
   "sideBar": true,
   "skip_h1_title": false,
   "title_cell": "Table of Contents",
   "title_sidebar": "Contents",
   "toc_cell": false,
   "toc_position": {},
   "toc_section_display": true,
   "toc_window_display": false
  }
 },
 "nbformat": 4,
 "nbformat_minor": 2
}
